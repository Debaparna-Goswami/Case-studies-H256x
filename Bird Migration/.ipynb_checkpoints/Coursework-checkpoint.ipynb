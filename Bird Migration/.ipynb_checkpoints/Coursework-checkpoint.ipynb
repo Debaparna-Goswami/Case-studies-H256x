{
 "cells": [
  {
   "cell_type": "code",
   "execution_count": 1,
   "metadata": {},
   "outputs": [],
   "source": [
    "import pandas as pd"
   ]
  },
  {
   "cell_type": "code",
   "execution_count": 2,
   "metadata": {},
   "outputs": [],
   "source": [
    "birddata = pd.read_csv(\"bird_tracking.csv\")"
   ]
  },
  {
   "cell_type": "code",
   "execution_count": 3,
   "metadata": {},
   "outputs": [
    {
     "data": {
      "text/html": [
       "<div>\n",
       "<style scoped>\n",
       "    .dataframe tbody tr th:only-of-type {\n",
       "        vertical-align: middle;\n",
       "    }\n",
       "\n",
       "    .dataframe tbody tr th {\n",
       "        vertical-align: top;\n",
       "    }\n",
       "\n",
       "    .dataframe thead th {\n",
       "        text-align: right;\n",
       "    }\n",
       "</style>\n",
       "<table border=\"1\" class=\"dataframe\">\n",
       "  <thead>\n",
       "    <tr style=\"text-align: right;\">\n",
       "      <th></th>\n",
       "      <th>Unnamed: 0</th>\n",
       "      <th>altitude</th>\n",
       "      <th>date_time</th>\n",
       "      <th>device_info_serial</th>\n",
       "      <th>direction</th>\n",
       "      <th>latitude</th>\n",
       "      <th>longitude</th>\n",
       "      <th>speed_2d</th>\n",
       "      <th>bird_name</th>\n",
       "    </tr>\n",
       "  </thead>\n",
       "  <tbody>\n",
       "    <tr>\n",
       "      <th>0</th>\n",
       "      <td>0</td>\n",
       "      <td>71</td>\n",
       "      <td>2013-08-15 00:18:08+00</td>\n",
       "      <td>851</td>\n",
       "      <td>-150.469753</td>\n",
       "      <td>49.419860</td>\n",
       "      <td>2.120733</td>\n",
       "      <td>0.150000</td>\n",
       "      <td>Eric</td>\n",
       "    </tr>\n",
       "    <tr>\n",
       "      <th>1</th>\n",
       "      <td>1</td>\n",
       "      <td>68</td>\n",
       "      <td>2013-08-15 00:48:07+00</td>\n",
       "      <td>851</td>\n",
       "      <td>-136.151141</td>\n",
       "      <td>49.419880</td>\n",
       "      <td>2.120746</td>\n",
       "      <td>2.438360</td>\n",
       "      <td>Eric</td>\n",
       "    </tr>\n",
       "    <tr>\n",
       "      <th>2</th>\n",
       "      <td>2</td>\n",
       "      <td>68</td>\n",
       "      <td>2013-08-15 01:17:58+00</td>\n",
       "      <td>851</td>\n",
       "      <td>160.797477</td>\n",
       "      <td>49.420310</td>\n",
       "      <td>2.120885</td>\n",
       "      <td>0.596657</td>\n",
       "      <td>Eric</td>\n",
       "    </tr>\n",
       "    <tr>\n",
       "      <th>3</th>\n",
       "      <td>3</td>\n",
       "      <td>73</td>\n",
       "      <td>2013-08-15 01:47:51+00</td>\n",
       "      <td>851</td>\n",
       "      <td>32.769360</td>\n",
       "      <td>49.420359</td>\n",
       "      <td>2.120859</td>\n",
       "      <td>0.310161</td>\n",
       "      <td>Eric</td>\n",
       "    </tr>\n",
       "    <tr>\n",
       "      <th>4</th>\n",
       "      <td>4</td>\n",
       "      <td>69</td>\n",
       "      <td>2013-08-15 02:17:42+00</td>\n",
       "      <td>851</td>\n",
       "      <td>45.191230</td>\n",
       "      <td>49.420331</td>\n",
       "      <td>2.120887</td>\n",
       "      <td>0.193132</td>\n",
       "      <td>Eric</td>\n",
       "    </tr>\n",
       "  </tbody>\n",
       "</table>\n",
       "</div>"
      ],
      "text/plain": [
       "   Unnamed: 0  altitude               date_time  device_info_serial  \\\n",
       "0           0        71  2013-08-15 00:18:08+00                 851   \n",
       "1           1        68  2013-08-15 00:48:07+00                 851   \n",
       "2           2        68  2013-08-15 01:17:58+00                 851   \n",
       "3           3        73  2013-08-15 01:47:51+00                 851   \n",
       "4           4        69  2013-08-15 02:17:42+00                 851   \n",
       "\n",
       "    direction   latitude  longitude  speed_2d bird_name  \n",
       "0 -150.469753  49.419860   2.120733  0.150000      Eric  \n",
       "1 -136.151141  49.419880   2.120746  2.438360      Eric  \n",
       "2  160.797477  49.420310   2.120885  0.596657      Eric  \n",
       "3   32.769360  49.420359   2.120859  0.310161      Eric  \n",
       "4   45.191230  49.420331   2.120887  0.193132      Eric  "
      ]
     },
     "execution_count": 3,
     "metadata": {},
     "output_type": "execute_result"
    }
   ],
   "source": [
    "birddata.head()"
   ]
  },
  {
   "cell_type": "code",
   "execution_count": 4,
   "metadata": {},
   "outputs": [
    {
     "name": "stdout",
     "output_type": "stream",
     "text": [
      "<class 'pandas.core.frame.DataFrame'>\n",
      "RangeIndex: 61920 entries, 0 to 61919\n",
      "Data columns (total 9 columns):\n",
      " #   Column              Non-Null Count  Dtype  \n",
      "---  ------              --------------  -----  \n",
      " 0   Unnamed: 0          61920 non-null  int64  \n",
      " 1   altitude            61920 non-null  int64  \n",
      " 2   date_time           61920 non-null  object \n",
      " 3   device_info_serial  61920 non-null  int64  \n",
      " 4   direction           61477 non-null  float64\n",
      " 5   latitude            61920 non-null  float64\n",
      " 6   longitude           61920 non-null  float64\n",
      " 7   speed_2d            61477 non-null  float64\n",
      " 8   bird_name           61920 non-null  object \n",
      "dtypes: float64(4), int64(3), object(2)\n",
      "memory usage: 4.3+ MB\n"
     ]
    }
   ],
   "source": [
    "birddata.info()"
   ]
  },
  {
   "cell_type": "code",
   "execution_count": 5,
   "metadata": {},
   "outputs": [],
   "source": [
    " birddata.drop(\"Unnamed: 0\",axis = 1,inplace = True)"
   ]
  },
  {
   "cell_type": "code",
   "execution_count": 6,
   "metadata": {},
   "outputs": [
    {
     "name": "stdout",
     "output_type": "stream",
     "text": [
      "<class 'pandas.core.frame.DataFrame'>\n",
      "RangeIndex: 61920 entries, 0 to 61919\n",
      "Data columns (total 8 columns):\n",
      " #   Column              Non-Null Count  Dtype  \n",
      "---  ------              --------------  -----  \n",
      " 0   altitude            61920 non-null  int64  \n",
      " 1   date_time           61920 non-null  object \n",
      " 2   device_info_serial  61920 non-null  int64  \n",
      " 3   direction           61477 non-null  float64\n",
      " 4   latitude            61920 non-null  float64\n",
      " 5   longitude           61920 non-null  float64\n",
      " 6   speed_2d            61477 non-null  float64\n",
      " 7   bird_name           61920 non-null  object \n",
      "dtypes: float64(4), int64(2), object(2)\n",
      "memory usage: 3.8+ MB\n"
     ]
    }
   ],
   "source": [
    "birddata.info()"
   ]
  },
  {
   "cell_type": "code",
   "execution_count": 7,
   "metadata": {},
   "outputs": [],
   "source": [
    "import matplotlib.pyplot as plt"
   ]
  },
  {
   "cell_type": "code",
   "execution_count": 8,
   "metadata": {},
   "outputs": [],
   "source": [
    "import numpy as np"
   ]
  },
  {
   "cell_type": "code",
   "execution_count": 9,
   "metadata": {},
   "outputs": [],
   "source": [
    "l = birddata.bird_name.unique()"
   ]
  },
  {
   "cell_type": "code",
   "execution_count": 10,
   "metadata": {},
   "outputs": [
    {
     "data": {
      "text/plain": [
       "array(['Eric', 'Nico', 'Sanne'], dtype=object)"
      ]
     },
     "execution_count": 10,
     "metadata": {},
     "output_type": "execute_result"
    }
   ],
   "source": [
    "l"
   ]
  },
  {
   "cell_type": "code",
   "execution_count": 11,
   "metadata": {},
   "outputs": [],
   "source": [
    "eric = birddata[birddata[\"bird_name\"]==\"Eric\"]"
   ]
  },
  {
   "cell_type": "code",
   "execution_count": 12,
   "metadata": {},
   "outputs": [
    {
     "data": {
      "text/plain": [
       "array(['Eric', 'Nico', 'Sanne'], dtype=object)"
      ]
     },
     "execution_count": 12,
     "metadata": {},
     "output_type": "execute_result"
    }
   ],
   "source": [
    "l"
   ]
  },
  {
   "cell_type": "code",
   "execution_count": 13,
   "metadata": {},
   "outputs": [],
   "source": [
    "x,y = eric.longitude,eric.latitude"
   ]
  },
  {
   "cell_type": "code",
   "execution_count": 14,
   "metadata": {},
   "outputs": [
    {
     "data": {
      "application/vnd.jupyter.widget-view+json": {
       "model_id": "36f474d5c4584849ac9ab6957de12974",
       "version_major": 2,
       "version_minor": 0
      },
      "text/plain": [
       "Canvas(toolbar=Toolbar(toolitems=[('Home', 'Reset original view', 'home', 'home'), ('Back', 'Back to previous …"
      ]
     },
     "metadata": {},
     "output_type": "display_data"
    },
    {
     "data": {
      "text/plain": [
       "[<matplotlib.lines.Line2D at 0x7f362295f6d0>]"
      ]
     },
     "execution_count": 14,
     "metadata": {},
     "output_type": "execute_result"
    }
   ],
   "source": [
    "%matplotlib widget\n",
    "plt.figure(figsize = (10,10))\n",
    "plt.plot(x,y,\"bs\")\n",
    "# plt.savefig(\"eric.pdf\")\n"
   ]
  },
  {
   "cell_type": "code",
   "execution_count": 15,
   "metadata": {},
   "outputs": [
    {
     "data": {
      "application/vnd.jupyter.widget-view+json": {
       "model_id": "503b9aa1fbc844f4b9c07f006aa3fbd8",
       "version_major": 2,
       "version_minor": 0
      },
      "text/plain": [
       "Canvas(toolbar=Toolbar(toolitems=[('Home', 'Reset original view', 'home', 'home'), ('Back', 'Back to previous …"
      ]
     },
     "metadata": {},
     "output_type": "display_data"
    }
   ],
   "source": [
    "\n",
    "plt.figure(figsize = (40,40))\n",
    "\n",
    "for char in l:\n",
    "    bird = birddata[birddata[\"bird_name\"]==char]\n",
    "    x,y = bird.longitude,bird.latitude\n",
    "    plt.plot(x,y,\".\",label = char) # you need labels to put a legend\n",
    "    plt.legend(char)\n",
    "plt.xlabel(\"Longitude\")\n",
    "plt.ylabel(\"Latitude\")\n",
    "plt.legend(loc= \"upper left\")\n",
    "plt.savefig(\"Bird_flight_patterns.pdf\")\n"
   ]
  },
  {
   "cell_type": "code",
   "execution_count": 16,
   "metadata": {},
   "outputs": [
    {
     "data": {
      "text/plain": [
       "0        0.150000\n",
       "1        2.438360\n",
       "2        0.596657\n",
       "3        0.310161\n",
       "4        0.193132\n",
       "           ...   \n",
       "19790    0.064031\n",
       "19791    1.942395\n",
       "19792    1.678392\n",
       "19793    0.208087\n",
       "19794    0.056569\n",
       "Name: speed_2d, Length: 19795, dtype: float64"
      ]
     },
     "execution_count": 16,
     "metadata": {},
     "output_type": "execute_result"
    }
   ],
   "source": [
    "eric_speed = birddata[birddata[\"bird_name\"]==\"Eric\"][\"speed_2d\"]\n",
    "eric_speed"
   ]
  },
  {
   "cell_type": "code",
   "execution_count": 17,
   "metadata": {},
   "outputs": [
    {
     "data": {
      "application/vnd.jupyter.widget-view+json": {
       "model_id": "7d6b94cf3f7f4670aed44b3f31a7d51d",
       "version_major": 2,
       "version_minor": 0
      },
      "text/plain": [
       "Canvas(toolbar=Toolbar(toolitems=[('Home', 'Reset original view', 'home', 'home'), ('Back', 'Back to previous …"
      ]
     },
     "metadata": {},
     "output_type": "display_data"
    },
    {
     "data": {
      "text/plain": [
       "(array([3., 1., 0., 0., 1., 2., 2., 0., 0., 1.]),\n",
       " array([0.15      , 0.59422108, 1.03844216, 1.48266324, 1.92688432,\n",
       "        2.3711054 , 2.81532648, 3.25954756, 3.70376864, 4.14798972,\n",
       "        4.5922108 ]),\n",
       " <a list of 10 Patch objects>)"
      ]
     },
     "execution_count": 17,
     "metadata": {},
     "output_type": "execute_result"
    }
   ],
   "source": [
    "plt.figure(figsize=(10,10))\n",
    "plt.hist(eric_speed[:10],ec = \"black\")\n"
   ]
  },
  {
   "cell_type": "code",
   "execution_count": 18,
   "metadata": {},
   "outputs": [
    {
     "data": {
      "text/plain": [
       "219     NaN\n",
       "1005    NaN\n",
       "1231    NaN\n",
       "1254    NaN\n",
       "1530    NaN\n",
       "         ..\n",
       "19620   NaN\n",
       "19621   NaN\n",
       "19753   NaN\n",
       "19771   NaN\n",
       "19778   NaN\n",
       "Name: speed_2d, Length: 85, dtype: float64"
      ]
     },
     "execution_count": 18,
     "metadata": {},
     "output_type": "execute_result"
    }
   ],
   "source": [
    "eric_speed[np.isnan(eric_speed)] # 85 entries are not numbers"
   ]
  },
  {
   "cell_type": "code",
   "execution_count": 19,
   "metadata": {},
   "outputs": [
    {
     "data": {
      "text/plain": [
       "True"
      ]
     },
     "execution_count": 19,
     "metadata": {},
     "output_type": "execute_result"
    }
   ],
   "source": [
    "np.isnan(eric_speed).any()"
   ]
  },
  {
   "cell_type": "code",
   "execution_count": 20,
   "metadata": {},
   "outputs": [
    {
     "name": "stderr",
     "output_type": "stream",
     "text": [
      "/home/debaparna/anaconda3/lib/python3.7/site-packages/pandas/core/series.py:4495: SettingWithCopyWarning: \n",
      "A value is trying to be set on a copy of a slice from a DataFrame\n",
      "\n",
      "See the caveats in the documentation: https://pandas.pydata.org/pandas-docs/stable/user_guide/indexing.html#returning-a-view-versus-a-copy\n",
      "  self._update_inplace(result)\n"
     ]
    }
   ],
   "source": [
    "eric_speed.dropna(inplace = True) # dropped Nan values"
   ]
  },
  {
   "cell_type": "code",
   "execution_count": 21,
   "metadata": {},
   "outputs": [
    {
     "data": {
      "text/plain": [
       "0        0.150000\n",
       "1        2.438360\n",
       "2        0.596657\n",
       "3        0.310161\n",
       "4        0.193132\n",
       "           ...   \n",
       "19790    0.064031\n",
       "19791    1.942395\n",
       "19792    1.678392\n",
       "19793    0.208087\n",
       "19794    0.056569\n",
       "Name: speed_2d, Length: 19710, dtype: float64"
      ]
     },
     "execution_count": 21,
     "metadata": {},
     "output_type": "execute_result"
    }
   ],
   "source": [
    "eric_speed"
   ]
  },
  {
   "cell_type": "code",
   "execution_count": 22,
   "metadata": {},
   "outputs": [
    {
     "data": {
      "application/vnd.jupyter.widget-view+json": {
       "model_id": "80155fe4523244b2a36c75808c848c64",
       "version_major": 2,
       "version_minor": 0
      },
      "text/plain": [
       "Canvas(toolbar=Toolbar(toolitems=[('Home', 'Reset original view', 'home', 'home'), ('Back', 'Back to previous …"
      ]
     },
     "metadata": {},
     "output_type": "display_data"
    }
   ],
   "source": [
    "plt.figure()\n",
    "plt.hist(eric_speed,bins= np.linspace(0,30,20),density= True,ec = \"black\") # remember the \"ec\" parameter\n",
    "plt.xlabel(\"Speed in m/s\")\n",
    "plt.ylabel(\"Frequency\")\n",
    "plt.savefig(\"speed.pdf\")\n"
   ]
  },
  {
   "cell_type": "code",
   "execution_count": 23,
   "metadata": {},
   "outputs": [
    {
     "data": {
      "application/vnd.jupyter.widget-view+json": {
       "model_id": "cdb2b873f4874f23a1637c48a36028a9",
       "version_major": 2,
       "version_minor": 0
      },
      "text/plain": [
       "Canvas(toolbar=Toolbar(toolitems=[('Home', 'Reset original view', 'home', 'home'), ('Back', 'Back to previous …"
      ]
     },
     "metadata": {},
     "output_type": "display_data"
    }
   ],
   "source": [
    "plt.figure(figsize = (10,10))\n",
    "birddata.speed_2d.plot(kind = \"hist\",range= [0,30],density = True,color = \"red\",ec = \"black\")\n",
    "plt.xlabel(\"Speed in m/s\")\n",
    "plt.ylabel(\"Frequency\")\n",
    "plt.savefig(\"Birds_speed.pdf\")\n",
    "plt.close()"
   ]
  },
  {
   "cell_type": "code",
   "execution_count": 24,
   "metadata": {},
   "outputs": [
    {
     "name": "stdout",
     "output_type": "stream",
     "text": [
      "<class 'pandas.core.frame.DataFrame'>\n",
      "RangeIndex: 61920 entries, 0 to 61919\n",
      "Data columns (total 8 columns):\n",
      " #   Column              Non-Null Count  Dtype  \n",
      "---  ------              --------------  -----  \n",
      " 0   altitude            61920 non-null  int64  \n",
      " 1   date_time           61920 non-null  object \n",
      " 2   device_info_serial  61920 non-null  int64  \n",
      " 3   direction           61477 non-null  float64\n",
      " 4   latitude            61920 non-null  float64\n",
      " 5   longitude           61920 non-null  float64\n",
      " 6   speed_2d            61477 non-null  float64\n",
      " 7   bird_name           61920 non-null  object \n",
      "dtypes: float64(4), int64(2), object(2)\n",
      "memory usage: 3.8+ MB\n"
     ]
    }
   ],
   "source": [
    "birddata.info()"
   ]
  },
  {
   "cell_type": "code",
   "execution_count": 25,
   "metadata": {},
   "outputs": [
    {
     "data": {
      "text/plain": [
       "0        2013-08-15 00:18:08+00\n",
       "1        2013-08-15 00:48:07+00\n",
       "2        2013-08-15 01:17:58+00\n",
       "3        2013-08-15 01:47:51+00\n",
       "4        2013-08-15 02:17:42+00\n",
       "                  ...          \n",
       "61915    2014-04-30 22:00:08+00\n",
       "61916    2014-04-30 22:29:57+00\n",
       "61917    2014-04-30 22:59:52+00\n",
       "61918    2014-04-30 23:29:43+00\n",
       "61919    2014-04-30 23:59:34+00\n",
       "Name: date_time, Length: 61920, dtype: object"
      ]
     },
     "execution_count": 25,
     "metadata": {},
     "output_type": "execute_result"
    }
   ],
   "source": [
    "birddata.date_time"
   ]
  },
  {
   "cell_type": "code",
   "execution_count": 26,
   "metadata": {},
   "outputs": [],
   "source": [
    "import datetime"
   ]
  },
  {
   "cell_type": "code",
   "execution_count": 27,
   "metadata": {},
   "outputs": [
    {
     "data": {
      "text/plain": [
       "datetime.datetime(2020, 4, 22, 2, 33, 27, 568232)"
      ]
     },
     "execution_count": 27,
     "metadata": {},
     "output_type": "execute_result"
    }
   ],
   "source": [
    "datetime.datetime.today()"
   ]
  },
  {
   "cell_type": "code",
   "execution_count": 28,
   "metadata": {},
   "outputs": [],
   "source": [
    "time_1 = datetime.datetime.today()"
   ]
  },
  {
   "cell_type": "code",
   "execution_count": 29,
   "metadata": {},
   "outputs": [],
   "source": [
    "time_2  =datetime.datetime.today()"
   ]
  },
  {
   "cell_type": "code",
   "execution_count": 30,
   "metadata": {},
   "outputs": [
    {
     "data": {
      "text/plain": [
       "datetime.timedelta(microseconds=213322)"
      ]
     },
     "execution_count": 30,
     "metadata": {},
     "output_type": "execute_result"
    }
   ],
   "source": [
    "time_2-time_1"
   ]
  },
  {
   "cell_type": "code",
   "execution_count": 31,
   "metadata": {},
   "outputs": [],
   "source": [
    "date_str = birddata.date_time[0]"
   ]
  },
  {
   "cell_type": "code",
   "execution_count": 32,
   "metadata": {},
   "outputs": [
    {
     "data": {
      "text/plain": [
       "str"
      ]
     },
     "execution_count": 32,
     "metadata": {},
     "output_type": "execute_result"
    }
   ],
   "source": [
    "type(date_str)"
   ]
  },
  {
   "cell_type": "code",
   "execution_count": 33,
   "metadata": {},
   "outputs": [
    {
     "data": {
      "text/plain": [
       "'2013-08-15 00:18:08+00'"
      ]
     },
     "execution_count": 33,
     "metadata": {},
     "output_type": "execute_result"
    }
   ],
   "source": [
    "date_str"
   ]
  },
  {
   "cell_type": "code",
   "execution_count": 34,
   "metadata": {},
   "outputs": [
    {
     "data": {
      "text/plain": [
       "datetime.datetime(2013, 8, 15, 0, 18, 8)"
      ]
     },
     "execution_count": 34,
     "metadata": {},
     "output_type": "execute_result"
    }
   ],
   "source": [
    "datetime.datetime.strptime(date_str[:-3],\"%Y-%m-%d %H:%M:%S\") # no need to include hours +00 offset i.e. UTC"
   ]
  },
  {
   "cell_type": "code",
   "execution_count": 35,
   "metadata": {},
   "outputs": [],
   "source": [
    "timestamped_data = []\n",
    "for char in birddata.date_time:\n",
    "    date_str = char[:-3]\n",
    "    timestamped_data.append(datetime.datetime.strptime(date_str,\"%Y-%m-%d %H:%M:%S\"))\n",
    "    "
   ]
  },
  {
   "cell_type": "code",
   "execution_count": 36,
   "metadata": {},
   "outputs": [
    {
     "data": {
      "text/plain": [
       "[datetime.datetime(2013, 8, 15, 0, 18, 8),\n",
       " datetime.datetime(2013, 8, 15, 0, 48, 7),\n",
       " datetime.datetime(2013, 8, 15, 1, 17, 58),\n",
       " datetime.datetime(2013, 8, 15, 1, 47, 51),\n",
       " datetime.datetime(2013, 8, 15, 2, 17, 42)]"
      ]
     },
     "execution_count": 36,
     "metadata": {},
     "output_type": "execute_result"
    }
   ],
   "source": [
    "timestamped_data[:5]"
   ]
  },
  {
   "cell_type": "code",
   "execution_count": 37,
   "metadata": {},
   "outputs": [],
   "source": [
    "timestamps = pd.DataFrame(timestamped_data)"
   ]
  },
  {
   "cell_type": "code",
   "execution_count": 38,
   "metadata": {},
   "outputs": [],
   "source": [
    "birddata[\"timestamps\"]=timestamps"
   ]
  },
  {
   "cell_type": "code",
   "execution_count": 39,
   "metadata": {},
   "outputs": [
    {
     "name": "stdout",
     "output_type": "stream",
     "text": [
      "<class 'pandas.core.frame.DataFrame'>\n",
      "RangeIndex: 61920 entries, 0 to 61919\n",
      "Data columns (total 9 columns):\n",
      " #   Column              Non-Null Count  Dtype         \n",
      "---  ------              --------------  -----         \n",
      " 0   altitude            61920 non-null  int64         \n",
      " 1   date_time           61920 non-null  object        \n",
      " 2   device_info_serial  61920 non-null  int64         \n",
      " 3   direction           61477 non-null  float64       \n",
      " 4   latitude            61920 non-null  float64       \n",
      " 5   longitude           61920 non-null  float64       \n",
      " 6   speed_2d            61477 non-null  float64       \n",
      " 7   bird_name           61920 non-null  object        \n",
      " 8   timestamps          61920 non-null  datetime64[ns]\n",
      "dtypes: datetime64[ns](1), float64(4), int64(2), object(2)\n",
      "memory usage: 4.3+ MB\n"
     ]
    }
   ],
   "source": [
    "birddata.info()"
   ]
  },
  {
   "cell_type": "code",
   "execution_count": 40,
   "metadata": {},
   "outputs": [
    {
     "data": {
      "text/html": [
       "<div>\n",
       "<style scoped>\n",
       "    .dataframe tbody tr th:only-of-type {\n",
       "        vertical-align: middle;\n",
       "    }\n",
       "\n",
       "    .dataframe tbody tr th {\n",
       "        vertical-align: top;\n",
       "    }\n",
       "\n",
       "    .dataframe thead th {\n",
       "        text-align: right;\n",
       "    }\n",
       "</style>\n",
       "<table border=\"1\" class=\"dataframe\">\n",
       "  <thead>\n",
       "    <tr style=\"text-align: right;\">\n",
       "      <th></th>\n",
       "      <th>altitude</th>\n",
       "      <th>date_time</th>\n",
       "      <th>device_info_serial</th>\n",
       "      <th>direction</th>\n",
       "      <th>latitude</th>\n",
       "      <th>longitude</th>\n",
       "      <th>speed_2d</th>\n",
       "      <th>bird_name</th>\n",
       "      <th>timestamps</th>\n",
       "    </tr>\n",
       "  </thead>\n",
       "  <tbody>\n",
       "    <tr>\n",
       "      <th>0</th>\n",
       "      <td>71</td>\n",
       "      <td>2013-08-15 00:18:08+00</td>\n",
       "      <td>851</td>\n",
       "      <td>-150.469753</td>\n",
       "      <td>49.419860</td>\n",
       "      <td>2.120733</td>\n",
       "      <td>0.150000</td>\n",
       "      <td>Eric</td>\n",
       "      <td>2013-08-15 00:18:08</td>\n",
       "    </tr>\n",
       "    <tr>\n",
       "      <th>1</th>\n",
       "      <td>68</td>\n",
       "      <td>2013-08-15 00:48:07+00</td>\n",
       "      <td>851</td>\n",
       "      <td>-136.151141</td>\n",
       "      <td>49.419880</td>\n",
       "      <td>2.120746</td>\n",
       "      <td>2.438360</td>\n",
       "      <td>Eric</td>\n",
       "      <td>2013-08-15 00:48:07</td>\n",
       "    </tr>\n",
       "    <tr>\n",
       "      <th>2</th>\n",
       "      <td>68</td>\n",
       "      <td>2013-08-15 01:17:58+00</td>\n",
       "      <td>851</td>\n",
       "      <td>160.797477</td>\n",
       "      <td>49.420310</td>\n",
       "      <td>2.120885</td>\n",
       "      <td>0.596657</td>\n",
       "      <td>Eric</td>\n",
       "      <td>2013-08-15 01:17:58</td>\n",
       "    </tr>\n",
       "    <tr>\n",
       "      <th>3</th>\n",
       "      <td>73</td>\n",
       "      <td>2013-08-15 01:47:51+00</td>\n",
       "      <td>851</td>\n",
       "      <td>32.769360</td>\n",
       "      <td>49.420359</td>\n",
       "      <td>2.120859</td>\n",
       "      <td>0.310161</td>\n",
       "      <td>Eric</td>\n",
       "      <td>2013-08-15 01:47:51</td>\n",
       "    </tr>\n",
       "    <tr>\n",
       "      <th>4</th>\n",
       "      <td>69</td>\n",
       "      <td>2013-08-15 02:17:42+00</td>\n",
       "      <td>851</td>\n",
       "      <td>45.191230</td>\n",
       "      <td>49.420331</td>\n",
       "      <td>2.120887</td>\n",
       "      <td>0.193132</td>\n",
       "      <td>Eric</td>\n",
       "      <td>2013-08-15 02:17:42</td>\n",
       "    </tr>\n",
       "  </tbody>\n",
       "</table>\n",
       "</div>"
      ],
      "text/plain": [
       "   altitude               date_time  device_info_serial   direction  \\\n",
       "0        71  2013-08-15 00:18:08+00                 851 -150.469753   \n",
       "1        68  2013-08-15 00:48:07+00                 851 -136.151141   \n",
       "2        68  2013-08-15 01:17:58+00                 851  160.797477   \n",
       "3        73  2013-08-15 01:47:51+00                 851   32.769360   \n",
       "4        69  2013-08-15 02:17:42+00                 851   45.191230   \n",
       "\n",
       "    latitude  longitude  speed_2d bird_name          timestamps  \n",
       "0  49.419860   2.120733  0.150000      Eric 2013-08-15 00:18:08  \n",
       "1  49.419880   2.120746  2.438360      Eric 2013-08-15 00:48:07  \n",
       "2  49.420310   2.120885  0.596657      Eric 2013-08-15 01:17:58  \n",
       "3  49.420359   2.120859  0.310161      Eric 2013-08-15 01:47:51  \n",
       "4  49.420331   2.120887  0.193132      Eric 2013-08-15 02:17:42  "
      ]
     },
     "execution_count": 40,
     "metadata": {},
     "output_type": "execute_result"
    }
   ],
   "source": [
    "birddata.head()"
   ]
  },
  {
   "cell_type": "code",
   "execution_count": 41,
   "metadata": {},
   "outputs": [
    {
     "data": {
      "text/plain": [
       "Timedelta('0 days 00:29:59')"
      ]
     },
     "execution_count": 41,
     "metadata": {},
     "output_type": "execute_result"
    }
   ],
   "source": [
    "birddata.timestamps[1]-birddata.timestamps[0]"
   ]
  },
  {
   "cell_type": "code",
   "execution_count": 42,
   "metadata": {},
   "outputs": [],
   "source": [
    "eric = birddata[birddata[\"bird_name\"]==\"Eric\"]"
   ]
  },
  {
   "cell_type": "code",
   "execution_count": 43,
   "metadata": {},
   "outputs": [],
   "source": [
    "elapsing_time = [time-eric.timestamps[0] for time in eric.timestamps]"
   ]
  },
  {
   "cell_type": "code",
   "execution_count": 44,
   "metadata": {},
   "outputs": [],
   "source": [
    "# for n in range(len(eric)):\n",
    "#     elapsing_time.append(eric.timestamps[n]-eric.timestamps[0])"
   ]
  },
  {
   "cell_type": "code",
   "execution_count": 45,
   "metadata": {},
   "outputs": [
    {
     "data": {
      "text/plain": [
       "[Timedelta('0 days 00:00:00'),\n",
       " Timedelta('0 days 00:29:59'),\n",
       " Timedelta('0 days 00:59:50'),\n",
       " Timedelta('0 days 01:29:43'),\n",
       " Timedelta('0 days 01:59:34'),\n",
       " Timedelta('0 days 02:29:30'),\n",
       " Timedelta('0 days 02:44:25'),\n",
       " Timedelta('0 days 02:59:19'),\n",
       " Timedelta('0 days 03:14:27'),\n",
       " Timedelta('0 days 03:29:40'),\n",
       " Timedelta('0 days 03:45:31'),\n",
       " Timedelta('0 days 04:00:32'),\n",
       " Timedelta('0 days 04:15:45'),\n",
       " Timedelta('0 days 04:30:58'),\n",
       " Timedelta('0 days 04:46:37'),\n",
       " Timedelta('0 days 05:02:01'),\n",
       " Timedelta('0 days 05:16:56'),\n",
       " Timedelta('0 days 05:31:50'),\n",
       " Timedelta('0 days 05:46:48'),\n",
       " Timedelta('0 days 06:01:46'),\n",
       " Timedelta('0 days 06:16:42'),\n",
       " Timedelta('0 days 06:31:35'),\n",
       " Timedelta('0 days 06:46:32'),\n",
       " Timedelta('0 days 07:01:27'),\n",
       " Timedelta('0 days 07:16:23'),\n",
       " Timedelta('0 days 07:31:21'),\n",
       " Timedelta('0 days 07:46:48'),\n",
       " Timedelta('0 days 08:01:44'),\n",
       " Timedelta('0 days 08:16:39'),\n",
       " Timedelta('0 days 08:31:43'),\n",
       " Timedelta('0 days 08:46:55'),\n",
       " Timedelta('0 days 09:01:59'),\n",
       " Timedelta('0 days 09:16:55'),\n",
       " Timedelta('0 days 09:31:53'),\n",
       " Timedelta('0 days 09:46:47'),\n",
       " Timedelta('0 days 10:01:43'),\n",
       " Timedelta('0 days 10:16:43'),\n",
       " Timedelta('0 days 10:31:37'),\n",
       " Timedelta('0 days 10:46:35'),\n",
       " Timedelta('0 days 11:02:00'),\n",
       " Timedelta('0 days 11:16:57'),\n",
       " Timedelta('0 days 11:31:58'),\n",
       " Timedelta('0 days 11:46:58'),\n",
       " Timedelta('0 days 12:03:39'),\n",
       " Timedelta('0 days 12:18:35'),\n",
       " Timedelta('0 days 12:33:26'),\n",
       " Timedelta('0 days 12:48:22'),\n",
       " Timedelta('0 days 13:03:23'),\n",
       " Timedelta('0 days 13:18:48'),\n",
       " Timedelta('0 days 13:33:43'),\n",
       " Timedelta('0 days 13:48:40'),\n",
       " Timedelta('0 days 14:03:48'),\n",
       " Timedelta('0 days 14:19:19'),\n",
       " Timedelta('0 days 14:34:18'),\n",
       " Timedelta('0 days 14:49:13'),\n",
       " Timedelta('0 days 15:04:07'),\n",
       " Timedelta('0 days 15:19:14'),\n",
       " Timedelta('0 days 15:34:25'),\n",
       " Timedelta('0 days 15:49:38'),\n",
       " Timedelta('0 days 16:04:49'),\n",
       " Timedelta('0 days 16:20:02'),\n",
       " Timedelta('0 days 16:35:13'),\n",
       " Timedelta('0 days 16:50:26'),\n",
       " Timedelta('0 days 17:05:39'),\n",
       " Timedelta('0 days 17:21:57'),\n",
       " Timedelta('0 days 17:38:01'),\n",
       " Timedelta('0 days 17:52:55'),\n",
       " Timedelta('0 days 18:07:51'),\n",
       " Timedelta('0 days 18:22:47'),\n",
       " Timedelta('0 days 18:37:43'),\n",
       " Timedelta('0 days 18:53:01'),\n",
       " Timedelta('0 days 19:07:53'),\n",
       " Timedelta('0 days 19:22:48'),\n",
       " Timedelta('0 days 19:38:00'),\n",
       " Timedelta('0 days 19:52:56'),\n",
       " Timedelta('0 days 20:07:53'),\n",
       " Timedelta('0 days 20:22:47'),\n",
       " Timedelta('0 days 20:37:43'),\n",
       " Timedelta('0 days 21:07:36'),\n",
       " Timedelta('0 days 21:37:28'),\n",
       " Timedelta('0 days 22:07:54'),\n",
       " Timedelta('0 days 22:37:44'),\n",
       " Timedelta('0 days 23:07:38'),\n",
       " Timedelta('0 days 23:37:57'),\n",
       " Timedelta('1 days 00:07:53'),\n",
       " Timedelta('1 days 00:37:43'),\n",
       " Timedelta('1 days 01:07:38'),\n",
       " Timedelta('1 days 01:37:28'),\n",
       " Timedelta('1 days 02:08:34'),\n",
       " Timedelta('1 days 02:38:32'),\n",
       " Timedelta('1 days 02:53:30'),\n",
       " Timedelta('1 days 03:08:26'),\n",
       " Timedelta('1 days 03:23:54'),\n",
       " Timedelta('1 days 03:38:48'),\n",
       " Timedelta('1 days 03:53:45'),\n",
       " Timedelta('1 days 04:08:41'),\n",
       " Timedelta('1 days 04:23:50'),\n",
       " Timedelta('1 days 04:39:03'),\n",
       " Timedelta('1 days 04:54:31'),\n",
       " Timedelta('1 days 05:09:48'),\n",
       " Timedelta('1 days 05:24:41'),\n",
       " Timedelta('1 days 05:39:40'),\n",
       " Timedelta('1 days 05:55:00'),\n",
       " Timedelta('1 days 06:09:59'),\n",
       " Timedelta('1 days 06:24:56'),\n",
       " Timedelta('1 days 06:39:51'),\n",
       " Timedelta('1 days 06:54:47'),\n",
       " Timedelta('1 days 07:09:53'),\n",
       " Timedelta('1 days 07:24:57'),\n",
       " Timedelta('1 days 07:39:52'),\n",
       " Timedelta('1 days 07:54:49'),\n",
       " Timedelta('1 days 08:09:44'),\n",
       " Timedelta('1 days 08:24:39'),\n",
       " Timedelta('1 days 08:39:35'),\n",
       " Timedelta('1 days 08:54:31'),\n",
       " Timedelta('1 days 09:10:00'),\n",
       " Timedelta('1 days 09:24:55'),\n",
       " Timedelta('1 days 09:39:54'),\n",
       " Timedelta('1 days 09:54:50'),\n",
       " Timedelta('1 days 10:09:46'),\n",
       " Timedelta('1 days 10:24:41'),\n",
       " Timedelta('1 days 10:39:37'),\n",
       " Timedelta('1 days 10:54:36'),\n",
       " Timedelta('1 days 11:09:30'),\n",
       " Timedelta('1 days 11:24:25'),\n",
       " Timedelta('1 days 11:39:21'),\n",
       " Timedelta('1 days 11:54:48'),\n",
       " Timedelta('1 days 12:09:43'),\n",
       " Timedelta('1 days 12:24:41'),\n",
       " Timedelta('1 days 12:39:42'),\n",
       " Timedelta('1 days 12:54:38'),\n",
       " Timedelta('1 days 13:09:27'),\n",
       " Timedelta('1 days 13:24:25'),\n",
       " Timedelta('1 days 13:39:20'),\n",
       " Timedelta('1 days 13:54:48'),\n",
       " Timedelta('1 days 14:10:17'),\n",
       " Timedelta('1 days 14:25:12'),\n",
       " Timedelta('1 days 14:40:07'),\n",
       " Timedelta('1 days 14:55:03'),\n",
       " Timedelta('1 days 15:10:02'),\n",
       " Timedelta('1 days 15:24:58'),\n",
       " Timedelta('1 days 15:40:20'),\n",
       " Timedelta('1 days 15:55:19'),\n",
       " Timedelta('1 days 16:10:15'),\n",
       " Timedelta('1 days 16:25:11'),\n",
       " Timedelta('1 days 16:40:09'),\n",
       " Timedelta('1 days 16:55:03'),\n",
       " Timedelta('1 days 17:10:01'),\n",
       " Timedelta('1 days 17:24:58'),\n",
       " Timedelta('1 days 17:40:08'),\n",
       " Timedelta('1 days 17:55:30'),\n",
       " Timedelta('1 days 18:10:31'),\n",
       " Timedelta('1 days 18:25:31'),\n",
       " Timedelta('1 days 18:40:25'),\n",
       " Timedelta('1 days 18:55:22'),\n",
       " Timedelta('1 days 19:10:15'),\n",
       " Timedelta('1 days 19:25:13'),\n",
       " Timedelta('1 days 19:40:29'),\n",
       " Timedelta('1 days 19:55:19'),\n",
       " Timedelta('1 days 20:10:15'),\n",
       " Timedelta('1 days 20:25:11'),\n",
       " Timedelta('1 days 20:40:07'),\n",
       " Timedelta('1 days 21:10:11'),\n",
       " Timedelta('1 days 21:40:09'),\n",
       " Timedelta('1 days 22:10:30'),\n",
       " Timedelta('1 days 22:40:23'),\n",
       " Timedelta('1 days 23:10:16'),\n",
       " Timedelta('1 days 23:40:10'),\n",
       " Timedelta('2 days 00:09:59'),\n",
       " Timedelta('2 days 00:39:52'),\n",
       " Timedelta('2 days 01:09:46'),\n",
       " Timedelta('2 days 01:39:37'),\n",
       " Timedelta('2 days 02:10:35'),\n",
       " Timedelta('2 days 02:40:34'),\n",
       " Timedelta('2 days 02:55:37'),\n",
       " Timedelta('2 days 03:10:32'),\n",
       " Timedelta('2 days 03:25:39'),\n",
       " Timedelta('2 days 03:40:51'),\n",
       " Timedelta('2 days 03:56:10'),\n",
       " Timedelta('2 days 04:11:31'),\n",
       " Timedelta('2 days 04:26:45'),\n",
       " Timedelta('2 days 04:42:19'),\n",
       " Timedelta('2 days 04:57:13'),\n",
       " Timedelta('2 days 05:12:07'),\n",
       " Timedelta('2 days 05:27:03'),\n",
       " Timedelta('2 days 05:42:31'),\n",
       " Timedelta('2 days 05:57:32'),\n",
       " Timedelta('2 days 06:12:55'),\n",
       " Timedelta('2 days 06:27:52'),\n",
       " Timedelta('2 days 06:42:49'),\n",
       " Timedelta('2 days 06:57:54'),\n",
       " Timedelta('2 days 07:13:28'),\n",
       " Timedelta('2 days 07:28:28'),\n",
       " Timedelta('2 days 07:43:19'),\n",
       " Timedelta('2 days 07:58:15'),\n",
       " Timedelta('2 days 08:13:12'),\n",
       " Timedelta('2 days 08:28:11'),\n",
       " Timedelta('2 days 08:43:04'),\n",
       " Timedelta('2 days 08:58:04'),\n",
       " Timedelta('2 days 09:31:43'),\n",
       " Timedelta('2 days 09:46:33'),\n",
       " Timedelta('2 days 10:01:27'),\n",
       " Timedelta('2 days 10:16:24'),\n",
       " Timedelta('2 days 10:31:27'),\n",
       " Timedelta('2 days 10:46:29'),\n",
       " Timedelta('2 days 11:02:10'),\n",
       " Timedelta('2 days 11:17:23'),\n",
       " Timedelta('2 days 11:32:49'),\n",
       " Timedelta('2 days 11:48:58'),\n",
       " Timedelta('2 days 12:04:01'),\n",
       " Timedelta('2 days 12:19:14'),\n",
       " Timedelta('2 days 12:34:22'),\n",
       " Timedelta('2 days 12:49:13'),\n",
       " Timedelta('2 days 13:04:12'),\n",
       " Timedelta('2 days 13:19:16'),\n",
       " Timedelta('2 days 13:34:49'),\n",
       " Timedelta('2 days 13:50:18'),\n",
       " Timedelta('2 days 14:05:31'),\n",
       " Timedelta('2 days 14:20:24'),\n",
       " Timedelta('2 days 14:35:20'),\n",
       " Timedelta('2 days 14:50:55'),\n",
       " Timedelta('2 days 15:05:56'),\n",
       " Timedelta('2 days 15:21:31'),\n",
       " Timedelta('2 days 15:36:25'),\n",
       " Timedelta('2 days 15:51:20'),\n",
       " Timedelta('2 days 16:06:17'),\n",
       " Timedelta('2 days 16:21:13'),\n",
       " Timedelta('2 days 16:36:09'),\n",
       " Timedelta('2 days 16:51:05'),\n",
       " Timedelta('2 days 17:05:59'),\n",
       " Timedelta('2 days 17:20:56'),\n",
       " Timedelta('2 days 17:35:51'),\n",
       " Timedelta('2 days 17:51:18'),\n",
       " Timedelta('2 days 18:06:22'),\n",
       " Timedelta('2 days 18:21:12'),\n",
       " Timedelta('2 days 18:36:09'),\n",
       " Timedelta('2 days 18:51:05'),\n",
       " Timedelta('2 days 19:06:01'),\n",
       " Timedelta('2 days 19:20:57'),\n",
       " Timedelta('2 days 19:36:24'),\n",
       " Timedelta('2 days 19:51:55'),\n",
       " Timedelta('2 days 20:06:48'),\n",
       " Timedelta('2 days 20:21:43'),\n",
       " Timedelta('2 days 20:36:39'),\n",
       " Timedelta('2 days 21:06:32'),\n",
       " Timedelta('2 days 21:36:24'),\n",
       " Timedelta('2 days 22:06:18'),\n",
       " Timedelta('2 days 22:36:10'),\n",
       " Timedelta('2 days 23:06:11'),\n",
       " Timedelta('2 days 23:36:30'),\n",
       " Timedelta('3 days 00:06:17'),\n",
       " Timedelta('3 days 00:36:09'),\n",
       " Timedelta('3 days 01:06:00'),\n",
       " Timedelta('3 days 01:35:52'),\n",
       " Timedelta('3 days 02:06:18'),\n",
       " Timedelta('3 days 02:36:07'),\n",
       " Timedelta('3 days 02:51:04'),\n",
       " Timedelta('3 days 03:05:59'),\n",
       " Timedelta('3 days 03:20:57'),\n",
       " Timedelta('3 days 03:35:52'),\n",
       " Timedelta('3 days 03:50:47'),\n",
       " Timedelta('3 days 04:05:53'),\n",
       " Timedelta('3 days 04:21:11'),\n",
       " Timedelta('3 days 04:37:40'),\n",
       " Timedelta('3 days 04:52:49'),\n",
       " Timedelta('3 days 05:08:27'),\n",
       " Timedelta('3 days 05:23:54'),\n",
       " Timedelta('3 days 05:38:51'),\n",
       " Timedelta('3 days 05:53:46'),\n",
       " Timedelta('3 days 06:08:42'),\n",
       " Timedelta('3 days 06:23:39'),\n",
       " Timedelta('3 days 06:38:35'),\n",
       " Timedelta('3 days 06:53:27'),\n",
       " Timedelta('3 days 07:08:27'),\n",
       " Timedelta('3 days 07:23:20'),\n",
       " Timedelta('3 days 07:40:01'),\n",
       " Timedelta('3 days 07:55:52'),\n",
       " Timedelta('3 days 08:10:47'),\n",
       " Timedelta('3 days 08:25:45'),\n",
       " Timedelta('3 days 08:40:39'),\n",
       " Timedelta('3 days 08:55:38'),\n",
       " Timedelta('3 days 09:10:32'),\n",
       " Timedelta('3 days 09:25:29'),\n",
       " Timedelta('3 days 09:40:26'),\n",
       " Timedelta('3 days 09:55:19'),\n",
       " Timedelta('3 days 10:10:16'),\n",
       " Timedelta('3 days 10:25:11'),\n",
       " Timedelta('3 days 10:40:11'),\n",
       " Timedelta('3 days 10:56:01'),\n",
       " Timedelta('3 days 11:25:59'),\n",
       " Timedelta('3 days 11:40:56'),\n",
       " Timedelta('3 days 11:55:53'),\n",
       " Timedelta('3 days 12:11:23'),\n",
       " Timedelta('3 days 12:26:16'),\n",
       " Timedelta('3 days 12:41:13'),\n",
       " Timedelta('3 days 12:56:10'),\n",
       " Timedelta('3 days 13:11:08'),\n",
       " Timedelta('3 days 13:26:04'),\n",
       " Timedelta('3 days 13:40:57'),\n",
       " Timedelta('3 days 13:55:55'),\n",
       " Timedelta('3 days 14:10:48'),\n",
       " Timedelta('3 days 14:26:18'),\n",
       " Timedelta('3 days 14:41:11'),\n",
       " Timedelta('3 days 14:56:07'),\n",
       " Timedelta('3 days 15:11:05'),\n",
       " Timedelta('3 days 15:26:11'),\n",
       " Timedelta('3 days 15:41:22'),\n",
       " Timedelta('3 days 15:56:26'),\n",
       " Timedelta('3 days 16:11:21'),\n",
       " Timedelta('3 days 16:26:29'),\n",
       " Timedelta('3 days 16:41:32'),\n",
       " Timedelta('3 days 16:56:24'),\n",
       " Timedelta('3 days 17:11:27'),\n",
       " Timedelta('3 days 17:26:16'),\n",
       " Timedelta('3 days 17:41:23'),\n",
       " Timedelta('3 days 17:57:00'),\n",
       " Timedelta('3 days 18:12:03'),\n",
       " Timedelta('3 days 18:27:16'),\n",
       " Timedelta('3 days 18:42:16'),\n",
       " Timedelta('3 days 18:57:15'),\n",
       " Timedelta('3 days 19:12:09'),\n",
       " Timedelta('3 days 19:27:05'),\n",
       " Timedelta('3 days 19:42:14'),\n",
       " Timedelta('3 days 19:57:22'),\n",
       " Timedelta('3 days 20:12:36'),\n",
       " Timedelta('3 days 20:28:01'),\n",
       " Timedelta('3 days 20:58:00'),\n",
       " Timedelta('3 days 21:27:53'),\n",
       " Timedelta('3 days 21:57:46'),\n",
       " Timedelta('3 days 22:27:37'),\n",
       " Timedelta('3 days 22:57:28'),\n",
       " Timedelta('3 days 23:27:22'),\n",
       " Timedelta('3 days 23:57:54'),\n",
       " Timedelta('4 days 00:28:02'),\n",
       " Timedelta('4 days 00:58:01'),\n",
       " Timedelta('4 days 01:27:52'),\n",
       " Timedelta('4 days 01:57:44'),\n",
       " Timedelta('4 days 02:27:39'),\n",
       " Timedelta('4 days 02:44:02'),\n",
       " Timedelta('4 days 02:59:11'),\n",
       " Timedelta('4 days 03:14:30'),\n",
       " Timedelta('4 days 03:29:28'),\n",
       " Timedelta('4 days 03:44:41'),\n",
       " Timedelta('4 days 03:59:40'),\n",
       " Timedelta('4 days 04:14:34'),\n",
       " Timedelta('4 days 04:29:39'),\n",
       " Timedelta('4 days 04:45:01'),\n",
       " Timedelta('4 days 04:59:56'),\n",
       " Timedelta('4 days 05:14:47'),\n",
       " Timedelta('4 days 05:30:21'),\n",
       " Timedelta('4 days 05:45:11'),\n",
       " Timedelta('4 days 06:00:08'),\n",
       " Timedelta('4 days 06:15:06'),\n",
       " Timedelta('4 days 06:30:00'),\n",
       " Timedelta('4 days 06:44:56'),\n",
       " Timedelta('4 days 06:59:54'),\n",
       " Timedelta('4 days 07:15:18'),\n",
       " Timedelta('4 days 07:30:15'),\n",
       " Timedelta('4 days 07:45:13'),\n",
       " Timedelta('4 days 08:00:10'),\n",
       " Timedelta('4 days 08:15:06'),\n",
       " Timedelta('4 days 08:29:59'),\n",
       " Timedelta('4 days 08:45:31'),\n",
       " Timedelta('4 days 09:00:24'),\n",
       " Timedelta('4 days 09:15:20'),\n",
       " Timedelta('4 days 09:30:19'),\n",
       " Timedelta('4 days 09:45:14'),\n",
       " Timedelta('4 days 10:00:09'),\n",
       " Timedelta('4 days 10:15:07'),\n",
       " Timedelta('4 days 10:30:41'),\n",
       " Timedelta('4 days 10:46:30'),\n",
       " Timedelta('4 days 11:01:29'),\n",
       " Timedelta('4 days 11:16:34'),\n",
       " Timedelta('4 days 11:32:27'),\n",
       " Timedelta('4 days 11:47:20'),\n",
       " Timedelta('4 days 12:02:18'),\n",
       " Timedelta('4 days 12:17:15'),\n",
       " Timedelta('4 days 12:32:07'),\n",
       " Timedelta('4 days 12:47:06'),\n",
       " Timedelta('4 days 13:02:11'),\n",
       " Timedelta('4 days 13:17:27'),\n",
       " Timedelta('4 days 13:33:00'),\n",
       " Timedelta('4 days 13:48:48'),\n",
       " Timedelta('4 days 14:04:05'),\n",
       " Timedelta('4 days 14:19:05'),\n",
       " Timedelta('4 days 14:33:59'),\n",
       " Timedelta('4 days 14:48:58'),\n",
       " Timedelta('4 days 15:03:53'),\n",
       " Timedelta('4 days 15:18:48'),\n",
       " Timedelta('4 days 15:33:46'),\n",
       " Timedelta('4 days 15:48:40'),\n",
       " Timedelta('4 days 16:03:36'),\n",
       " Timedelta('4 days 16:18:32'),\n",
       " Timedelta('4 days 16:34:01'),\n",
       " Timedelta('4 days 16:48:55'),\n",
       " Timedelta('4 days 17:03:52'),\n",
       " Timedelta('4 days 17:18:49'),\n",
       " Timedelta('4 days 17:33:45'),\n",
       " Timedelta('4 days 17:48:40'),\n",
       " Timedelta('4 days 18:03:36'),\n",
       " Timedelta('4 days 18:18:33'),\n",
       " Timedelta('4 days 18:33:34'),\n",
       " Timedelta('4 days 18:48:27'),\n",
       " Timedelta('4 days 19:03:20'),\n",
       " Timedelta('4 days 19:18:47'),\n",
       " Timedelta('4 days 19:33:44'),\n",
       " Timedelta('4 days 19:48:41'),\n",
       " Timedelta('4 days 20:03:39'),\n",
       " Timedelta('4 days 20:18:32'),\n",
       " Timedelta('4 days 20:33:42'),\n",
       " Timedelta('4 days 21:03:47'),\n",
       " Timedelta('4 days 21:33:46'),\n",
       " Timedelta('4 days 22:04:00'),\n",
       " Timedelta('4 days 22:34:00'),\n",
       " Timedelta('4 days 23:03:53'),\n",
       " Timedelta('4 days 23:33:55'),\n",
       " Timedelta('5 days 00:04:10'),\n",
       " Timedelta('5 days 00:34:29'),\n",
       " Timedelta('5 days 01:04:26'),\n",
       " Timedelta('5 days 01:34:18'),\n",
       " Timedelta('5 days 02:04:09'),\n",
       " Timedelta('5 days 02:34:01'),\n",
       " Timedelta('5 days 02:48:59'),\n",
       " Timedelta('5 days 03:04:04'),\n",
       " Timedelta('5 days 03:19:19'),\n",
       " Timedelta('5 days 03:34:31'),\n",
       " Timedelta('5 days 03:50:18'),\n",
       " Timedelta('5 days 04:05:13'),\n",
       " Timedelta('5 days 04:20:08'),\n",
       " Timedelta('5 days 04:35:51'),\n",
       " Timedelta('5 days 04:50:58'),\n",
       " Timedelta('5 days 05:06:01'),\n",
       " Timedelta('5 days 05:20:59'),\n",
       " Timedelta('5 days 05:36:24'),\n",
       " Timedelta('5 days 05:51:55'),\n",
       " Timedelta('5 days 06:06:49'),\n",
       " Timedelta('5 days 06:21:43'),\n",
       " Timedelta('5 days 06:36:39'),\n",
       " Timedelta('5 days 06:51:36'),\n",
       " Timedelta('5 days 07:06:31'),\n",
       " Timedelta('5 days 07:21:29'),\n",
       " Timedelta('5 days 07:36:25'),\n",
       " Timedelta('5 days 07:51:20'),\n",
       " Timedelta('5 days 08:06:16'),\n",
       " Timedelta('5 days 08:21:12'),\n",
       " Timedelta('5 days 08:36:30'),\n",
       " Timedelta('5 days 08:51:20'),\n",
       " Timedelta('5 days 09:06:17'),\n",
       " Timedelta('5 days 09:21:14'),\n",
       " Timedelta('5 days 09:36:11'),\n",
       " Timedelta('5 days 09:51:09'),\n",
       " Timedelta('5 days 10:05:59'),\n",
       " Timedelta('5 days 10:20:56'),\n",
       " Timedelta('5 days 10:36:09'),\n",
       " Timedelta('5 days 10:51:30'),\n",
       " Timedelta('5 days 11:06:32'),\n",
       " Timedelta('5 days 11:21:29'),\n",
       " Timedelta('5 days 11:36:24'),\n",
       " Timedelta('5 days 11:51:20'),\n",
       " Timedelta('5 days 12:06:17'),\n",
       " Timedelta('5 days 12:21:30'),\n",
       " Timedelta('5 days 12:37:18'),\n",
       " Timedelta('5 days 12:52:31'),\n",
       " Timedelta('5 days 13:07:20'),\n",
       " Timedelta('5 days 13:22:17'),\n",
       " Timedelta('5 days 13:37:14'),\n",
       " Timedelta('5 days 13:52:09'),\n",
       " Timedelta('5 days 14:07:06'),\n",
       " Timedelta('5 days 14:22:53'),\n",
       " Timedelta('5 days 14:37:44'),\n",
       " Timedelta('5 days 14:53:00'),\n",
       " Timedelta('5 days 15:08:10'),\n",
       " Timedelta('5 days 15:23:31'),\n",
       " Timedelta('5 days 15:38:32'),\n",
       " Timedelta('5 days 15:53:28'),\n",
       " Timedelta('5 days 16:08:25'),\n",
       " Timedelta('5 days 16:23:27'),\n",
       " Timedelta('5 days 16:38:16'),\n",
       " Timedelta('5 days 16:53:12'),\n",
       " Timedelta('5 days 17:08:09'),\n",
       " Timedelta('5 days 17:23:05'),\n",
       " Timedelta('5 days 17:38:01'),\n",
       " Timedelta('5 days 17:53:40'),\n",
       " Timedelta('5 days 18:08:57'),\n",
       " Timedelta('5 days 18:23:53'),\n",
       " Timedelta('5 days 18:38:50'),\n",
       " Timedelta('5 days 18:53:45'),\n",
       " Timedelta('5 days 19:08:40'),\n",
       " Timedelta('5 days 19:23:36'),\n",
       " Timedelta('5 days 19:38:49'),\n",
       " Timedelta('5 days 19:53:55'),\n",
       " Timedelta('5 days 20:08:56'),\n",
       " Timedelta('5 days 20:23:52'),\n",
       " Timedelta('5 days 20:39:01'),\n",
       " Timedelta('5 days 21:09:09'),\n",
       " Timedelta('5 days 21:39:27'),\n",
       " Timedelta('5 days 23:09:41'),\n",
       " Timedelta('5 days 23:40:00'),\n",
       " Timedelta('6 days 00:10:00'),\n",
       " Timedelta('6 days 00:39:52'),\n",
       " Timedelta('6 days 01:09:45'),\n",
       " Timedelta('6 days 01:39:38'),\n",
       " Timedelta('6 days 02:10:00'),\n",
       " Timedelta('6 days 02:39:53'),\n",
       " Timedelta('6 days 02:54:49'),\n",
       " Timedelta('6 days 03:09:44'),\n",
       " Timedelta('6 days 03:24:40'),\n",
       " Timedelta('6 days 03:39:37'),\n",
       " Timedelta('6 days 03:54:33'),\n",
       " Timedelta('6 days 04:09:31'),\n",
       " Timedelta('6 days 04:25:01'),\n",
       " Timedelta('6 days 04:39:55'),\n",
       " Timedelta('6 days 04:54:51'),\n",
       " Timedelta('6 days 05:09:45'),\n",
       " Timedelta('6 days 05:24:40'),\n",
       " Timedelta('6 days 05:40:00'),\n",
       " Timedelta('6 days 05:55:07'),\n",
       " Timedelta('6 days 06:10:05'),\n",
       " Timedelta('6 days 06:25:02'),\n",
       " Timedelta('6 days 06:39:54'),\n",
       " Timedelta('6 days 06:55:02'),\n",
       " Timedelta('6 days 07:10:11'),\n",
       " Timedelta('6 days 07:25:23'),\n",
       " Timedelta('6 days 07:40:24'),\n",
       " Timedelta('6 days 07:56:04'),\n",
       " Timedelta('6 days 08:11:15'),\n",
       " Timedelta('6 days 08:26:28'),\n",
       " Timedelta('6 days 08:42:19'),\n",
       " Timedelta('6 days 08:57:13'),\n",
       " Timedelta('6 days 09:12:08'),\n",
       " Timedelta('6 days 09:27:19'),\n",
       " Timedelta('6 days 09:42:57'),\n",
       " Timedelta('6 days 09:58:04'),\n",
       " Timedelta('6 days 10:12:58'),\n",
       " Timedelta('6 days 10:27:59'),\n",
       " Timedelta('6 days 10:42:49'),\n",
       " Timedelta('6 days 10:57:43'),\n",
       " Timedelta('6 days 11:12:45'),\n",
       " Timedelta('6 days 11:27:36'),\n",
       " Timedelta('6 days 11:42:34'),\n",
       " Timedelta('6 days 11:58:18'),\n",
       " Timedelta('6 days 12:13:30'),\n",
       " Timedelta('6 days 12:29:00'),\n",
       " Timedelta('6 days 12:43:52'),\n",
       " Timedelta('6 days 12:58:48'),\n",
       " Timedelta('6 days 13:13:45'),\n",
       " Timedelta('6 days 13:28:41'),\n",
       " Timedelta('6 days 13:43:37'),\n",
       " Timedelta('6 days 13:58:36'),\n",
       " Timedelta('6 days 14:13:39'),\n",
       " Timedelta('6 days 14:28:41'),\n",
       " Timedelta('6 days 14:44:11'),\n",
       " Timedelta('6 days 14:59:17'),\n",
       " Timedelta('6 days 15:14:28'),\n",
       " Timedelta('6 days 15:29:42'),\n",
       " Timedelta('6 days 15:44:57'),\n",
       " Timedelta('6 days 15:59:56'),\n",
       " Timedelta('6 days 16:14:52'),\n",
       " Timedelta('6 days 16:29:58'),\n",
       " Timedelta('6 days 16:45:08'),\n",
       " Timedelta('6 days 17:00:30'),\n",
       " Timedelta('6 days 17:15:22'),\n",
       " Timedelta('6 days 17:30:16'),\n",
       " Timedelta('6 days 17:45:12'),\n",
       " Timedelta('6 days 18:00:12'),\n",
       " Timedelta('6 days 18:15:07'),\n",
       " Timedelta('6 days 18:30:14'),\n",
       " Timedelta('6 days 18:45:30'),\n",
       " Timedelta('6 days 19:00:27'),\n",
       " Timedelta('6 days 19:16:24'),\n",
       " Timedelta('6 days 19:31:20'),\n",
       " Timedelta('6 days 19:46:29'),\n",
       " Timedelta('6 days 20:01:29'),\n",
       " Timedelta('6 days 20:16:53'),\n",
       " Timedelta('6 days 20:31:52'),\n",
       " Timedelta('6 days 21:01:45'),\n",
       " Timedelta('6 days 21:31:37'),\n",
       " Timedelta('6 days 22:02:00'),\n",
       " Timedelta('6 days 22:31:52'),\n",
       " Timedelta('6 days 23:01:49'),\n",
       " Timedelta('6 days 23:31:41'),\n",
       " Timedelta('7 days 00:01:39'),\n",
       " Timedelta('7 days 00:32:01'),\n",
       " Timedelta('7 days 01:02:01'),\n",
       " Timedelta('7 days 01:31:55'),\n",
       " Timedelta('7 days 02:01:45'),\n",
       " Timedelta('7 days 02:31:37'),\n",
       " Timedelta('7 days 02:46:33'),\n",
       " Timedelta('7 days 03:01:56'),\n",
       " Timedelta('7 days 03:16:56'),\n",
       " Timedelta('7 days 03:31:52'),\n",
       " Timedelta('7 days 03:46:49'),\n",
       " Timedelta('7 days 04:01:44'),\n",
       " Timedelta('7 days 04:16:45'),\n",
       " Timedelta('7 days 04:31:38'),\n",
       " Timedelta('7 days 04:46:36'),\n",
       " Timedelta('7 days 05:01:28'),\n",
       " Timedelta('7 days 05:16:25'),\n",
       " Timedelta('7 days 05:31:21'),\n",
       " Timedelta('7 days 05:46:48'),\n",
       " Timedelta('7 days 06:01:47'),\n",
       " Timedelta('7 days 06:16:52'),\n",
       " Timedelta('7 days 06:32:05'),\n",
       " Timedelta('7 days 06:47:16'),\n",
       " Timedelta('7 days 07:02:20'),\n",
       " Timedelta('7 days 07:17:14'),\n",
       " Timedelta('7 days 07:32:10'),\n",
       " Timedelta('7 days 07:47:17'),\n",
       " Timedelta('7 days 08:02:30'),\n",
       " Timedelta('7 days 08:18:01'),\n",
       " Timedelta('7 days 08:32:56'),\n",
       " Timedelta('7 days 08:47:53'),\n",
       " Timedelta('7 days 09:02:57'),\n",
       " Timedelta('7 days 09:18:03'),\n",
       " Timedelta('7 days 09:33:03'),\n",
       " Timedelta('7 days 09:47:52'),\n",
       " Timedelta('7 days 10:02:49'),\n",
       " Timedelta('7 days 10:17:57'),\n",
       " Timedelta('7 days 10:33:10'),\n",
       " Timedelta('7 days 10:48:40'),\n",
       " Timedelta('7 days 11:04:24'),\n",
       " Timedelta('7 days 11:19:22'),\n",
       " Timedelta('7 days 11:34:19'),\n",
       " Timedelta('7 days 11:50:00'),\n",
       " Timedelta('7 days 12:19:59'),\n",
       " Timedelta('7 days 12:34:54'),\n",
       " Timedelta('7 days 12:49:52'),\n",
       " Timedelta('7 days 13:04:43'),\n",
       " Timedelta('7 days 13:20:00'),\n",
       " Timedelta('7 days 13:35:06'),\n",
       " Timedelta('7 days 13:50:06'),\n",
       " Timedelta('7 days 14:05:27'),\n",
       " Timedelta('7 days 14:20:25'),\n",
       " Timedelta('7 days 14:35:21'),\n",
       " Timedelta('7 days 14:50:28'),\n",
       " Timedelta('7 days 15:05:38'),\n",
       " Timedelta('7 days 15:21:25'),\n",
       " Timedelta('7 days 15:36:24'),\n",
       " Timedelta('7 days 15:51:30'),\n",
       " Timedelta('7 days 16:06:44'),\n",
       " Timedelta('7 days 16:21:47'),\n",
       " Timedelta('7 days 16:36:40'),\n",
       " Timedelta('7 days 16:51:41'),\n",
       " Timedelta('7 days 17:06:33'),\n",
       " Timedelta('7 days 17:21:31'),\n",
       " Timedelta('7 days 17:36:25'),\n",
       " Timedelta('7 days 17:52:19'),\n",
       " Timedelta('7 days 18:07:20'),\n",
       " Timedelta('7 days 18:22:18'),\n",
       " Timedelta('7 days 18:37:13'),\n",
       " Timedelta('7 days 18:52:10'),\n",
       " Timedelta('7 days 19:07:05'),\n",
       " Timedelta('7 days 19:22:02'),\n",
       " Timedelta('7 days 19:36:57'),\n",
       " Timedelta('7 days 19:51:53'),\n",
       " Timedelta('7 days 20:06:52'),\n",
       " Timedelta('7 days 20:22:19'),\n",
       " Timedelta('7 days 20:37:13'),\n",
       " Timedelta('7 days 21:07:05'),\n",
       " Timedelta('7 days 21:36:59'),\n",
       " Timedelta('7 days 22:06:51'),\n",
       " Timedelta('7 days 22:36:43'),\n",
       " Timedelta('7 days 23:07:00'),\n",
       " Timedelta('7 days 23:37:08'),\n",
       " Timedelta('8 days 00:07:07'),\n",
       " Timedelta('8 days 00:37:30'),\n",
       " Timedelta('8 days 01:07:21'),\n",
       " Timedelta('8 days 01:37:13'),\n",
       " Timedelta('8 days 02:07:06'),\n",
       " Timedelta('8 days 02:36:58'),\n",
       " Timedelta('8 days 02:52:03'),\n",
       " Timedelta('8 days 03:07:22'),\n",
       " Timedelta('8 days 03:22:32'),\n",
       " Timedelta('8 days 03:37:59'),\n",
       " Timedelta('8 days 03:52:56'),\n",
       " Timedelta('8 days 04:07:52'),\n",
       " Timedelta('8 days 04:22:51'),\n",
       " Timedelta('8 days 04:37:46'),\n",
       " Timedelta('8 days 04:52:47'),\n",
       " Timedelta('8 days 05:07:40'),\n",
       " Timedelta('8 days 05:22:46'),\n",
       " Timedelta('8 days 05:38:18'),\n",
       " Timedelta('8 days 05:53:13'),\n",
       " Timedelta('8 days 06:08:09'),\n",
       " Timedelta('8 days 06:23:07'),\n",
       " Timedelta('8 days 06:38:14'),\n",
       " Timedelta('8 days 06:53:27'),\n",
       " Timedelta('8 days 07:08:41'),\n",
       " Timedelta('8 days 07:24:00'),\n",
       " Timedelta('8 days 07:38:49'),\n",
       " Timedelta('8 days 07:54:01'),\n",
       " Timedelta('8 days 08:08:58'),\n",
       " Timedelta('8 days 08:23:53'),\n",
       " Timedelta('8 days 08:39:00'),\n",
       " Timedelta('8 days 08:54:11'),\n",
       " Timedelta('8 days 09:09:23'),\n",
       " Timedelta('8 days 09:24:38'),\n",
       " Timedelta('8 days 09:39:47'),\n",
       " Timedelta('8 days 09:55:24'),\n",
       " Timedelta('8 days 10:10:16'),\n",
       " Timedelta('8 days 10:25:23'),\n",
       " Timedelta('8 days 10:40:43'),\n",
       " Timedelta('8 days 10:55:48'),\n",
       " Timedelta('8 days 11:11:27'),\n",
       " Timedelta('8 days 11:26:18'),\n",
       " Timedelta('8 days 11:41:13'),\n",
       " Timedelta('8 days 11:56:19'),\n",
       " Timedelta('8 days 12:12:00'),\n",
       " Timedelta('8 days 12:27:18'),\n",
       " Timedelta('8 days 12:42:26'),\n",
       " Timedelta('8 days 12:57:55'),\n",
       " Timedelta('8 days 13:12:56'),\n",
       " Timedelta('8 days 13:27:52'),\n",
       " Timedelta('8 days 13:42:53'),\n",
       " Timedelta('8 days 13:58:27'),\n",
       " Timedelta('8 days 14:13:28'),\n",
       " Timedelta('8 days 14:28:25'),\n",
       " Timedelta('8 days 14:43:21'),\n",
       " Timedelta('8 days 14:58:22'),\n",
       " Timedelta('8 days 15:13:26'),\n",
       " Timedelta('8 days 15:28:25'),\n",
       " Timedelta('8 days 15:43:23'),\n",
       " Timedelta('8 days 15:58:18'),\n",
       " Timedelta('8 days 16:13:16'),\n",
       " Timedelta('8 days 16:28:08'),\n",
       " Timedelta('8 days 16:43:08'),\n",
       " Timedelta('8 days 16:58:12'),\n",
       " Timedelta('8 days 17:14:01'),\n",
       " Timedelta('8 days 17:29:14'),\n",
       " Timedelta('8 days 17:44:30'),\n",
       " Timedelta('8 days 17:59:21'),\n",
       " Timedelta('8 days 18:14:18'),\n",
       " Timedelta('8 days 18:29:12'),\n",
       " Timedelta('8 days 18:44:11'),\n",
       " Timedelta('8 days 18:59:06'),\n",
       " Timedelta('8 days 19:14:05'),\n",
       " Timedelta('8 days 19:28:58'),\n",
       " Timedelta('8 days 19:43:56'),\n",
       " Timedelta('8 days 19:58:54'),\n",
       " Timedelta('8 days 20:14:18'),\n",
       " Timedelta('8 days 20:29:14'),\n",
       " Timedelta('8 days 20:59:08'),\n",
       " Timedelta('8 days 21:28:59'),\n",
       " Timedelta('8 days 21:58:51'),\n",
       " Timedelta('8 days 22:28:41'),\n",
       " Timedelta('8 days 22:58:52'),\n",
       " Timedelta('8 days 23:29:18'),\n",
       " Timedelta('8 days 23:59:31'),\n",
       " Timedelta('9 days 00:29:29'),\n",
       " Timedelta('9 days 00:59:21'),\n",
       " Timedelta('9 days 01:29:13'),\n",
       " Timedelta('9 days 01:59:06'),\n",
       " Timedelta('9 days 02:28:58'),\n",
       " Timedelta('9 days 02:44:04'),\n",
       " Timedelta('9 days 02:59:17'),\n",
       " Timedelta('9 days 03:14:28'),\n",
       " Timedelta('9 days 03:29:57'),\n",
       " Timedelta('9 days 03:45:13'),\n",
       " Timedelta('9 days 04:00:09'),\n",
       " Timedelta('9 days 04:15:07'),\n",
       " Timedelta('9 days 04:30:12'),\n",
       " Timedelta('9 days 04:45:13'),\n",
       " Timedelta('9 days 05:00:10'),\n",
       " Timedelta('9 days 05:15:07'),\n",
       " Timedelta('9 days 05:30:30'),\n",
       " Timedelta('9 days 05:45:30'),\n",
       " Timedelta('9 days 06:00:25'),\n",
       " Timedelta('9 days 06:15:22'),\n",
       " Timedelta('9 days 06:30:21'),\n",
       " Timedelta('9 days 06:45:13'),\n",
       " Timedelta('9 days 07:00:09'),\n",
       " Timedelta('9 days 07:15:05'),\n",
       " Timedelta('9 days 07:30:01'),\n",
       " Timedelta('9 days 08:00:25'),\n",
       " Timedelta('9 days 08:15:23'),\n",
       " Timedelta('9 days 08:30:17'),\n",
       " Timedelta('9 days 08:45:55'),\n",
       " Timedelta('9 days 09:00:57'),\n",
       " Timedelta('9 days 09:15:57'),\n",
       " Timedelta('9 days 09:30:49'),\n",
       " Timedelta('9 days 09:45:45'),\n",
       " Timedelta('9 days 10:00:41'),\n",
       " Timedelta('9 days 10:15:38'),\n",
       " Timedelta('9 days 10:31:00'),\n",
       " Timedelta('9 days 10:46:02'),\n",
       " Timedelta('9 days 11:00:58'),\n",
       " Timedelta('9 days 11:15:56'),\n",
       " Timedelta('9 days 11:32:01'),\n",
       " Timedelta('9 days 11:47:09'),\n",
       " Timedelta('9 days 12:02:30'),\n",
       " Timedelta('9 days 12:17:49'),\n",
       " Timedelta('9 days 12:32:44'),\n",
       " Timedelta('9 days 12:47:39'),\n",
       " Timedelta('9 days 13:03:00'),\n",
       " Timedelta('9 days 13:20:39'),\n",
       " Timedelta('9 days 13:35:52'),\n",
       " Timedelta('9 days 13:51:31'),\n",
       " Timedelta('9 days 14:06:46'),\n",
       " Timedelta('9 days 14:21:48'),\n",
       " Timedelta('9 days 14:36:42'),\n",
       " Timedelta('9 days 14:51:37'),\n",
       " Timedelta('9 days 15:06:33'),\n",
       " Timedelta('9 days 15:21:37'),\n",
       " Timedelta('9 days 15:36:44'),\n",
       " Timedelta('9 days 15:52:24'),\n",
       " Timedelta('9 days 16:07:55'),\n",
       " Timedelta('9 days 16:22:50'),\n",
       " Timedelta('9 days 16:37:45'),\n",
       " Timedelta('9 days 16:52:41'),\n",
       " Timedelta('9 days 17:07:38'),\n",
       " Timedelta('9 days 17:22:34'),\n",
       " Timedelta('9 days 17:37:34'),\n",
       " Timedelta('9 days 17:52:25'),\n",
       " Timedelta('9 days 18:07:21'),\n",
       " Timedelta('9 days 18:22:17'),\n",
       " Timedelta('9 days 18:37:15'),\n",
       " Timedelta('9 days 18:52:12'),\n",
       " Timedelta('9 days 19:07:40'),\n",
       " Timedelta('9 days 19:22:47'),\n",
       " Timedelta('9 days 19:37:56'),\n",
       " Timedelta('9 days 19:53:27'),\n",
       " Timedelta('9 days 20:08:25'),\n",
       " Timedelta('9 days 20:23:21'),\n",
       " Timedelta('9 days 20:38:17'),\n",
       " Timedelta('9 days 21:08:09'),\n",
       " Timedelta('9 days 21:38:02'),\n",
       " Timedelta('9 days 22:07:53'),\n",
       " Timedelta('9 days 22:37:46'),\n",
       " Timedelta('9 days 23:08:00'),\n",
       " Timedelta('9 days 23:37:56'),\n",
       " Timedelta('10 days 00:08:30'),\n",
       " Timedelta('10 days 00:38:20'),\n",
       " Timedelta('10 days 01:08:10'),\n",
       " Timedelta('10 days 01:38:03'),\n",
       " Timedelta('10 days 02:08:24'),\n",
       " Timedelta('10 days 02:38:18'),\n",
       " Timedelta('10 days 02:53:13'),\n",
       " Timedelta('10 days 03:08:19'),\n",
       " Timedelta('10 days 03:23:36'),\n",
       " Timedelta('10 days 03:39:01'),\n",
       " Timedelta('10 days 03:54:01'),\n",
       " Timedelta('10 days 04:08:58'),\n",
       " Timedelta('10 days 04:23:53'),\n",
       " Timedelta('10 days 04:38:51'),\n",
       " Timedelta('10 days 04:53:45'),\n",
       " Timedelta('10 days 05:08:43'),\n",
       " Timedelta('10 days 05:23:37'),\n",
       " Timedelta('10 days 05:38:49'),\n",
       " Timedelta('10 days 05:54:48'),\n",
       " Timedelta('10 days 06:09:44'),\n",
       " Timedelta('10 days 06:24:40'),\n",
       " Timedelta('10 days 06:39:37'),\n",
       " Timedelta('10 days 06:54:35'),\n",
       " Timedelta('10 days 07:09:29'),\n",
       " Timedelta('10 days 07:24:27'),\n",
       " Timedelta('10 days 07:39:23'),\n",
       " Timedelta('10 days 08:09:16'),\n",
       " Timedelta('10 days 08:24:30'),\n",
       " Timedelta('10 days 08:39:47'),\n",
       " Timedelta('10 days 08:54:50'),\n",
       " Timedelta('10 days 09:09:48'),\n",
       " Timedelta('10 days 09:25:00'),\n",
       " Timedelta('10 days 09:39:53'),\n",
       " Timedelta('10 days 09:54:51'),\n",
       " Timedelta('10 days 10:09:49'),\n",
       " Timedelta('10 days 10:25:00'),\n",
       " Timedelta('10 days 10:39:53'),\n",
       " Timedelta('10 days 10:54:51'),\n",
       " Timedelta('10 days 11:09:45'),\n",
       " Timedelta('10 days 11:24:50'),\n",
       " Timedelta('10 days 11:40:24'),\n",
       " Timedelta('10 days 11:55:54'),\n",
       " Timedelta('10 days 12:10:50'),\n",
       " Timedelta('10 days 12:25:47'),\n",
       " Timedelta('10 days 12:40:41'),\n",
       " Timedelta('10 days 12:55:37'),\n",
       " Timedelta('10 days 13:10:34'),\n",
       " Timedelta('10 days 13:25:57'),\n",
       " Timedelta('10 days 13:40:57'),\n",
       " Timedelta('10 days 13:55:53'),\n",
       " Timedelta('10 days 14:11:25'),\n",
       " Timedelta('10 days 14:26:17'),\n",
       " Timedelta('10 days 14:41:17'),\n",
       " Timedelta('10 days 14:56:09'),\n",
       " Timedelta('10 days 15:11:11'),\n",
       " Timedelta('10 days 15:26:01'),\n",
       " Timedelta('10 days 15:40:58'),\n",
       " Timedelta('10 days 15:55:56'),\n",
       " Timedelta('10 days 16:10:56'),\n",
       " Timedelta('10 days 16:26:17'),\n",
       " Timedelta('10 days 16:41:13'),\n",
       " Timedelta('10 days 16:56:10'),\n",
       " Timedelta('10 days 17:11:19'),\n",
       " Timedelta('10 days 17:26:29'),\n",
       " Timedelta('10 days 17:41:59'),\n",
       " Timedelta('10 days 17:57:00'),\n",
       " Timedelta('10 days 18:11:53'),\n",
       " Timedelta('10 days 18:26:51'),\n",
       " Timedelta('10 days 18:41:57'),\n",
       " Timedelta('10 days 18:57:17'),\n",
       " Timedelta('10 days 19:12:30'),\n",
       " Timedelta('10 days 19:27:55'),\n",
       " Timedelta('10 days 19:42:48'),\n",
       " Timedelta('10 days 19:58:02'),\n",
       " Timedelta('10 days 20:12:57'),\n",
       " Timedelta('10 days 20:27:53'),\n",
       " Timedelta('10 days 20:57:46'),\n",
       " Timedelta('10 days 21:27:39'),\n",
       " Timedelta('10 days 21:58:00'),\n",
       " Timedelta('10 days 22:28:21'),\n",
       " Timedelta('10 days 22:58:18'),\n",
       " Timedelta('10 days 23:28:11'),\n",
       " Timedelta('10 days 23:58:02'),\n",
       " Timedelta('11 days 00:27:54'),\n",
       " Timedelta('11 days 00:57:49'),\n",
       " Timedelta('11 days 01:27:40'),\n",
       " Timedelta('11 days 01:58:25'),\n",
       " Timedelta('11 days 02:28:37'),\n",
       " Timedelta('11 days 02:43:48'),\n",
       " Timedelta('11 days 02:58:59'),\n",
       " Timedelta('11 days 03:14:12'),\n",
       " Timedelta('11 days 03:29:31'),\n",
       " Timedelta('11 days 03:44:29'),\n",
       " Timedelta('11 days 03:59:23'),\n",
       " Timedelta('11 days 04:14:21'),\n",
       " Timedelta('11 days 04:29:16'),\n",
       " Timedelta('11 days 04:44:55'),\n",
       " Timedelta('11 days 04:59:54'),\n",
       " Timedelta('11 days 05:14:50'),\n",
       " Timedelta('11 days 05:30:04'),\n",
       " Timedelta('11 days 05:45:08'),\n",
       " Timedelta('11 days 06:00:31'),\n",
       " Timedelta('11 days 06:15:23'),\n",
       " Timedelta('11 days 06:30:21'),\n",
       " Timedelta('11 days 06:45:17'),\n",
       " Timedelta('11 days 07:00:19'),\n",
       " Timedelta('11 days 07:16:00'),\n",
       " Timedelta('11 days 07:30:52'),\n",
       " Timedelta('11 days 07:45:45'),\n",
       " Timedelta('11 days 08:00:44'),\n",
       " Timedelta('11 days 08:15:39'),\n",
       " Timedelta('11 days 08:31:00'),\n",
       " Timedelta('11 days 08:46:01'),\n",
       " Timedelta('11 days 09:01:00'),\n",
       " Timedelta('11 days 09:16:02'),\n",
       " Timedelta('11 days 09:31:19'),\n",
       " Timedelta('11 days 09:46:20'),\n",
       " Timedelta('11 days 10:01:15'),\n",
       " Timedelta('11 days 10:16:09'),\n",
       " Timedelta('11 days 10:31:06'),\n",
       " Timedelta('11 days 10:46:03'),\n",
       " Timedelta('11 days 11:01:01'),\n",
       " Timedelta('11 days 11:15:54'),\n",
       " Timedelta('11 days 11:30:52'),\n",
       " Timedelta('11 days 11:46:18'),\n",
       " Timedelta('11 days 12:01:15'),\n",
       " Timedelta('11 days 12:16:10'),\n",
       " Timedelta('11 days 12:31:05'),\n",
       " Timedelta('11 days 12:46:06'),\n",
       " Timedelta('11 days 13:01:30'),\n",
       " Timedelta('11 days 13:16:25'),\n",
       " Timedelta('11 days 13:31:21'),\n",
       " Timedelta('11 days 13:46:25'),\n",
       " Timedelta('11 days 14:01:45'),\n",
       " Timedelta('11 days 14:16:53'),\n",
       " Timedelta('11 days 14:32:10'),\n",
       " Timedelta('11 days 14:47:28'),\n",
       " Timedelta('11 days 15:02:19'),\n",
       " Timedelta('11 days 15:17:13'),\n",
       " Timedelta('11 days 15:32:10'),\n",
       " Timedelta('11 days 15:47:26'),\n",
       " Timedelta('11 days 16:02:16'),\n",
       " Timedelta('11 days 16:17:14'),\n",
       " Timedelta('11 days 16:32:12'),\n",
       " Timedelta('11 days 16:47:17'),\n",
       " Timedelta('11 days 17:02:45'),\n",
       " Timedelta('11 days 17:17:48'),\n",
       " Timedelta('11 days 17:32:43'),\n",
       " Timedelta('11 days 17:47:38'),\n",
       " Timedelta('11 days 18:02:34'),\n",
       " Timedelta('11 days 18:17:31'),\n",
       " Timedelta('11 days 18:32:28'),\n",
       " Timedelta('11 days 18:47:55'),\n",
       " Timedelta('11 days 19:02:49'),\n",
       " Timedelta('11 days 19:17:45'),\n",
       " Timedelta('11 days 19:32:41'),\n",
       " Timedelta('11 days 19:47:37'),\n",
       " Timedelta('11 days 20:02:34'),\n",
       " Timedelta('11 days 20:17:30'),\n",
       " Timedelta('11 days 20:32:25'),\n",
       " Timedelta('11 days 21:02:19'),\n",
       " Timedelta('11 days 21:32:11'),\n",
       " Timedelta('11 days 22:02:30'),\n",
       " Timedelta('11 days 22:32:25'),\n",
       " Timedelta('11 days 23:02:18'),\n",
       " Timedelta('11 days 23:32:12'),\n",
       " Timedelta('12 days 00:02:02'),\n",
       " Timedelta('12 days 00:31:54'),\n",
       " Timedelta('12 days 01:01:49'),\n",
       " Timedelta('12 days 01:31:42'),\n",
       " ...]"
      ]
     },
     "execution_count": 45,
     "metadata": {},
     "output_type": "execute_result"
    }
   ],
   "source": [
    "elapsing_time"
   ]
  },
  {
   "cell_type": "code",
   "execution_count": 46,
   "metadata": {},
   "outputs": [
    {
     "data": {
      "text/plain": [
       "290.03333333333336"
      ]
     },
     "execution_count": 46,
     "metadata": {},
     "output_type": "execute_result"
    }
   ],
   "source": [
    "elapsing_time[1000]/datetime.timedelta(hours = 1) # how many hours have passed, so hours = 1"
   ]
  },
  {
   "cell_type": "code",
   "execution_count": 47,
   "metadata": {},
   "outputs": [
    {
     "data": {
      "text/plain": [
       "12.084722222222222"
      ]
     },
     "execution_count": 47,
     "metadata": {},
     "output_type": "execute_result"
    }
   ],
   "source": [
    "elapsing_time[1000]/datetime.timedelta(days = 1) # how many days have passed, so days = 1"
   ]
  },
  {
   "cell_type": "code",
   "execution_count": 48,
   "metadata": {},
   "outputs": [
    {
     "data": {
      "text/plain": [
       "17402.0"
      ]
     },
     "execution_count": 48,
     "metadata": {},
     "output_type": "execute_result"
    }
   ],
   "source": [
    "elapsing_time[1000]/datetime.timedelta(minutes= 1)"
   ]
  },
  {
   "cell_type": "code",
   "execution_count": 49,
   "metadata": {},
   "outputs": [
    {
     "data": {
      "text/plain": [
       "1044120.0"
      ]
     },
     "execution_count": 49,
     "metadata": {},
     "output_type": "execute_result"
    }
   ],
   "source": [
    "elapsing_time[1000]/datetime.timedelta(seconds = 1)"
   ]
  },
  {
   "cell_type": "code",
   "execution_count": 50,
   "metadata": {},
   "outputs": [],
   "source": [
    "elapsed_days = [char/datetime.timedelta(days = 1) for char in elapsing_time]"
   ]
  },
  {
   "cell_type": "code",
   "execution_count": 51,
   "metadata": {},
   "outputs": [
    {
     "data": {
      "application/vnd.jupyter.widget-view+json": {
       "model_id": "6c66829fb6f6458989da76e2f611b756",
       "version_major": 2,
       "version_minor": 0
      },
      "text/plain": [
       "Canvas(toolbar=Toolbar(toolitems=[('Home', 'Reset original view', 'home', 'home'), ('Back', 'Back to previous …"
      ]
     },
     "metadata": {},
     "output_type": "display_data"
    }
   ],
   "source": [
    "plt.figure(figsize = (10,10))\n",
    "plt.plot(np.array(elapsing_time)/datetime.timedelta(days = 1))\n",
    "plt.axis(\"tight\")\n",
    "plt.xlabel(\"Observation\")\n",
    "plt.ylabel(\"Days passed\")\n",
    "plt.savefig(\"timeplot.pdf\")\n",
    "plt.close()"
   ]
  },
  {
   "cell_type": "code",
   "execution_count": 52,
   "metadata": {},
   "outputs": [
    {
     "name": "stdout",
     "output_type": "stream",
     "text": [
      "<class 'pandas.core.frame.DataFrame'>\n",
      "Int64Index: 19795 entries, 0 to 19794\n",
      "Data columns (total 9 columns):\n",
      " #   Column              Non-Null Count  Dtype         \n",
      "---  ------              --------------  -----         \n",
      " 0   altitude            19795 non-null  int64         \n",
      " 1   date_time           19795 non-null  object        \n",
      " 2   device_info_serial  19795 non-null  int64         \n",
      " 3   direction           19710 non-null  float64       \n",
      " 4   latitude            19795 non-null  float64       \n",
      " 5   longitude           19795 non-null  float64       \n",
      " 6   speed_2d            19710 non-null  float64       \n",
      " 7   bird_name           19795 non-null  object        \n",
      " 8   timestamps          19795 non-null  datetime64[ns]\n",
      "dtypes: datetime64[ns](1), float64(4), int64(2), object(2)\n",
      "memory usage: 2.1+ MB\n"
     ]
    }
   ],
   "source": [
    "eric.info()"
   ]
  },
  {
   "cell_type": "code",
   "execution_count": 53,
   "metadata": {},
   "outputs": [],
   "source": [
    "mean_speed = []\n",
    "# for i in range(len(eric.timestamps)):\n",
    "    "
   ]
  },
  {
   "cell_type": "code",
   "execution_count": 54,
   "metadata": {},
   "outputs": [],
   "source": [
    "next_day = 1\n",
    "inds = []"
   ]
  },
  {
   "cell_type": "code",
   "execution_count": 55,
   "metadata": {},
   "outputs": [],
   "source": [
    "for i,t in enumerate(elapsed_days):#i = index, t = time\n",
    "    if t<=next_day:\n",
    "        inds.append(i)\n",
    "    else:\n",
    "        mean_speed.append(np.mean(birddata.speed_2d[inds]))\n",
    "\n",
    "\n",
    "        next_day+=1\n",
    "        inds  = []\n",
    "    "
   ]
  },
  {
   "cell_type": "code",
   "execution_count": null,
   "metadata": {},
   "outputs": [],
   "source": []
  },
  {
   "cell_type": "code",
   "execution_count": 56,
   "metadata": {},
   "outputs": [
    {
     "data": {
      "text/plain": [
       "[1.7863149983905395, 2.9454235893858662, 2.4762427460803886]"
      ]
     },
     "execution_count": 56,
     "metadata": {},
     "output_type": "execute_result"
    }
   ],
   "source": [
    "mean_speed[2:5]"
   ]
  },
  {
   "cell_type": "code",
   "execution_count": 57,
   "metadata": {},
   "outputs": [
    {
     "data": {
      "image/png": "[encoded data removed]",
      "text/plain": [
       "<Figure size 720x720 with 1 Axes>"
      ]
     },
     "metadata": {
      "needs_background": "light"
     },
     "output_type": "display_data"
    }
   ],
   "source": [
    "import matplotlib.pyplot as plt\n",
    "%matplotlib inline\n",
    "plt.figure(figsize = (10,10))\n",
    "plt.plot(mean_speed)\n",
    "plt.xlabel(\"Days\")\n",
    "plt.ylabel(\"Mean speed\")\n",
    "plt.savefig(\"mean speed.png\")\n"
   ]
  },
  {
   "cell_type": "code",
   "execution_count": 58,
   "metadata": {},
   "outputs": [
    {
     "data": {
      "text/html": [
       "<div>\n",
       "<style scoped>\n",
       "    .dataframe tbody tr th:only-of-type {\n",
       "        vertical-align: middle;\n",
       "    }\n",
       "\n",
       "    .dataframe tbody tr th {\n",
       "        vertical-align: top;\n",
       "    }\n",
       "\n",
       "    .dataframe thead th {\n",
       "        text-align: right;\n",
       "    }\n",
       "</style>\n",
       "<table border=\"1\" class=\"dataframe\">\n",
       "  <thead>\n",
       "    <tr style=\"text-align: right;\">\n",
       "      <th></th>\n",
       "      <th>altitude</th>\n",
       "      <th>date_time</th>\n",
       "      <th>device_info_serial</th>\n",
       "      <th>direction</th>\n",
       "      <th>latitude</th>\n",
       "      <th>longitude</th>\n",
       "      <th>speed_2d</th>\n",
       "      <th>bird_name</th>\n",
       "      <th>timestamps</th>\n",
       "    </tr>\n",
       "  </thead>\n",
       "  <tbody>\n",
       "    <tr>\n",
       "      <th>40916</th>\n",
       "      <td>55</td>\n",
       "      <td>2013-08-15 00:01:08+00</td>\n",
       "      <td>833</td>\n",
       "      <td>-91.499509</td>\n",
       "      <td>49.931065</td>\n",
       "      <td>2.281893</td>\n",
       "      <td>0.372156</td>\n",
       "      <td>Sanne</td>\n",
       "      <td>2013-08-15 00:01:08</td>\n",
       "    </tr>\n",
       "    <tr>\n",
       "      <th>40917</th>\n",
       "      <td>54</td>\n",
       "      <td>2013-08-15 00:31:00+00</td>\n",
       "      <td>833</td>\n",
       "      <td>-141.804053</td>\n",
       "      <td>49.931076</td>\n",
       "      <td>2.281900</td>\n",
       "      <td>1.318484</td>\n",
       "      <td>Sanne</td>\n",
       "      <td>2013-08-15 00:31:00</td>\n",
       "    </tr>\n",
       "    <tr>\n",
       "      <th>40918</th>\n",
       "      <td>55</td>\n",
       "      <td>2013-08-15 01:01:19+00</td>\n",
       "      <td>833</td>\n",
       "      <td>-10.651840</td>\n",
       "      <td>49.931016</td>\n",
       "      <td>2.281933</td>\n",
       "      <td>0.076158</td>\n",
       "      <td>Sanne</td>\n",
       "      <td>2013-08-15 01:01:19</td>\n",
       "    </tr>\n",
       "    <tr>\n",
       "      <th>40919</th>\n",
       "      <td>56</td>\n",
       "      <td>2013-08-15 01:31:38+00</td>\n",
       "      <td>833</td>\n",
       "      <td>14.727689</td>\n",
       "      <td>49.931053</td>\n",
       "      <td>2.281911</td>\n",
       "      <td>0.014142</td>\n",
       "      <td>Sanne</td>\n",
       "      <td>2013-08-15 01:31:38</td>\n",
       "    </tr>\n",
       "    <tr>\n",
       "      <th>40920</th>\n",
       "      <td>55</td>\n",
       "      <td>2013-08-15 02:01:24+00</td>\n",
       "      <td>833</td>\n",
       "      <td>-169.882200</td>\n",
       "      <td>49.931042</td>\n",
       "      <td>2.281893</td>\n",
       "      <td>0.094340</td>\n",
       "      <td>Sanne</td>\n",
       "      <td>2013-08-15 02:01:24</td>\n",
       "    </tr>\n",
       "    <tr>\n",
       "      <th>...</th>\n",
       "      <td>...</td>\n",
       "      <td>...</td>\n",
       "      <td>...</td>\n",
       "      <td>...</td>\n",
       "      <td>...</td>\n",
       "      <td>...</td>\n",
       "      <td>...</td>\n",
       "      <td>...</td>\n",
       "      <td>...</td>\n",
       "    </tr>\n",
       "    <tr>\n",
       "      <th>61915</th>\n",
       "      <td>11</td>\n",
       "      <td>2014-04-30 22:00:08+00</td>\n",
       "      <td>833</td>\n",
       "      <td>45.448157</td>\n",
       "      <td>51.352572</td>\n",
       "      <td>3.177151</td>\n",
       "      <td>0.208087</td>\n",
       "      <td>Sanne</td>\n",
       "      <td>2014-04-30 22:00:08</td>\n",
       "    </tr>\n",
       "    <tr>\n",
       "      <th>61916</th>\n",
       "      <td>6</td>\n",
       "      <td>2014-04-30 22:29:57+00</td>\n",
       "      <td>833</td>\n",
       "      <td>-112.073055</td>\n",
       "      <td>51.352585</td>\n",
       "      <td>3.177144</td>\n",
       "      <td>1.522662</td>\n",
       "      <td>Sanne</td>\n",
       "      <td>2014-04-30 22:29:57</td>\n",
       "    </tr>\n",
       "    <tr>\n",
       "      <th>61917</th>\n",
       "      <td>5</td>\n",
       "      <td>2014-04-30 22:59:52+00</td>\n",
       "      <td>833</td>\n",
       "      <td>69.989037</td>\n",
       "      <td>51.352622</td>\n",
       "      <td>3.177257</td>\n",
       "      <td>3.120545</td>\n",
       "      <td>Sanne</td>\n",
       "      <td>2014-04-30 22:59:52</td>\n",
       "    </tr>\n",
       "    <tr>\n",
       "      <th>61918</th>\n",
       "      <td>16</td>\n",
       "      <td>2014-04-30 23:29:43+00</td>\n",
       "      <td>833</td>\n",
       "      <td>88.376373</td>\n",
       "      <td>51.354641</td>\n",
       "      <td>3.181509</td>\n",
       "      <td>0.592115</td>\n",
       "      <td>Sanne</td>\n",
       "      <td>2014-04-30 23:29:43</td>\n",
       "    </tr>\n",
       "    <tr>\n",
       "      <th>61919</th>\n",
       "      <td>9</td>\n",
       "      <td>2014-04-30 23:59:34+00</td>\n",
       "      <td>833</td>\n",
       "      <td>149.949008</td>\n",
       "      <td>51.354474</td>\n",
       "      <td>3.181057</td>\n",
       "      <td>0.485489</td>\n",
       "      <td>Sanne</td>\n",
       "      <td>2014-04-30 23:59:34</td>\n",
       "    </tr>\n",
       "  </tbody>\n",
       "</table>\n",
       "<p>21004 rows × 9 columns</p>\n",
       "</div>"
      ],
      "text/plain": [
       "       altitude               date_time  device_info_serial   direction  \\\n",
       "40916        55  2013-08-15 00:01:08+00                 833  -91.499509   \n",
       "40917        54  2013-08-15 00:31:00+00                 833 -141.804053   \n",
       "40918        55  2013-08-15 01:01:19+00                 833  -10.651840   \n",
       "40919        56  2013-08-15 01:31:38+00                 833   14.727689   \n",
       "40920        55  2013-08-15 02:01:24+00                 833 -169.882200   \n",
       "...         ...                     ...                 ...         ...   \n",
       "61915        11  2014-04-30 22:00:08+00                 833   45.448157   \n",
       "61916         6  2014-04-30 22:29:57+00                 833 -112.073055   \n",
       "61917         5  2014-04-30 22:59:52+00                 833   69.989037   \n",
       "61918        16  2014-04-30 23:29:43+00                 833   88.376373   \n",
       "61919         9  2014-04-30 23:59:34+00                 833  149.949008   \n",
       "\n",
       "        latitude  longitude  speed_2d bird_name          timestamps  \n",
       "40916  49.931065   2.281893  0.372156     Sanne 2013-08-15 00:01:08  \n",
       "40917  49.931076   2.281900  1.318484     Sanne 2013-08-15 00:31:00  \n",
       "40918  49.931016   2.281933  0.076158     Sanne 2013-08-15 01:01:19  \n",
       "40919  49.931053   2.281911  0.014142     Sanne 2013-08-15 01:31:38  \n",
       "40920  49.931042   2.281893  0.094340     Sanne 2013-08-15 02:01:24  \n",
       "...          ...        ...       ...       ...                 ...  \n",
       "61915  51.352572   3.177151  0.208087     Sanne 2014-04-30 22:00:08  \n",
       "61916  51.352585   3.177144  1.522662     Sanne 2014-04-30 22:29:57  \n",
       "61917  51.352622   3.177257  3.120545     Sanne 2014-04-30 22:59:52  \n",
       "61918  51.354641   3.181509  0.592115     Sanne 2014-04-30 23:29:43  \n",
       "61919  51.354474   3.181057  0.485489     Sanne 2014-04-30 23:59:34  \n",
       "\n",
       "[21004 rows x 9 columns]"
      ]
     },
     "execution_count": 58,
     "metadata": {},
     "output_type": "execute_result"
    }
   ],
   "source": [
    "birddata[birddata.bird_name==\"Sanne\"]"
   ]
  },
  {
   "cell_type": "code",
   "execution_count": 63,
   "metadata": {},
   "outputs": [],
   "source": [
    "import cartopy.crs as ccrs"
   ]
  },
  {
   "cell_type": "code",
   "execution_count": 62,
   "metadata": {},
   "outputs": [],
   "source": [
    "import cartopy.feature as cfeature"
   ]
  },
  {
   "cell_type": "code",
   "execution_count": 65,
   "metadata": {},
   "outputs": [],
   "source": [
    "proj = ccrs.Mercator()"
   ]
  },
  {
   "cell_type": "code",
   "execution_count": 66,
   "metadata": {},
   "outputs": [
    {
     "data": {
      "text/plain": [
       "array(['Eric', 'Nico', 'Sanne'], dtype=object)"
      ]
     },
     "execution_count": 66,
     "metadata": {},
     "output_type": "execute_result"
    }
   ],
   "source": [
    "l"
   ]
  },
  {
   "cell_type": "code",
   "execution_count": 70,
   "metadata": {},
   "outputs": [
    {
     "name": "stderr",
     "output_type": "stream",
     "text": [
      "/home/debaparna/anaconda3/lib/python3.7/site-packages/cartopy/io/__init__.py:260: DownloadWarning: Downloading: http://naciscdn.org/naturalearth/110m/physical/ne_110m_land.zip\n",
      "  warnings.warn('Downloading: {}'.format(url), DownloadWarning)\n",
      "/home/debaparna/anaconda3/lib/python3.7/site-packages/cartopy/io/__init__.py:260: DownloadWarning: Downloading: http://naciscdn.org/naturalearth/110m/physical/ne_110m_ocean.zip\n",
      "  warnings.warn('Downloading: {}'.format(url), DownloadWarning)\n",
      "/home/debaparna/anaconda3/lib/python3.7/site-packages/cartopy/io/__init__.py:260: DownloadWarning: Downloading: http://naciscdn.org/naturalearth/110m/physical/ne_110m_coastline.zip\n",
      "  warnings.warn('Downloading: {}'.format(url), DownloadWarning)\n",
      "/home/debaparna/anaconda3/lib/python3.7/site-packages/cartopy/io/__init__.py:260: DownloadWarning: Downloading: http://naciscdn.org/naturalearth/110m/cultural/ne_110m_admin_0_boundary_lines_land.zip\n",
      "  warnings.warn('Downloading: {}'.format(url), DownloadWarning)\n"
     ]
    },
    {
     "data": {
      "image/png": "[encoded data removed]",
      "text/plain": [
       "<Figure size 1440x1440 with 1 Axes>"
      ]
     },
     "metadata": {
      "needs_background": "light"
     },
     "output_type": "display_data"
    }
   ],
   "source": [
    "plt.figure(figsize = (20,20))\n",
    "ax = plt.axes(projection = proj)\n",
    "ax.set_extent((-25.0,20.0,52.0,10.0))\n",
    "ax.add_feature(cfeature.LAND)\n",
    "ax.add_feature(cfeature.OCEAN)\n",
    "ax.add_feature(cfeature.COASTLINE)\n",
    "ax.add_feature(cfeature.BORDERS,linestyle = \":\")\n",
    "\n",
    "\n",
    "\n",
    "for bird in l:\n",
    "    bird_df = birddata[birddata[\"bird_name\"]==bird]\n",
    "    x,y = bird_df.longitude,bird_df.latitude\n",
    "    ax.plot(x,y,\".\",transform = ccrs.Geodetic(),label = bird)\n",
    "plt.legend(loc= \"upper left\")\n",
    "plt.savefig(\"map.png\")"
   ]
  },
  {
   "cell_type": "code",
   "execution_count": 76,
   "metadata": {},
   "outputs": [],
   "source": [
    "grouped_birds = birddata.groupby([\"bird_name\"]).mean()"
   ]
  },
  {
   "cell_type": "code",
   "execution_count": 77,
   "metadata": {},
   "outputs": [
    {
     "data": {
      "text/html": [
       "<div>\n",
       "<style scoped>\n",
       "    .dataframe tbody tr th:only-of-type {\n",
       "        vertical-align: middle;\n",
       "    }\n",
       "\n",
       "    .dataframe tbody tr th {\n",
       "        vertical-align: top;\n",
       "    }\n",
       "\n",
       "    .dataframe thead th {\n",
       "        text-align: right;\n",
       "    }\n",
       "</style>\n",
       "<table border=\"1\" class=\"dataframe\">\n",
       "  <thead>\n",
       "    <tr style=\"text-align: right;\">\n",
       "      <th></th>\n",
       "      <th>altitude</th>\n",
       "      <th>device_info_serial</th>\n",
       "      <th>direction</th>\n",
       "      <th>latitude</th>\n",
       "      <th>longitude</th>\n",
       "      <th>speed_2d</th>\n",
       "    </tr>\n",
       "    <tr>\n",
       "      <th>bird_name</th>\n",
       "      <th></th>\n",
       "      <th></th>\n",
       "      <th></th>\n",
       "      <th></th>\n",
       "      <th></th>\n",
       "      <th></th>\n",
       "    </tr>\n",
       "  </thead>\n",
       "  <tbody>\n",
       "    <tr>\n",
       "      <th>Eric</th>\n",
       "      <td>60.249406</td>\n",
       "      <td>851.0</td>\n",
       "      <td>-7.774162</td>\n",
       "      <td>39.055123</td>\n",
       "      <td>-4.409152</td>\n",
       "      <td>2.300545</td>\n",
       "    </tr>\n",
       "    <tr>\n",
       "      <th>Nico</th>\n",
       "      <td>67.900478</td>\n",
       "      <td>864.0</td>\n",
       "      <td>-4.074570</td>\n",
       "      <td>31.084068</td>\n",
       "      <td>-8.311241</td>\n",
       "      <td>2.908726</td>\n",
       "    </tr>\n",
       "    <tr>\n",
       "      <th>Sanne</th>\n",
       "      <td>29.159922</td>\n",
       "      <td>833.0</td>\n",
       "      <td>-2.150073</td>\n",
       "      <td>21.047431</td>\n",
       "      <td>-13.881717</td>\n",
       "      <td>2.450434</td>\n",
       "    </tr>\n",
       "  </tbody>\n",
       "</table>\n",
       "</div>"
      ],
      "text/plain": [
       "            altitude  device_info_serial  direction   latitude  longitude  \\\n",
       "bird_name                                                                   \n",
       "Eric       60.249406               851.0  -7.774162  39.055123  -4.409152   \n",
       "Nico       67.900478               864.0  -4.074570  31.084068  -8.311241   \n",
       "Sanne      29.159922               833.0  -2.150073  21.047431 -13.881717   \n",
       "\n",
       "           speed_2d  \n",
       "bird_name            \n",
       "Eric       2.300545  \n",
       "Nico       2.908726  \n",
       "Sanne      2.450434  "
      ]
     },
     "execution_count": 77,
     "metadata": {},
     "output_type": "execute_result"
    }
   ],
   "source": [
    "grouped_birds"
   ]
  },
  {
   "cell_type": "code",
   "execution_count": 78,
   "metadata": {},
   "outputs": [
    {
     "name": "stdout",
     "output_type": "stream",
     "text": [
      "<class 'pandas.core.frame.DataFrame'>\n",
      "RangeIndex: 61920 entries, 0 to 61919\n",
      "Data columns (total 9 columns):\n",
      " #   Column              Non-Null Count  Dtype         \n",
      "---  ------              --------------  -----         \n",
      " 0   altitude            61920 non-null  int64         \n",
      " 1   date_time           61920 non-null  object        \n",
      " 2   device_info_serial  61920 non-null  int64         \n",
      " 3   direction           61477 non-null  float64       \n",
      " 4   latitude            61920 non-null  float64       \n",
      " 5   longitude           61920 non-null  float64       \n",
      " 6   speed_2d            61477 non-null  float64       \n",
      " 7   bird_name           61920 non-null  object        \n",
      " 8   timestamps          61920 non-null  datetime64[ns]\n",
      "dtypes: datetime64[ns](1), float64(4), int64(2), object(2)\n",
      "memory usage: 4.3+ MB\n"
     ]
    }
   ],
   "source": [
    "birddata.info()"
   ]
  },
  {
   "cell_type": "code",
   "execution_count": 92,
   "metadata": {},
   "outputs": [],
   "source": [
    "group_birdday= birddata.groupby([\"bird_name\",\"timestamps\"]).mean()"
   ]
  },
  {
   "cell_type": "code",
   "execution_count": 116,
   "metadata": {},
   "outputs": [
    {
     "data": {
      "text/html": [
       "<div>\n",
       "<style scoped>\n",
       "    .dataframe tbody tr th:only-of-type {\n",
       "        vertical-align: middle;\n",
       "    }\n",
       "\n",
       "    .dataframe tbody tr th {\n",
       "        vertical-align: top;\n",
       "    }\n",
       "\n",
       "    .dataframe thead th {\n",
       "        text-align: right;\n",
       "    }\n",
       "</style>\n",
       "<table border=\"1\" class=\"dataframe\">\n",
       "  <thead>\n",
       "    <tr style=\"text-align: right;\">\n",
       "      <th></th>\n",
       "      <th></th>\n",
       "      <th>altitude</th>\n",
       "      <th>device_info_serial</th>\n",
       "      <th>direction</th>\n",
       "      <th>latitude</th>\n",
       "      <th>longitude</th>\n",
       "      <th>speed_2d</th>\n",
       "    </tr>\n",
       "    <tr>\n",
       "      <th>bird_name</th>\n",
       "      <th>timestamps</th>\n",
       "      <th></th>\n",
       "      <th></th>\n",
       "      <th></th>\n",
       "      <th></th>\n",
       "      <th></th>\n",
       "      <th></th>\n",
       "    </tr>\n",
       "  </thead>\n",
       "  <tbody>\n",
       "    <tr>\n",
       "      <th rowspan=\"5\" valign=\"top\">Eric</th>\n",
       "      <th>2013-08-15 00:18:08</th>\n",
       "      <td>71</td>\n",
       "      <td>851</td>\n",
       "      <td>-150.469753</td>\n",
       "      <td>49.419860</td>\n",
       "      <td>2.120733</td>\n",
       "      <td>0.150000</td>\n",
       "    </tr>\n",
       "    <tr>\n",
       "      <th>2013-08-15 00:48:07</th>\n",
       "      <td>68</td>\n",
       "      <td>851</td>\n",
       "      <td>-136.151141</td>\n",
       "      <td>49.419880</td>\n",
       "      <td>2.120746</td>\n",
       "      <td>2.438360</td>\n",
       "    </tr>\n",
       "    <tr>\n",
       "      <th>2013-08-15 01:17:58</th>\n",
       "      <td>68</td>\n",
       "      <td>851</td>\n",
       "      <td>160.797477</td>\n",
       "      <td>49.420310</td>\n",
       "      <td>2.120885</td>\n",
       "      <td>0.596657</td>\n",
       "    </tr>\n",
       "    <tr>\n",
       "      <th>2013-08-15 01:47:51</th>\n",
       "      <td>73</td>\n",
       "      <td>851</td>\n",
       "      <td>32.769360</td>\n",
       "      <td>49.420359</td>\n",
       "      <td>2.120859</td>\n",
       "      <td>0.310161</td>\n",
       "    </tr>\n",
       "    <tr>\n",
       "      <th>2013-08-15 02:17:42</th>\n",
       "      <td>69</td>\n",
       "      <td>851</td>\n",
       "      <td>45.191230</td>\n",
       "      <td>49.420331</td>\n",
       "      <td>2.120887</td>\n",
       "      <td>0.193132</td>\n",
       "    </tr>\n",
       "    <tr>\n",
       "      <th>...</th>\n",
       "      <th>...</th>\n",
       "      <td>...</td>\n",
       "      <td>...</td>\n",
       "      <td>...</td>\n",
       "      <td>...</td>\n",
       "      <td>...</td>\n",
       "      <td>...</td>\n",
       "    </tr>\n",
       "    <tr>\n",
       "      <th rowspan=\"5\" valign=\"top\">Sanne</th>\n",
       "      <th>2014-04-30 22:00:08</th>\n",
       "      <td>11</td>\n",
       "      <td>833</td>\n",
       "      <td>45.448157</td>\n",
       "      <td>51.352572</td>\n",
       "      <td>3.177151</td>\n",
       "      <td>0.208087</td>\n",
       "    </tr>\n",
       "    <tr>\n",
       "      <th>2014-04-30 22:29:57</th>\n",
       "      <td>6</td>\n",
       "      <td>833</td>\n",
       "      <td>-112.073055</td>\n",
       "      <td>51.352585</td>\n",
       "      <td>3.177144</td>\n",
       "      <td>1.522662</td>\n",
       "    </tr>\n",
       "    <tr>\n",
       "      <th>2014-04-30 22:59:52</th>\n",
       "      <td>5</td>\n",
       "      <td>833</td>\n",
       "      <td>69.989037</td>\n",
       "      <td>51.352622</td>\n",
       "      <td>3.177257</td>\n",
       "      <td>3.120545</td>\n",
       "    </tr>\n",
       "    <tr>\n",
       "      <th>2014-04-30 23:29:43</th>\n",
       "      <td>16</td>\n",
       "      <td>833</td>\n",
       "      <td>88.376373</td>\n",
       "      <td>51.354641</td>\n",
       "      <td>3.181509</td>\n",
       "      <td>0.592115</td>\n",
       "    </tr>\n",
       "    <tr>\n",
       "      <th>2014-04-30 23:59:34</th>\n",
       "      <td>9</td>\n",
       "      <td>833</td>\n",
       "      <td>149.949008</td>\n",
       "      <td>51.354474</td>\n",
       "      <td>3.181057</td>\n",
       "      <td>0.485489</td>\n",
       "    </tr>\n",
       "  </tbody>\n",
       "</table>\n",
       "<p>61920 rows × 6 columns</p>\n",
       "</div>"
      ],
      "text/plain": [
       "                               altitude  device_info_serial   direction  \\\n",
       "bird_name timestamps                                                      \n",
       "Eric      2013-08-15 00:18:08        71                 851 -150.469753   \n",
       "          2013-08-15 00:48:07        68                 851 -136.151141   \n",
       "          2013-08-15 01:17:58        68                 851  160.797477   \n",
       "          2013-08-15 01:47:51        73                 851   32.769360   \n",
       "          2013-08-15 02:17:42        69                 851   45.191230   \n",
       "...                                 ...                 ...         ...   \n",
       "Sanne     2014-04-30 22:00:08        11                 833   45.448157   \n",
       "          2014-04-30 22:29:57         6                 833 -112.073055   \n",
       "          2014-04-30 22:59:52         5                 833   69.989037   \n",
       "          2014-04-30 23:29:43        16                 833   88.376373   \n",
       "          2014-04-30 23:59:34         9                 833  149.949008   \n",
       "\n",
       "                                latitude  longitude  speed_2d  \n",
       "bird_name timestamps                                           \n",
       "Eric      2013-08-15 00:18:08  49.419860   2.120733  0.150000  \n",
       "          2013-08-15 00:48:07  49.419880   2.120746  2.438360  \n",
       "          2013-08-15 01:17:58  49.420310   2.120885  0.596657  \n",
       "          2013-08-15 01:47:51  49.420359   2.120859  0.310161  \n",
       "          2013-08-15 02:17:42  49.420331   2.120887  0.193132  \n",
       "...                                  ...        ...       ...  \n",
       "Sanne     2014-04-30 22:00:08  51.352572   3.177151  0.208087  \n",
       "          2014-04-30 22:29:57  51.352585   3.177144  1.522662  \n",
       "          2014-04-30 22:59:52  51.352622   3.177257  3.120545  \n",
       "          2014-04-30 23:29:43  51.354641   3.181509  0.592115  \n",
       "          2014-04-30 23:59:34  51.354474   3.181057  0.485489  \n",
       "\n",
       "[61920 rows x 6 columns]"
      ]
     },
     "execution_count": 116,
     "metadata": {},
     "output_type": "execute_result"
    }
   ],
   "source": [
    "times"
   ]
  },
  {
   "cell_type": "code",
   "execution_count": 126,
   "metadata": {},
   "outputs": [],
   "source": [
    "ts = birddata.groupby([\"timestamps\"]).mean()"
   ]
  },
  {
   "cell_type": "code",
   "execution_count": 129,
   "metadata": {},
   "outputs": [
    {
     "data": {
      "text/plain": [
       "altitude               76.196281\n",
       "device_info_serial    849.613636\n",
       "direction              -6.014720\n",
       "latitude               43.458577\n",
       "longitude              -1.222623\n",
       "speed_2d                2.409312\n",
       "dtype: float64"
      ]
     },
     "execution_count": 129,
     "metadata": {},
     "output_type": "execute_result"
    }
   ],
   "source": [
    "np.mean(ts.loc[\"2013-09-12\"])"
   ]
  },
  {
   "cell_type": "code",
   "execution_count": 131,
   "metadata": {},
   "outputs": [
    {
     "data": {
      "text/plain": [
       "altitude               76.196281\n",
       "device_info_serial    849.613636\n",
       "direction              -6.014720\n",
       "latitude               43.458577\n",
       "longitude              -1.222623\n",
       "speed_2d                2.409312\n",
       "dtype: float64"
      ]
     },
     "execution_count": 131,
     "metadata": {},
     "output_type": "execute_result"
    }
   ],
   "source": [
    "ts[\"2013-09-12\"].mean()"
   ]
  },
  {
   "cell_type": "code",
   "execution_count": 115,
   "metadata": {},
   "outputs": [
    {
     "data": {
      "text/plain": [
       "2.8324654508684057"
      ]
     },
     "execution_count": 115,
     "metadata": {},
     "output_type": "execute_result"
    }
   ],
   "source": [
    "np.mean(times.loc[\"Nico\"][\"2014-04-04\"][\"speed_2d\"])"
   ]
  },
  {
   "cell_type": "code",
   "execution_count": null,
   "metadata": {},
   "outputs": [],
   "source": [
    "eric_daily = grouped_bird\n",
    "nico_daily = \n",
    "sanno_daily = "
   ]
  }
 ],
 "metadata": {
  "kernelspec": {
   "display_name": "Python 3",
   "language": "python",
   "name": "python3"
  },
  "language_info": {
   "codemirror_mode": {
    "name": "ipython",
    "version": 3
   },
   "file_extension": ".py",
   "mimetype": "text/x-python",
   "name": "python",
   "nbconvert_exporter": "python",
   "pygments_lexer": "ipython3",
   "version": "3.7.6"
  }
 },
 "nbformat": 4,
 "nbformat_minor": 4
}
