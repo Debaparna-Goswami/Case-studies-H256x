{
 "cells": [
  {
   "cell_type": "markdown",
   "metadata": {},
   "source": [
    "# Using Python for Research Homework: Week 3, Case Study 2\n",
    "\n",
    "In this case study, we will find and plot the distribution of word frequencies for each translation of Hamlet.  Perhaps the distribution of word frequencies of Hamlet depends on the translation --- let's find out!"
   ]
  },
  {
   "cell_type": "code",
   "execution_count": 1,
   "metadata": {},
   "outputs": [],
   "source": [
    "# DO NOT EDIT THIS CODE!\n",
    "import os\n",
    "import pandas as pd\n",
    "import numpy as np\n",
    "from collections import Counter\n",
    "\n",
    "def count_words_fast(text):\n",
    "    text = text.lower()\n",
    "    skips = [\".\", \",\", \";\", \":\", \"'\", '\"', \"\\n\", \"!\", \"?\", \"(\", \")\"]\n",
    "    for ch in skips:\n",
    "        text = text.replace(ch, \"\")\n",
    "    word_counts = Counter(text.split(\" \"))\n",
    "    return word_counts\n",
    "\n",
    "def read_book(title_path):\n",
    "    text   = pd.read_csv(title_path, sep = \"\\n\", engine='python', encoding=\"utf8\")\n",
    "    text = text.to_string(index = False)\n",
    "    return text\n",
    "\n",
    "def word_stats(word_counts):\n",
    "    num_unique = len(word_counts)\n",
    "    counts = word_counts.values()\n",
    "    return (num_unique, counts)"
   ]
  },
  {
   "cell_type": "markdown",
   "metadata": {},
   "source": [
    "### Exercise 1 \n",
    "\n",
    "In this case study, we will find and visualize summary statistics of the text of different translations of Hamlet. For this case study, functions `count_words_fast`, `read_book`, and `word_stats` are already defined as in the Case 2 Videos (Videos 3.2.x).\n",
    "\n",
    "#### Instructions \n",
    "- Read in the data as a pandas dataframe using `pd.read_csv`. The data can be found at https://courses.edx.org/asset-v1:HarvardX+PH526x+2T2019+type@asset+block@hamlets.csv"
   ]
  },
  {
   "cell_type": "code",
   "execution_count": 7,
   "metadata": {},
   "outputs": [
    {
     "data": {
      "text/html": [
       "<div>\n",
       "<style scoped>\n",
       "    .dataframe tbody tr th:only-of-type {\n",
       "        vertical-align: middle;\n",
       "    }\n",
       "\n",
       "    .dataframe tbody tr th {\n",
       "        vertical-align: top;\n",
       "    }\n",
       "\n",
       "    .dataframe thead th {\n",
       "        text-align: right;\n",
       "    }\n",
       "</style>\n",
       "<table border=\"1\" class=\"dataframe\">\n",
       "  <thead>\n",
       "    <tr style=\"text-align: right;\">\n",
       "      <th></th>\n",
       "      <th>Unnamed: 0</th>\n",
       "      <th>language</th>\n",
       "      <th>text</th>\n",
       "    </tr>\n",
       "  </thead>\n",
       "  <tbody>\n",
       "    <tr>\n",
       "      <th>0</th>\n",
       "      <td>1</td>\n",
       "      <td>English</td>\n",
       "      <td>The Tragedie of Hamlet\\n                      ...</td>\n",
       "    </tr>\n",
       "    <tr>\n",
       "      <th>1</th>\n",
       "      <td>2</td>\n",
       "      <td>German</td>\n",
       "      <td>Hamlet, Prinz von Dännemark.\\n                ...</td>\n",
       "    </tr>\n",
       "    <tr>\n",
       "      <th>2</th>\n",
       "      <td>3</td>\n",
       "      <td>Portuguese</td>\n",
       "      <td>HAMLET\\n                             DRAMA EM ...</td>\n",
       "    </tr>\n",
       "  </tbody>\n",
       "</table>\n",
       "</div>"
      ],
      "text/plain": [
       "   Unnamed: 0    language                                               text\n",
       "0           1     English  The Tragedie of Hamlet\\n                      ...\n",
       "1           2      German  Hamlet, Prinz von Dännemark.\\n                ...\n",
       "2           3  Portuguese  HAMLET\\n                             DRAMA EM ..."
      ]
     },
     "execution_count": 7,
     "metadata": {},
     "output_type": "execute_result"
    }
   ],
   "source": [
    "hamlets = pd.read_csv(\"hamlets.csv\")\n",
    "hamlets"
   ]
  },
  {
   "cell_type": "markdown",
   "metadata": {},
   "source": [
    "### Exercise 2 \n",
    "\n",
    "In this exercise, we will summarize the text for a single translation of Hamlet in a `pandas` dataframe. \n",
    "\n",
    "#### Instructions\n",
    "- Find the dictionary of word frequency in `text` by calling `count_words_fast()`. Store this as `counted_text`.\n",
    "- Create a `pandas` dataframe named `data`.\n",
    "- Using `counted_text`, define two columns in data:\n",
    "    - `word`, consisting of each unique word in text.\n",
    "    - `count`, consisting of the number of times each word in `word` is included in the text."
   ]
  },
  {
   "cell_type": "code",
   "execution_count": 42,
   "metadata": {},
   "outputs": [
    {
     "data": {
      "text/plain": [
       "dict_keys(['the', 'tragedie', 'of', 'hamlet', '', 'actus', 'primus', 'scoena', 'prima', 'enter', 'barnardo', 'and', 'francisco', 'two', 'centinels', 'whos', 'there', 'fran', 'nay', 'answer', 'me', 'stand', 'vnfold', 'your', 'selfe', 'bar', 'long', 'liue', 'king', 'he', 'you', 'come', 'most', 'carefully', 'vpon', 'houre', 'tis', 'now', 'strook', 'twelue', 'get', 'thee', 'to', 'bed', 'f', 'for', 'this', 'releefe', 'much', 'thankes', 'bitt', 'i', 'am', 'sicke', 'at', 'heart', 'barn', 'haue', 'had', 'quiet', 'guard', 'not', 'a', 'mouse', 'stirring', 'well', 'goodnight', 'if', 'do', 'meet', 'horatio', 'andmarcellus', 'riuals', 'my', 'watch', 'bid', 'them', 'make', 'marcellus', 'thinke', 'heare', 'hor', 'friends', 'ground', 'mar', 'leigemen', 'dane', 'giue', 'good', 'night', 'o', 'farwel', 'honest', 'soldier', 'who', 'hath', 'relieu', 'fra', 'has', 'place', 'exit', 'holla', 'say', 'what', 'is', 'peece', 'him', 'welcome', 'thing', 'appeard', 'againe', 'n', 'seene', 'nothing', 'saies', 'but', 'our', 'fantasie', 'will', 'let', 'beleefe', 'take', 'hold', 'touching', 'dreaded', 'sight', 'twice', 'vs', 'therefore', 'intreated', 'along', 'with', 'minutes', 'that', 'apparition', 'may', 'approue', 'eyes', 'speake', 'it', 'tush', 'twill', 'appeare', 'sit', 'downe', 'awhile', 'once', 'assaile', 'eares', 'are', 'so', 'fortified', 'against', 'story', 'we', 'nights', 'last', 'allwhen', 'yond', 'same', 'starre', 'thats', 'westward', 'from', 'made', 'his', 'course', 't', 'illume', 'part', 'heauen', 'where', 'burnes', 'bell', 'then', 'beating', 'one', 'peace', 'breake', 'ghost', 'looke', 'comes', 'in', 'figure', 'like', 'thou', 'art', 'scholler', 'lookes', 'marke', 'h', 'hora', 'harrowes', 'fear', 'wo', 'would', 'be', 'spoke', 'too', 'question', 'vsurpst', 'time', 'together', 'faire', 'warlike', 'forme', 'which', 'maiesty', 'buried', 'denmarkedid', 'sometimes', 'march', 'by', 'charge', 'sp', 'offended', 'see', 'stalkes', 'away', 'stay', 'gone', 'how', 'tremble', 'look', 'pale', 'something', 'more', 'ont', 'before', 'god', 'might', 'beleeue', 'without', 'sensible', 'true', 'auouch', 'mine', 'owne', 'as', 'thy', 'such', 'was', 'very', 'armour', 'on', 'when', 'th', 'ambitious', 'norwey', 'combatted', 'frownd', 'an', 'angry', 'parle', 'smot', 'sledded', 'pollax', 'ice', 'strange', 'thus', 'iust', 'dead', 'martiall', 'stalke', 'particular', 'thought', 'work', 'kn', 'grosse', 'scope', 'opinion', 'boades', 'some', 'erruption', 'state', 'tell', 'knowes', 'why', 'strict', 'obseruant', 'nightly', 'toyles', 'subiect', 'land', 'dayly', 'cast', 'brazon', 'cannon', 'forraigne', 'mart', 'implements', 'warrewhy', 'impresse', 'shipwrights', 'whose', 'sore', 'taske', 'dos', 'diuide', 'sunday', 'weeke', 'toward', 'sweaty', 'hast', 'doth', 'ioyntlabourer', 'day', 'ist', 'can', 'informe', 'least', 'whisper', 'goes', 'image', 'euen', 'know', 'fortinbras', 'norway', 'thereto', 'prickd', 'emulate', 'pride', 'dard', 'combate', 'valiant', 'side', 'knowne', 'world', 'esteemd', 'did', 'slay', 'seald', 'compact', 'ratified', 'law', 'heraldrie', 'forfeite', 'life', 'all', 'those', 'lands', 'stood', 'seizd', 'conqueror', 'moity', 'competent', 'gaged', 'returnd', 'inheritance', 'bin', 'vanquisher', 'counant', 'carriage', 'article', 'designe', 'fell', 'sir', 'young', 'vnimproued', 'mettle', 'hot', 'full', 'skirts', 'heere', 'sharkd', 'vp', 'list', 'landlesse', 'resolutes', 'foode', 'diet', 'enterprize', 'stomacke', 'int', 'no', 'other', 'vnto', 'recouer', 'strong', 'hand', 'termes', 'compulsatiue', 'foresaid', 'father', 'lost', 'maine', 'motiue', 'preparations', 'sourse', 'cheefe', 'head', 'posthast', 'romage', 'soft', 'behold', 'loe', 'ile', 'crosse', 'though', 'blast', 'illusion', 'any', 'sound', 'or', 'vse', 'voycespeake', 'ease', 'grace', 'speak', 'priuy', 'countries', 'fate', 'happily', 'foreknowing', 'auoyd', 'oh', 'vphoorded', 'extorted', 'treasure', 'wombe', 'earthfor', 'they', 'spirits', 'oft', 'walke', 'death', 'stop', 'shall', 'strike', 'partizan', 'wrong', 'being', 'maiesticall', 'offer', 'shew', 'violence', 'ayre', 'invulnerable', 'vaine', 'blowes', 'malicious', 'mockery', 'about', 'cocke', 'started', 'guilty', 'fearfull', 'summons', 'heard', 'trumpet', 'lofty', 'shrillsounding', 'throate', 'awake', 'warning', 'whether', 'sea', 'fire', 'earth', 'extrauagant', 'erring', 'spirit', 'hyes', 'confine', 'truth', 'heerein', 'present', 'obiect', 'probation', 'faded', 'crowing', 'sayes', 'euer', 'gainst', 'season', 'wherein', 'sauiours', 'birch', 'celebrated', 'bird', 'dawning', 'singeth', 'abroad', 'wholsome', 'planets', 'faiery', 'talkes', 'nor', 'witch', 'power', 'charme', 'hallowd', 'gracious', 'morne', 'russet', 'mantle', 'clad', 'walkes', 'ore', 'dew', 'yon', 'high', 'easterne', 'hill', 'aduice', 'impart', 'yong', 'dumbe', 'consent', 'acquaint', 'needfull', 'loues', 'fitting', 'duty', 'dot', 'pray', 'morning', 'finde', 'conueniently', 'exeunt', 'scena', 'secundaenter', 'claudius', 'denmarke', 'gertrude', 'q', 'polonius', 'laertes', 'sister', 'ophelia', 'lords', 'attendant', 'yet', 'deere', 'brothers', 'memory', 'greene', 'befittedto', 'beare', 'hearts', 'greefe', 'whole', 'ki', 'contracted', 'brow', 'woe', 'farre', 'discretion', 'fought', 'nature', 'wisest', 'sorrow', 'remembrance', 'selues', 'queene', 'imperiall', 'ioyntresse', 'twere', 'defeated', 'ioy', 'auspicious', 'dropping', 'eyewith', 'mirth', 'funerall', 'dirge', 'marriage', 'equall', 'scale', 'weighing', 'delight', 'dole', 'taken', 'wife', 'barrd', 'better', 'wisedomes', 'freely', 'affaire', 'followes', 'holding', 'weake', 'supposall', 'worth', 'thinking', 'late', 'disioynt', 'out', 'frame', 'colleagued', 'dreame', 'aduantage', 'fayld', 'pester', 'message', 'importing', 'surrender', 'bonds', 'brother', 'voltemand', 'cornelius', 'meeting', 'businesse', 'writ', 'vncle', 'impotent', 'bedrid', 'scarsely', 'heares', 'nephewes', 'purpose', 'suppresse', 'further', 'gate', 'leuies', 'lists', 'proportions', 'dispatch', 'bearing', 'greeting', 'old', 'giuing', 'personall', 'these', 'dilated', 'articles', 'allow', 'farewell', 'commend', 'volt', 'things', 'ou', 'doubt', 'heartily', 'whats', 'newes', 'told', 'suite', 'cannot', 'reason', 'daneand', 'loose', 'voyce', 'wouldst', 'beg', 'lae', 'asking', 'natiue', 'instrumentall', 'mouth', 'throne', 'laer', 'dread', 'lord', 'leaue', 'fauour', 'returne', 'france', 'whence', 'willingly', 'came', 'coronation', 'must', 'confesse', 'donemy', 'thoughts', 'wishes', 'bend', 'towards', 'bow', 'pardon', 'fathers', 'pollonius', 'pol', 'beseech', 'go', 'best', 'graces', 'spend', 'cosin', 'sonne', 'ham', 'little', 'kin', 'lesse', 'kinde', 'clouds', 'still', 'hang', 'ith', 'sun', 'queen', 'colour', 'offand', 'thine', 'eye', 'friend', 'veyled', 'lids', 'seeke', 'noble', 'dust', 'knowst', 'common', 'liues', 'dye', 'passing', 'through', 'eternity', 'madam', 'seemes', 'alone', 'inky', 'cloake', 'mother', 'customary', 'suites', 'solemne', 'blacke', 'windy', 'suspiration', 'forcd', 'breath', 'fruitfull', 'riuer', 'deiected', 'hauiour', 'visage', 'formes', 'moods', 'shewes', 'griefe', 'denote', 'truly', 'indeed', 'seeme', 'actions', 'man', 'play', 'within', 'passeth', 'show', 'trappings', 'sweet', 'commendable', 'mourning', 'duties', 'suruiuer', 'bound', 'filiall', 'obligation', 'terme', 'obsequious', 'perseuer', 'obstinate', 'condolement', 'impious', 'stubbornnesse', 'vnmanly', 'incorrect', 'vnfortified', 'minde', 'impatient', 'vnderstanding', 'simple', 'vnschoold', 'vulgar', 'sence', 'should', 'peeuish', 'opposition', 'fye', 'fault', 'absurd', 'theame', 'cried', 'first', 'coarse', 'till', 'dyed', 'throw', 'vnpreuayling', 'note', 'immediate', 'nobility', 'loue', 'deerest', 'beares', 'intent', 'going', 'backe', 'schoole', 'wittenberg', 'retrograde', 'desire', 'remaine', 'cheere', 'comfort', 'cheefest', 'courtier', 'qu', 'lose', 'her', 'prayers', 'prythee', 'obey', 'louing', 'reply', 'gentle', 'vnforcd', 'accord', 'sits', 'smiling', 'whereof', 'iocond', 'health', 'drinkes', 'great', 'clowds', 'telland', 'kings', 'rouce', 'heauens', 'bruite', 'respeaking', 'earthly', 'thunder', 'manet', 'solid', 'flesh', 'melt', 'thaw', 'resolue', 'into', 'euerlasting', 'fixt', 'selfeslaughter', 'weary', 'stale', 'flat', 'vnprofitable', 'vses', 'fie', 'vnweeded', 'gardenthat', 'growes', 'seed', 'rank', 'possesse', 'meerely', 'months', 'excellent', 'hiperion', 'satyre', 'beteene', 'windes', 'visit', 'face', 'roughly', 'remember', 'she', 'encrease', 'appetite', 'growne', 'fed', 'month', 'frailty', 'name', 'woman', 'ere', 'shooes', 'were', 'followed', 'poore', 'body', 'niobe', 'teares', 'beast', 'wants', 'discourse', 'mournd', 'longer', 'married', 'vnkle', 'hercules', 'moneth', 'salt', 'vnrighteous', 'left', 'flushing', 'gauled', 'wicked', 'speed', 'post', 'dexterity', 'incestuous', 'sheets', 'tongue', 'haile', 'lordship', 'glad', 'forget', 'seruant', 'change', 'faith', 'wittemberge', 'truant', 'disposition', 'enemy', 'doe', 'eare', 'truster', 'report', 'elsenour', 'weel', 'teach', 'drinke', 'deepe', 'depart', 'fune', 'mock', 'fellow', 'student', 'mothers', 'wedding', 'hard', 'thrift', 'bakt', 'coldly', 'furnish', 'forth', 'tables', 'met', 'dearest', 'foe', 'thinkes', 'minds', 'saw', 'goodly', 'yesternight', 'admiration', 'while', 'attent', 'deliuer', 'witnesse', 'gentlemen', 'maruell', 'their', 'wast', 'middle', 'beene', 'encountred', 'armd', 'points', 'exactly', 'cap', 'pe', 'appeares', 'sollemne', 'slow', 'stately', 'thrice', 'walkt', 'opprest', 'fearesurprized', 'truncheons', 'length', 'whilst', 'bestild', 'almost', 'ielly', 'act', 'feare', 'dreadfull', 'secrecie', 'third', 'kept', 'whereas', 'deliuerd', 'both', 'each', 'word', 'knew', 'hands', 'platforme', 'watcht', 'answere', 'none', 'lifted', 'addresse', 'motion', 'crew', 'lowd', 'shrunke', 'vanisht', 'honourd', 'sirs', 'troubles', 'top', 'toe', 'foote', 'yes', 'wore', 'beauer', 'lookt', 'frowningly', 'countenance', 'anger', 'red', 'constantly', 'amazd', 'staid', 'moderate', 'sawt', 'beard', 'grisly', 'sable', 'siluerd', 'perchance', 'wake', 'warrant', 'assume', 'personile', 'hell', 'gape', 'hitherto', 'conceald', 'bee', 'treble', 'silence', 'whatsoeuer', 'els', 'hap', 'requite', 'fare', 'ye', 'twixt', 'eleuen', 'honour', 'armes', 'welli', 'foule', 'cometill', 'soule', 'deeds', 'orewhelm', 'mens', 'eies', 'tertia', 'necessaries', 'imbarkt', 'winds', 'benefit', 'conuoy', 'assistant', 'sleepe', 'ophel', 'trifling', 'fauours', 'fashion', 'toy', 'bloude', 'violet', 'youth', 'primy', 'froward', 'permanent', 'lasting', 'suppliance', 'minute', 'cressant', 'does', 'grow', 'thewes', 'bulke', 'temple', 'waxes', 'inward', 'seruice', 'wide', 'withall', 'perhaps', 'soyle', 'cautell', 'besmerch', 'vertue', 'greatnesse', 'weighd', 'hee', 'himselfe', 'birth', 'vnuallued', 'persons', 'carue', 'choyce', 'depends', 'sanctity', 'circumscribd', 'yeelding', 'bodywhereof', 'lou', 'fits', 'wisedome', 'peculiar', 'sect', 'force', 'saying', 'deed', 'weight', 'losse', 'sustaine', 'credent', 'songs', 'chast', 'open', 'vnmastred', 'importunity', 'deare', 'keepe', 'reare', 'affection', 'shot', 'danger', 'chariest', 'maid', 'prodigall', 'enough', 'vnmaske', 'beauty', 'moone', 'scapes', 'calumnious', 'stroakes', 'canker', 'galls', 'infants', 'spring', 'buttons', 'disclosd', 'liquid', 'contagious', 'blastments', 'imminent', 'wary', 'safety', 'lies', 'rebels', 'else', 'neere', 'ophe', 'effect', 'lesson', 'watchmen', 'vngracious', 'pastors', 'steepe', 'thorny', 'way', 'puft', 'recklesse', 'libertine', 'primrose', 'path', 'dalliance', 'treads', 'reaks', 'reade', 'here', 'double', 'blessing', 'occasion', 'smiles', 'second', 'polon', 'aboord', 's', 'winde', 'shoulder', 'saile', 'few', 'precepts', 'character', 'vnproportiond', 'familiar', 'meanes', 'adoption', 'tride', 'grapple', 'hoopes', 'steele', 'dull', 'palme', 'entertainment', 'vnhatcht', 'vnfledgd', 'comrade', 'beware', 'entrance', 'quarrell', 'beart', 'opposed', 'euery', 'mans', 'censure', 'reserue', 'iudgement', 'costly', 'habit', 'purse', 'buy', 'exprest', 'fancie', 'rich', 'gawdie', 'apparell', 'proclaimes', 'ranck', 'station', 'select', 'generous', 'cheff', 'neither', 'borrower', 'lender', 'lone', 'loses', 'borrowing', 'duls', 'edge', 'husbandry', 'aboue', 'follow', 'canst', 'false', 'humbly', 'inuites', 'goe', 'said', 'lockt', 'key', 'please', 'somthing', 'lor', 'marry', 'bethought', 'giuen', 'priuate', 'selfehaue', 'audience', 'free', 'boun', 'put', 'caution', 'vnderstand', 'cleerely', 'behoues', 'daughter', 'betweene', 'many', 'tenders', 'puh', 'green', 'vnsifted', 'perillous', 'circumstance', 'call', 'tane', 'paywhich', 'starling', 'tender', 'crack', 'phrase', 'roaming', 'youl', 'foole', 'importund', 'honourable', 'speech', 'vowes', 'springes', 'catch', 'woodcocks', 'bloud', 'giues', 'blazes', 'light', 'heate', 'extinct', 'promise', 'makingyou', 'somewhat', 'scanter', 'maiden', 'presence', 'set', 'entreatments', 'higher', 'rate', 'command', 'parley', 'larger', 'tether', 'broakers', 'inuestments', 'meere', 'implorators', 'vnholy', 'sutes', 'breathing', 'sanctified', 'pious', 'beguile', 'alli', 'plaine', 'tearmes', 'slander', 'moment', 'leisure', 'words', 'talke', 'toot', 'wayes', 'bites', 'shrewdly', 'cold', 'nipping', 'eager', 'hower', 'lacks', 'strooke', 'drawes', 'ne', 'held', 'wont', 'meane', 'takes', 'hikeepes', 'wassels', 'swaggering', 'vpspring', 'reeles', 'dreines', 'draughts', 'renish', 'kettle', 'drum', 'bray', 'triumph', 'pledge', 'horat', 'custome', 'mind', 'manner', 'borne', 'breach', 'obseruance', 'angels', 'ministers', 'defend', 'goblin', 'damndbring', 'ayres', 'blasts', 'fr', 'euents', 'charitable', 'comst', 'questionable', 'shape', 'royall', 'burst', 'ignorance', 'canonizd', 'bones', 'hearsed', 'cerments', 'sepulcher', 'quietly', 'enurnd', 'opd', 'ponderous', 'marble', 'iawes', 'compleat', 'reuisits', 'glimpses', 'making', 'hidious', 'fooles', 'horridly', 'shake', 'beyond', 'reaches', 'soules', 'wherefore', 'beckens', 'beckons', 'impartment', 'courteous', 'action', 'wafts', 'remoued', 'pins', 'fee', 'immortall', 'waues', 'tempt', 'floud', 'm', 'sonnet', 'cliffe', 'beetles', 'base', 'assumes', 'horrible', 'depriue', 'soueraignty', 'draw', 'madnesse', 'off', 'ruld', 'cries', 'makes', 'petty', 'artire', 'hardy', 'nemian', 'lions', 'nerue', 'cald', 'vnhand', 'heaun', 'lets', 'desperate', 'imagination', 'fit', 'after', 'issue', 'rotten', 'denm', 'direct', 'wilt', 'lead', 'gho', 'sulphurous', 'tormenting', 'flames', 'render', 'alas', 'pitty', 'lend', 'serious', 'hearing', 'reuenge', 'shalt', 'doomd', 'certaine', 'confind', 'fast', 'fiers', 'crimes', 'done', 'dayes', 'burnt', 'purgd', 'forbid', 'secrets', 'prisonhouse', 'could', 'tale', 'lightest', 'harrow', 'freeze', 'bloodmake', 'starres', 'start', 'thei', 'knotty', 'combined', 'lockes', 'haire', 'end', 'quilles', 'fretfull', 'porpentine', 'eternall', 'blason', 'didst', 'vnnaturall', 'mu', 'murther', 'wings', 'swift', 'meditation', 'sweepe', 'apt', 'duller', 'shouldst', 'fat', 'weede', 'rots', 'lethe', 'wharfe', 'stirre', 'its', 'sleeping', 'orchard', 'serpent', 'stung', 'forged', 'processe', 'rankly', 'abusd', 'sting', 'weares', 'crowne', 'propheticke', 'adulterate', 'beastwith', 'witchcraft', 'wits', 'traitorous', 'gu', 'wit', 'gifts', 'seduce', 'won', 'shamefull', 'lust', 'seeming', 'vertuous', 'falling', 'dignity', 'went', 'vow', 'decline', 'wretch', 'naturall', 'pooreto', 'neuer', 'wil', 'lewdnesse', 'court', 'radiant', 'angell', 'linkdwill', 'sate', 'celestiall', 'prey', 'sent', 'mornings', 'briefe', 'alwayes', 'afternoone', 'secure', 'stole', 'iuyce', 'cursed', 'hebenon', 'violl', 'porches', 'poure', 'leaperous', 'distilment', 'holds', 'enmity', 'quicksiluer', 'courses', 'gates', 'allies', 'sodaine', 'vigour', 'posset', 'curd', 'aygre', 'droppings', 'milke', 'thin', 'blood', 'instant', 'tetter', 'bakd', 'lazarlike', 'vile', 'loathsome', 'crust', 'smooth', 'dispatcht', 'cut', 'blossomes', 'sinne', 'vnhouzzled', 'disappointed', 'vnnaneld', 'reckoning', 'account', 'imperfections', 'couch', 'luxury', 'damned', 'incest', 'howsoeuer', 'pursuest', 'taint', 'contriue', 'ought', 'thornes', 'bosome', 'lodge', 'pricke', 'glowworme', 'showes', 'matine', 'gins', 'vneffectuall', 'adue', 'host', 'couple', 'sinnewes', 'stiffely', 'seate', 'distracted', 'globe', 'yea', 'table', 'wipe', 'triuiall', 'fond', 'records', 'sawes', 'bookes', 'presures', 'past', 'obseruation', 'coppied', 'commandment', 'booke', 'volume', 'braine', 'vnmixt', 'baser', 'matter', 'pernicious', 'villaine', 'smile', 'im', 'sure', 'vnckle', 'swornt', 'illo', 'ho', 'hillo', 'boy', 'wonderfull', 'reueale', 'onc', 'secret', 'theres', 'nere', 'dwelling', 'hees', 'arrant', 'knaue', 'needs', 'graue', 'right', 'busines', 'desires', 'point', 'wild', 'hurling', 'sorry', 'offend', 'offence', 'saint', 'patricke', 'vision', 'oremastert', 'schollers', 'soldiers', 'request', 'known', 'seen', 'sweart', 'infaith', 'sword', 'marcell', 'sworne', 'already', 'sweare', 'vnder', 'stage', 'ah', 'ha', 'sayest', 'selleredge', 'propose', 'oath', 'hic', 'vbique', 'shift', 'grownd', 'hither', 'lay', 'mole', 'worke', 'grou', 'worthy', 'pioner', 'remoue', 'wondrous', 'stranger', 'welthere', 'dreamt', 'philosophy', 'helpe', 'mercy', 'odde', 'heereafter', 'anticke', 'seeing', 'encombred', 'pronouncing', 'doubtfull', 'wouldor', 'ambiguous', 'neede', 'rest', 'perturbed', 'expresse', 'friending', 'yougod', 'willing', 'lacke', 'toge', 'fingers', 'lippes', 'ioynt', 'spight', 'secundus', 'reynoldo', 'money', 'notes', 'rey', 'reynol', 'maruels', 'wisely', 'visite', 'inquiry', 'behauiour', 'intend', 'enquire', 'danskers', 'paris', 'company', 'expence', 'finding', 'encompassement', 'drift', 'neerer', 'demands', 'touch', 'distant', 'knowledge', 'ift', 'wilde', 'addicted', 'forgeries', 'ranke', 'dishonour', 'heed', 'wanton', 'vsuall', 'slips', 'companions', 'noted', 'liberty', 'gaming', 'drinking', 'fencing', 'swearing', 'quarelling', 'drabbing', 'another', 'scandall', 'incontinenciethats', 'meaning', 'faults', 'taints', 'flash', 'outbreake', 'fiery', 'mindea', 'sauagenes', 'vnreclaimd', 'generall', 'heeres', 'belieue', 'fetch', 'laying', 'slight', 'sulleyes', 'soild', 'workingmarke', 'party', 'conuerse', 'hauing', 'prenominate', 'assurd', 'closes', 'consequence', 'gentleman', 'according', 'addition', 'country', 'yesterday', 'tother', 'dayor', 'oretooke', 'ins', 'rouse', 'tennis', 'house', 'videlicet', 'brothell', 'bait', 'falshood', 'cape', 'reach', 'windlesses', 'assaies', 'bias', 'indirections', 'directions', 'former', 'lecture', 'obserue', 'inclination', 'plye', 'musicke', 'affrighted', 'sowing', 'chamber', 'doublet', 'vnbracd', 'hat', 'stockings', 'fould', 'vngartred', 'giued', 'anckle', 'shirt', 'knees', 'knocking', 'pitious', 'purport', 'been', 'loosed', 'horrors', 'mad', 'tooke', 'wrist', 'arme', 'fals', 'perusall', 'shaking', 'wauing', 'raisd', 'sigh', 'pittious', 'profound', 'shatter', 'ouer', 'shoulders', 'turnd', 'seemd', 'adores', 'bended', 'extasie', 'violent', 'property', 'foredoes', 'leads', 'vndertakings', 'passion', 'afflict', 'natures', 'sorrie', 'repell', 'letters', 'denyde', 'accesse', 'quoted', 'trifleand', 'meant', 'wracke', 'beshrew', 'iealousie', 'proper', 'age', 'opinions', 'yonger', 'sort', 'close', 'moue', 'hide', 'hate', 'vtter', 'rosincrane', 'guildensterne', 'rosincrance', 'guildenst', 'moreouer', 'prouoke', 'hastie', 'sending', 'hamlets', 'transformation', 'since', 'exterior', 'resembles', 'beemore', 'deeme', 'intreat', 'brought', 'neighbourd', 'humour', 'vouchsafe', 'companies', 'pleasures', 'gather', 'occasions', 'gleane', 'opend', 'remedie', 'talkd', 'men', 'liuing', 'whom', 'adheres', 'gentrie', 'expend', 'supply', 'profit', 'hope', 'visitation', 'receiue', 'rosin', 'maiesties', 'soueraigne', 'entreatie', 'guil', 'bent', 'seruices', 'feete', 'commanded', 'guilden', 'rosincr', 'instantly', 'changed', 'bring', 'prac', 'pleasant', 'helpfull', 'amen', 'ambassadors', 'ioyfully', 'assure', 'liege', 'dutie', 'hunts', 'traile', 'policie', 'vsd', 'found', 'cause', 'lunacie', 'admittance', 'feast', 'tels', 'sonnes', 'distemper', 'orehasty', 'voltumand', 'sift', 'frends', 'greetings', 'des', 'preparation', 'poleak', 'lookd', 'highnesse', 'whereat', 'greeued', 'sicknesse', 'impotence', 'falsely', 'sends', 'arrests', 'breefe', 'obeyes', 'receiues', 'rebuke', 'fine', 'assay', 'maiestie', 'whereon', 'ouercome', 'three', 'thousand', 'crownes', 'annuall', 'commission', 'imploy', 'leuied', 'intreaty', 'shewne', 'passe', 'dominions', 'regards', 'allowance', 'therein', 'likes', 'considerd', 'read', 'businessemeane', 'thanke', 'welltooke', 'la', 'home', 'ambass', 'ended', 'expostulate', 'waste', 'breuitie', 'witand', 'tediousnesse', 'limbes', 'outward', 'flouri', 'define', 'pittie', 'foolish', 'grant', 'remaines', 'rather', 'defect', 'defectiue', 'remainder', 'perpend', 'obedience', 'surmise', 'letterto', 'idoll', 'mostthats', 'ill', 'vilde', 'beautified', 'excell', 'faithfull', 'sunne', 'lier', 'loueo', 'numbers', 'hareckon', 'grones', 'adieu', 'euermore', 'lady', 'machine', 'shewd', 'soliciting', 'receiud', 'wold', 'faine', 'proue', 'yo', 'wing', 'perceiued', 'think', 'playd', 'deske', 'tablebooke', 'winking', 'mute', 'idle', 'round', 'mistris', 'bespeake', 'prince', 'gaue', 'locke', 'resort', 'admit', 'messengers', 'tokens', 'fruites', 'repulsed', 'short', 'sadnesse', 'thence', 'weaknesse', 'lightnesse', 'declension', 'raues', 'waile', 'likely', 'bene', 'ide', 'fain', 'possitiuely', 'proud', 'otherwise', 'circumstances', 'leade', 'hid', 'indeede', 'center', 'try', 'foure', 'houres', 'lobby', 'behinde', 'arras', 'encounter', 'falne', 'thereon', 'farme', 'carters', 'reading', 'sadly', 'boord', 'presently', 'godamercy', 'yare', 'fishmonger', 'pickd', 'breed', 'magots', 'd', 'kissing', 'carrion', 'ithsunne', 'conception', 'ablessing', 'conceiue', 'harping', 'myyet', 'fihe', 'youthi', 'suffred', 'extreamity', 'slanders', 'satyricall', 'slaue', 'sthat', 'gray', 'beards', 'faces', 'purging', 'thicke', 'amber', 'plumtreegumme', 'plentifull', 'oftogether', 'hammes', 'imost', 'powerfully', 'potently', 'holnot', 'honestie', 'youselfe', 'crab', 'backward', 'method', 'oth', 'pregnant', 'replies', 'happinesse', 'often', 'hits', 'sanitie', 'prosperously', 'sodainely', 'except', 'lif', 'tedious', 'rosincran', 'saue', 'guild', 'dost', 'lads', 'indifferent', 'children', 'happy', 'ouerhappy', 'button', 'soales', 'shoo', 'priuates', 'parts', 'fortune', 'strumpet', 'worlds', 'doomesday', 'isnot', 'whyou', 'deserued', 'prison', 'denmarks', 'co', 'wards', 'dungeons', 'worst', 'bad', 'ambition', 'narrow', 'bounded', 'nutshell', 'andcount', 'infinite', 'space', 'dreames', 'thevery', 'substance', 'shadow', 'truely', 'ayry', 'quality', 'shadowes', 'beggers', 'bodies', 'mon', 'outstretcht', 'heroes', 'shadowesshall', 'wee', 'fey', 'r', 'wait', 'withrest', 'seruants', 'dreadfully', 'attended', 'b', 'friendship', 'elsonower', 'begger', 'thabut', 'thanksare', 'halfepeny', 'fo', 'inclining', 'deale', 'iustly', 'weresent', 'confession', 'yowhich', 'modesties', 'craft', 'mee', 'coniureyou', 'rights', 'fellowship', 'conour', 'euerpreseruand', 'proposer', 'couldyou', 'anticippreuent', 'discouery', 'secricie', 'thequeene', 'moult', 'feather', 'whei', 'forgone', 'custoand', 'heauenly', 'disposithat', 'promontory', 'canopy', 'ayrelook', 'braue', 'orehanging', 'maiesticalfretted', 'golden', 'otto', 'pestilent', 'congregation', 'piece', 'inreason', 'faculty', 'mohow', 'admirable', 'apprehension', 'theworld', 'parragon', 'animals', 'wh', 'quintessence', 'delights', 'nonor', 'stuffe', 'laugh', 'iwhat', 'lenton', 'players', 'refrom', 'coated', 'comming', 'playes', 'welcommaiesty', 'tribute', 'aduenturousknight', 'shal', 'foyle', 'target', 'louernot', 'gratis', 'humorous', 'hispeace', 'clowne', 'tickled', 'ath', 'sere', 'hefreely', 'blanke', 'verse', 'halt', 'fort', 'wha', 'delig', 'tragedians', 'city', 'chances', 'trauaile', 'resi', 'reputation', 'inhibition', 'innouation', 'estimation', 'followd', 'rusty', 'indeauour', 'keepes', 'wontedpace', 'ayrie', 'yases', 'crye', 'andare', 'tyrannically', 'clapt', 'nowfashion', 'beratled', 'stages', 'theycall', 'wearing', 'rapiers', 'affrai', 'goosequils', 'dare', 'scarse', 'thither', 'maintains', 'emhow', 'escorted', 'pursue', 'qualonger', 'sing', 'afif', 'themselues', 'playeit', 'exclaim', 'succession', 'boand', 'nation', 'tarre', 'mony', 'argumentvnlesse', 'poet', 'player', 'cuffes', 'possible', 'throwing', 'braines', 'boyes', 'carry', 'l', 'mowes', 'himwhile', 'liued', 'twenty', 'forty', 'hunducates', 'picture', 'ther', 'philosophie', 'flourish', 'welcom', 'yourhands', 'appurtenance', 'ceremony', 'comply', 'garbelest', 'extent', 'youfairely', 'yours', 'aunt', 'deceiud', 'north', 'northwest', 'southerly', 'hawke', 'handsaw', 'hearke', 'ateare', 'hearer', 'baby', 'swathing', 'clouts', 'hes', 'childe', 'prophesie', 'oplayers', 'mark', 'monday', 'twas', 'rossius', 'actor', 'rome', 'actors', 'buzze', 'honor', 'asse', 'either', 'comedie', 'historie', 'pastorall', 'pastoricallcomicallhistoricallpastoralltragicallhistoricall', 'tragicallcomicallhistoric', 'scene', 'indiuidible', 'poem', 'vnlimited', 'seneca', 'heauy', 'plautustoo', 'onely', 'iephta', 'iudge', 'israel', 'treasur', 'loued', 'lot', 'wot', 'itcame', 'ropons', 'chanson', 'wher', 'abridgements', 'fiue', 'playersyare', 'masters', 'olde', 'friendthy', 'comsbeard', 'mis', 'byrlady', 'ladiship', 'wheni', 'altitude', 'choppine', 'pyour', 'voice', 'vncurrant', 'gold', 'nwithin', 'ring', 'wetot', 'french', 'faulconers', 'flie', 'whaue', 'straight', 'tast', 'passionate', '1play', 'acted', 'thremember', 'pleasd', 'million', 'cauiarie', 'othersiudgement', 'matters', 'digested', 'scoenes', 'sewith', 'modestie', 'cunning', 'onthere', 'sallets', 'lines', 'indite', 'theauthor', 'affectation', 'mecheefe', 'cheefely', 'loud', 'aeneato', 'dido', 'thereabout', 'especially', 'priams', 'slaughter', 'line', 'rugged', 'pyrthhyrcanian', 'begins', 'pyrrhus', 'resemble', 'couched', 'ominous', 'horse', 'complexion', 'smeard', 'heraldry', 'dismall', 'geulles', 'trickd', 'daughters', 'impasted', 'parching', 'streets', 'tyrannous', 'lightto', 'murthers', 'roasted', 'wrath', 'oresized', 'coagulate', 'gore', 'carbuncles', 'hellish', 'grandsire', 'priam', 'seekes', 'fore', 'spoken', '1player', 'anon', 'findes', 'striking', 'greekes', 'rebellious', 'lyes', 'falles', 'repugnant', 'vnequall', 'match', 'driues', 'rage', 'strikes', 'whiffe', 'vnnerued', 'senselesse', 'illium', 'feele', 'blow', 'flaming', 'stoopes', 'bace', 'hideous', 'crash', 'prisoner', 'declining', 'milkie', 'reuerend', 'sticke', 'painted', 'tyrant', 'stoodand', 'newtrall', 'storme', 'racke', 'bold', 'speechlesse', 'orbe', 'below', 'hush', 'rend', 'region', 'pause', 'rowsed', 'vengeance', 'sets', 'new', 'aworke', 'cyclops', 'hammers', 'fall', 'mars', 'armours', 'forgd', 'proofe', 'eterne', 'remorse', 'bleeding', 'strumpetfortune', 'gods', 'synod', 'powerbreake', 'spokes', 'fallies', 'wheeleand', 'boule', 'naue', 'low', 'fiends', 'toth', 'barbars', 'psay', 'iigge', 'baudry', 'sleepes', 'hecuba', 'inobled', 'run', 'barefoot', 'threatning', 'flame', 'bisson', 'rheume', 'clout', 'diadem', 'robe', 'lanke', 'oreteamed', 'loines', 'blanket', 'alarum', 'caught', 'venome', 'steepdgainst', 'fortunes', 'treason', 'prono', 'sport', 'mincing', 'husbands', 'clamour', 'vnlesse', 'mortall', 'allwould', 'milche', 'burning', 'restsoone', 'arethe', 'abstracts', 'chronicles', 'timyour', 'epitaph', 'bodykins', 'euerie', 'manafter', 'desart', 'scape', 'whippingthem', 'own', 'lessdeserue', 'merit', 'bountie', 'gonzago', 'morrow', 'aneed', 'study', 'dosen', 'sixteene', 'insert', 'youmock', 'til', 'buyye', 'rogue', 'pesant', 'monstrous', 'fixion', 'conceit', 'working', 'warmd', 'distraction', 'aspect', 'broken', 'function', 'suiting', 'weepe', 'cue', 'passionthat', 'drowne', 'cleaue', 'horrid', 'apale', 'confound', 'ignorant', 'amaze', 'muddymetled', 'rascall', 'peake', 'iohn', 'adreames', 'vnpregnant', 'damnd', 'defeate', 'coward', 'calles', 'breakes', 'pate', 'acrosse', 'pluckes', 'facetweakes', 'byth', 'nose', 'lye', 'lungs', 'pigeonliuerd', 'gall', 'oppression', 'bitter', 'fatted', 'kites', 'slaues', 'offall', 'bloudy', 'bawdy', 'villaineremorselesse', 'treacherous', 'letcherous', 'kindles', 'vi', 'murthered', 'prompted', 'whore', 'vnpacke', 'cursing', 'drab', 'scullion', 'vpont', 'foh', 'brainei', 'creatures', 'sitting', 'scoene', 'proclaimd', 'malefactions', 'speakewith', 'myraculous', 'organ', 'murder', 'rent', 'quicke', 'blench', 'diuell', 'diuel', 'pleasing', 'melancholly', 'potent', 'abuses', 'damne', 'grounds', 'relatiue', 'plays', 'conscience', 'guildenstern', 'puts', 'confusion', 'grating', 'harshly', 'turbulent', 'dangerous', 'lunacy', 'feeles', 'forward', 'sounded', 'crafty', 'aloofe', 'forcing', 'niggard', 'pastime', 'pla', 'orewrought', 'order', 'beseechd', 'intreate', 'con', 'inclind', 'driue', 'closely', 'accident', 'thereaffront', 'lawful', 'bestow', 'vnseene', 'frankely', 'behaued', 'affliction', 'suffers', 'wish', 'beauties', 'causeof', 'wildenesse', 'ver', 'wonted', 'honors', 'ple', 'exercise', 'lonelinesse', 'blame', 'deuotions', 'surge', 'truehow', 'smart', 'lash', 'cons', 'harlots', 'cheeke', 'beautied', 'plaistring', 'vgly', 'helpes', 'deede', 'heauie', 'burthen', 'withdraw', 'nobler', 'suffer', 'slings', 'arrowes', 'outragious', 'opposing', 'heartake', 'shockes', 'heyre', 'consummation', 'deuoutly', 'wishd', 'rubfor', 'shuffeld', 'coile', 'pawse', 'respect', 'calamity', 'lifefor', 'whips', 'scornes', 'oppressors', 'contumely', 'pangs', 'disprizd', 'lawes', 'delay', 'insolence', 'office', 'spurnes', 'patient', 'vnworthy', 'quietus', 'bare', 'bodkin', 'fardles', 'grunt', 'sweat', 'vndiscouered', 'countrey', 'traueller', 'returnes', 'puzels', 'illes', 'flye', 'others', 'cowards', 'hew', 'resolution', 'sicklied', 'enterprizes', 'pith', 'regard', 'currants', 'turne', 'nimph', 'orizons', 'sinnes', 'remembred', 'remembrances', 'longed', 'redeliuer', 'honord', 'composd', 'perfume', 'wax', 'giuers', 'vnkinde', 'hon', 'beautie', 'comerce', 'trulie', 'stransforme', 'bawd', 'theforce', 'translate', 'hthis', 'sometime', 'paradox', 'g', 'beleeued', 'vertuecannot', 'innocculate', 'stocke', 'sh', 'deceiued', 'nunnerie', 'thoube', 'breeder', 'sinners', 'indifferbut', 'accuse', 'prowd', 'reu', 'offences', 'beckethen', 'imaginatiothem', 'acte', 'shouldfellowes', 'crawling', 'knaues', 'nunnery', 'wheres', 'doores', 'shut', 'heplay', 'doest', 'dowrie', 'purethou', 'escape', 'calumny', 'nugo', 'wise', 'monsters', 'youmake', 'quickly', 'powers', 'restore', 'pratlings', 'wel', 'pace', 'gidge', 'amble', 'lispe', 'nicknamegods', 'wantonnesse', 'madi', 'marriages', 'thamarried', 'res', 'orethrownethe', 'courtiers', 'expectansie', 'rose', 'glasse', 'mould', 'obserud', 'obseruers', 'quite', 'ladies', 'deiect', 'wretched', 'suckd', 'honie', 'bels', 'iangled', 'tune', 'harsh', 'vnmatchd', 'feature', 'blowne', 'blasted', 'thaue', 'affections', 'tend', 'spake', 'lackd', 'littlewas', 'brood', 'hatch', 'disclose', 'preuent', 'determination', 'england', 'demand', 'neglected', 'haply', 'seas', 'different', 'variable', 'obiects', 'expell', 'setled', 'origin', 'commencement', 'sprung', 'saide', 'greefes', 'placd', 'conference', 'send', 'ones', 'vnwatchd', 'pronouncdit', 'trippingly', 'thad', 'tooyour', 'gently', 'v', 'tempest', 'whirlewinde', 'ofpassion', 'acquire', 'beget', 'temperancmay', 'smoothnesse', 'offends', 'thto', 'robustious', 'perywigpated', 'teare', 'tatters', 'verie', 'ragges', 'split', 'groundlings', 'capeable', 'ofnothing', 'inexplicable', 'noise', 'ihaue', 'whipt', 'oredoing', 'termagan', 'outherods', 'herod', 'auoid', 'tame', 'neyther', 'ownediscretion', 'tutor', 'sute', 'ththe', 'speciall', 'obsethat', 'orestop', 'fothing', 'ouerdone', 'playiend', 'mirrour', 'ownefeature', 'scorne', 'agbodie', 'pressure', 'thisouerdone', 'tardie', 'iudicious', 'greeue', 'thecensure', 'allowanc', 'theater', 'playersthat', 'praisehighly', 'prophanely', 'neythethe', 'accent', 'christians', 'chrisor', 'norman', 'strutted', 'bellowed', 'iouerneymen', 'menand', 'imitated', 'humanity', 'reformd', 'indifferen', 'reforme', 'altogether', 'thatplay', 'clownes', 'dthem', 'themseluesto', 'quantitie', 'barren', 'spectators', 'necessary', 'quof', 'considered', 'vilshewes', 'pittifull', 'readie', 'hasten', 'hoa', 'eene', 'conuersation', 'coapd', 'flatter', 'aduancement', 'reuennew', 'spiritsto', 'feed', 'cloath', 'shold', 'poor', 'fla', 'candied', 'pompe', 'crooke', 'hindges', 'knee', 'faining', 'choyse', 'distinguish', 'election', 'suffering', 'buffets', 'rewardshath', 'blest', 'comingled', 'pipe', 'finger', 'passions', 'weare', 'core', 'seest', 'afoot', 'comment', 'occulted', 'guilt', 'vnkennell', 'imaginations', 'vulcans', 'stythe', 'riuet', 'iudgements', 'ioyne', 'lordif', 'steale', 'detecting', 'pay', 'theft', 'andother', 'carrying', 'fares', 'ifaith', 'camelions', 'dish', 'promisecrammd', 'capons', 'plaid', 'vniuersity', 'accounted', 'enact', 'iulius', 'caesar', 'killd', 'brutus', 'kill', 'calfe', 'ready', 'patience', 'heres', 'attractiue', 'ladie', 'lap', 'ly', 'ma', 'merrie', 'iiggemaker', 'shoulda', 'cheer', 'withins', 'moneths', 'blfor', 'sables', 'ago', 'forgotten', 'agreat', 'memorie', 'outliue', 'halfe', 'builde', 'churches', 'elhe', 'hobyhorsse', 'hobyhorse', 'forgot', 'hoboyes', 'entersenter', 'louingly', 'quee', 'shekneeles', 'protestation', 'hi', 'anddeclines', 'neck', 'layes', 'down', 'flowersshe', 'asleepe', 'leaues', 'hiscrowne', 'kisses', 'powres', 'poyson', 'exits', 'thepoysoner', 'mutes', 'lamentwith', 'carried', 'poy', 'withgifts', 'loath', 'vnwilling', 'bu', 'accepts', 'miching', 'malicho', 'mischeefe', 'belike', 'imports', 'argument', 'fellowes', 'counsell', 'theyl', 'notyou', 'ashamd', 'heel', 'shame', 'naught', 'prologue', 'stooping', 'clemencie', 'begge', 'patientlie', 'poesie', 'womans', 'thirtie', 'times', 'phoebus', 'cart', 'neptunes', 'wash', 'tellus', 'orbed', 'dozen', 'moones', 'borrowed', 'sheene', 'thirties', 'hymen', 'vnite', 'comutuall', 'sacred', 'bands', 'bap', 'iournies', 'count', 'distrust', 'discomfort', 'womens', 'extremity', 'sizd', 'operant', 'functions', 'beloud', 'husband', 'brest', 'accurst', 'wed', 'wormwood', 'bapt', 'instances', 'respects', 'determine', 'validitie', 'fruite', 'vnripe', 'stickes', 'tree', 'vnshaken', 'mellow', 'debt', 'ending', 'ennactors', 'destroy', 'reuels', 'lament', 'ioyes', 'greeues', 'slender', 'aye', 'strangethat', 'c', 'louethe', 'fauourites', 'aduancd', 'enemies', 'frend', 'want', 'hollow', 'directly', 'seasons', 'enemie', 'orderly', 'begun', 'willes', 'fates', 'contrary', 'deuices', 'ouerthrowneour', 'ours', 'ends', 'die', 'food', 'repose', 'opposite', 'blankes', 'hence', 'strife', 'widdow', 'deepely', 'rocke', 'mischance', 'twaine', 'protests', 'sheel', 'iest', 'mousetrap', 'tropicallythis', 'vieis', 'dukes', 'baptista', 'knauish', 'othatyour', 'itvs', 'galld', 'iade', 'winch', 'withers', 'ar', 'lucianus', 'nephew', 'chorus', 'interpret', 'puppets', 'dallying', 'keene', 'cost', 'groaning', 'worse', 'mistake', 'begin', 'murderer', 'pox', 'damnable', 'andbegin', 'croaking', 'rauen', 'bellow', 'lucian', 'drugges', 'agreeing', 'confederate', 'creature', 'mixture', 'midnight', 'weeds', 'collected', 'hecats', 'ban', 'infected', 'magicke', 'dire', 'propertie', 'vsurpe', 'immediately', 'poysons', 'garden', 'fors', 'estate', 'hisnames', 'extant', 'italian', 'murtherer', 'gonzagos', 'rises', 'frighted', 'lights', 'strucken', 'hart', 'vngalled', 'runnes', 'awaywould', 'forrest', 'feathers', 'imy', 'turke', 'prouiroses', 'racd', 'share', 'damon', 'realme', 'dismantled', 'ioue', 'reignes', 'paiocke', 'rimd', 'ghosts', 'wor', 'pound', 'perceiue', 'poysoning', 'musick', 'y', 'recorders', 'perdie', 'history', 'retyrement', 'maruellous', 'distem', 'choller', 'moreto', 'signifie', 'doctor', 'pto', 'purgation', 'plundge', 'wildely', 'affayre', 'pronounce', 'courtesie', 'nothe', 'commandmentif', 'diseasdbut', 'answers', 'therfore', 'behauior', 'amazement', 'astonish', 'amother', 'sequell', 'heeles', 'ten', 'mo', 'trade', 'pickers', 'stea', 'diyou', 'barre', 'doore', 'lib', 'deny', 'voythe', 'grasse', 'prouer', 'musty', 'recordero', 'recorder', 'youdo', 'toyle', 'vnmannerly', 'easie', 'lying', 'gouerne', 'venwith', 'thumbe', 'witmouth', 'mus', 'stoppes', 'vtt', 'hermony', 'skill', 'wouldseeme', 'stops', 'pluck', 'theof', 'mysterie', 'lowestnote', 'compasse', 'organe', 'cannotyou', 'easierplaid', 'instrument', 'ythough', 'fret', 'blesse', 'clowd', 'camell', 'masse', 'weazell', 'backd', 'whale', 'easily', 'witching', 'nightwhen', 'churchyards', 'yawne', 'breatcontagion', 'drink', 'quake', 'nero', 'firme', 'cruell', 'daggers', 'hypocrites', 'someuer', 'shent', 'seales', 'stands', 'safe', 'range', 'prepare', 'forthwith', 'endure', 'hazard', 'hourely', 'lunacies', 'prouide', 'holie', 'religious', 'feede', 'single', 'strength', 'noyance', 'rests', 'cease', 'dies', 'gulfe', 'massie', 'wheele', 'somnet', 'highest', 'mount', 'huge', 'spoakes', 'lesser', 'mortizd', 'adioynd', 'small', 'annexment', 'pettie', 'attends', 'boystrous', 'ruine', 'sighe', 'grone', 'speedie', 'vo', 'fetters', 'freefooted', 'haste', 'gent', 'closset', 'conuey', 'selfeto', 'tax', 'meete', 'partiall', 'oreheare', 'vantage', 'smels', 'primall', 'eldest', 'curse', 'sharpe', 'stronger', 'defeats', 'neglect', 'thicker', 'raine', 'white', 'snow', 'whereto', 'serues', 'confront', 'prayer', 'twofold', 'forestalled', 'pardond', 'serue', 'forgiue', 'possest', 'effects', 'retaine', 'corrupted', 'gilded', 'shoue', 'iustice', 'prize', 'buyes', 'shuffling', 'compelld', 'teeth', 'forehead', 'euidence', 'repentance', 'repent', 'limed', 'strugling', 'ingagd', 'assaybow', 'stubborne', 'strings', 'sinewes', 'newborne', 'babe', 'pat', 'praying', 'doot', 'reuengd', 'scannd', 'killes', 'sendto', 'hyre', 'sallery', 'grossely', 'bread', 'broad', 'fresh', 'audit', 'seasond', 'passage', 'hent', 'drunke', 'pleasure', 'rellish', 'saluation', 'intthen', 'trip', 'kicke', 'stayes', 'physicke', 'prolongs', 'sickly', 'remain', 'himtell', 'prankes', 'beand', 'screend', 'stoode', 'coming', 'rood', 'boudge', 'inmost', 'rat', 'ducate', 'slaine', 'rash', 'bloody', 'marrie', 'intruding', 'betters', 'findst', 'busie', 'wringing', 'wring', 'penetrable', 'brazd', 'bulwarke', 'sense', 'darst', 'wag', 'rude', 'blurres', 'blush', 'cals', 'hypocrite', 'innocent', 'blister', 'dicers', 'oathes', 'contraction', 'sweete', 'religion', 'rapsidie', 'glow', 'solidity', 'compound', 'tristfull', 'doome', 'thoughtsicke', 'roares', 'thu', 'index', 'counterfet', 'presentment', 'seated', 'hyperions', 'curles', 'front', 'threaten', 'herald', 'mercurie', 'lighted', 'heauenkissing', 'combination', 'seale', 'assurance', 'manthis', 'mildewd', 'blasting', 'wholsom', 'mountaine', 'batten', 'moore', 'heyday', 'humble', 'waites', 'step', 'cousend', 'hoodmanblinde', 'mutine', 'matrons', 'waxe', 'proclaime', 'compulsiue', 'ardure', 'frost', 'actiuely', 'burne', 'panders', 'turnst', 'grained', 'spots', 'tinct', 'enseamed', 'stewd', 'corruption', 'honying', 'nasty', 'stye', 'twentieth', 'tythe', 'precedent', 'vice', 'cutpurse', 'empire', 'rule', 'shelfe', 'precious', 'pocket', 'shreds', 'patches', 'houer', 'wingsyou', 'guards', 'tardy', 'chide', 'lapst', 'important', 'acting', 'whet', 'blunted', 'fighting', 'weakest', 'strongest', 'workes', 'vacancie', 'corporall', 'peepe', 'soldiours', 'alarme', 'bedded', 'excrements', 'sprinkle', 'coole', 'glares', 'conioynd', 'preaching', 'stones', 'pitteous', 'conuert', 'sterne', 'steals', 'habite', 'portall', 'coynage', 'brainethis', 'bodilesse', 'creation', 'cunnin', 'pulse', 'temperately', 'timeand', 'healthfull', 'madn', 'vttered', 'test', 'reword', 'gamboll', 'flattering', 'vnction', 'trespasse', 'speakes', 'skin', 'filme', 'vlcerous', 'mining', 'infects', 'spred', 'compost', 'weedes', 'fatnesse', 'pursie', 'courb', 'cleft', 'worser', 'purer', 'vnkles', 'bedassume', 'refraine', 'easinesse', 'next', 'abstinence', 'desirous', 'punish', 'scourge', 'minister', 'blunt', 'pinch', 'paire', 'reechie', 'padling', 'necke', 'rauell', 'essentially', 'sober', 'paddocke', 'bat', 'gibbe', 'concernings', 'despight', 'vnpegge', 'basket', 'houses', 'birds', 'famous', 'ape', 'conclusions', 'creepe', 'alacke', 'concluded', 'packing', 'lugge', 'guts', 'neighbor', 'roome', 'counsellor', 'prating', 'tugging', 'sighes', 'heaues', 'contend', 'mightier', 'lawlesse', 'rapier', 'brainish', 'threats', 'answered', 'laide', 'prouidenceshould', 'restraind', 'haunt', 'owner', 'disease', 'divulging', 'apart', 'kild', 'oare', 'among', 'minerall', 'mettels', 'pure', 'weepes', 'sooner', 'mountaines', 'ship', 'excuse', 'ros', 'ayde', 'clossets', 'dragd', 'chappell', 'vntimely', 'discord', 'dismay', 'safely', 'stowed', 'ro', 'compounded', 'kinne', 'mineowne', 'besides', 'demanded', 'spundge', 'sokes', 'countenancrewards', 'authorities', 'officers', 'tbest', 'anthe', 'corner', 'iaw', 'mouthd', 'needes', 'gleand', 'dry', 'bo', 'fox', 'find', 'multitude', 'offenders', 'weighdbut', 'deliberate', 'diseases', 'appliance', 'releeued', 'befalne', 'bestowd', 'guarded', 'supper', 'eats', 'eaten', 'conuocation', 'wormes', 'ene', 'wormis', 'emperor', 'creato', 'yourand', 'leane', 'progresse', 'mfinde', 'monshall', 'staires', 'k', 'espec', 'deerely', 'greeuefor', 'hwith', 'fierie', 'quicknesse', 'barke', 'associates', 'knewst', 'purposes', 'cherube', 'sees', 'andwife', 'donethat', 'leanes', 'holdst', 'thereof', 'cicatrice', 'raw', 'danish', 'awe', 'payes', 'homage', 'maist', 'coniuring', 'hecticke', 'rages', 'cure', 'happes', 'armie', 'captaine', 'greet', 'license', 'claimes', 'conueyance', 'promisd', 'kingdome', 'rendeuous', 'importunate', 'distract', 'pittied', 'shetheres', 'trickes', 'hems', 'beats', 'hespurnes', 'enuiously', 'strawes', 'vnshaped', 'hearers', 'collection', 'ayme', 'itand', 'botch', 'thoughtswhich', 'winkes', 'nods', 'gestures', 'yeelindeed', 'vnhappily', 'strew', 'coniectures', 'breeding', 'amisse', 'artlesse', 'spills', 'fearing', 'spilt', 'beauteous', 'denmark', 'aby', 'cockle', 'staffe', 'sandal', 'song', 'goneat', 'grassegreene', 'turfe', 'shrowd', 'larded', 'flowers', 'bewept', 'trueloue', 'showres', 'pretty', 'dild', 'owle', 'bakers', 'aske', 'thisto', 'valentines', 'window', 'valentinethen', 'dond', 'clothes', 'dupt', 'chlet', 'departed', 'gis', 'charity', 'quoth', 'tumbled', 'yonder', 'hadst', 'patbut', 'choose', 'knoweand', 'com', 'coach', 'springs', 'sorrowes', 'spies', 'battalians', 'author', 'people', 'muddiedthicke', 'vnwholsome', 'whfor', 'hugger', 'mugger', 'interre', 'diuided', 'iudgementwithout', 'pictures', 'beasts', 'containing', 'wonder', 'buzzers', 'infect', 'speeches', 'necessitie', 'beggard', 'arraigne', 'murdering', 'places', 'superfluous', 'messenger', 'noyse', 'switzers', 'mes', 'ocean', 'ouerpeering', 'eates', 'flats', 'impittious', 'riotous', 'orebeares', 'rabble', 'antiquity', 'ratifiers', 'props', 'cry', 'caps', 'tongues', 'applaud', 'cheerefully', 'counter', 'dogges', 'broke', 'w', 'al', 'calmely', 'drop', 'calmes', 'bastard', 'cuckold', 'brands', 'harlot', 'chaste', 'vnsmirched', 'rebellion', 'gyantlike', 'person', 'diuinity', 'hedge', 'acts', 'incenst', 'fill', 'iuggeld', 'allegeance', 'blackest', 'profoundest', 'pit', 'damnation', 'negligence', 'throughly', 'certaintieof', 're', 'soopstake', 'winner', 'looser', 'ope', 'liferendring', 'politician', 'repast', 'guiltlesse', 'leuell', 'pierce', 'thatoh', 'drie', 'seuen', 'payed', 'waight', 'turnes', 'beame', 'maids', 'instance', 'bore', 'facd', 'beer', 'hey', 'non', 'nony', 'raines', 'doue', 'perswade', 'adowne', 'adownea', 'becomes', 'isthe', 'steward', 'nothings', 'rosemary', 'remembrauncepray', 'paconcies', 'document', 'remem', 'fitted', 'fennell', 'columbines', 'rew', 'cal', 'herbegrace', 'sundaies', 'rewwith', 'difference', 'daysie', 'giuesome', 'violets', 'witherd', 'fath', 'bonny', 'robin', 'prettinesse', 'deathbed', 'flaxen', 'pole', 'mone', 'gramercy', 'christian', 'choice', 'colaterall', 'touchd', 'satisfaction', 'content', 'ioyntly', 'labour', 'due', 'obscure', 'buriall', 'trophee', 'hatchment', 'rite', 'formall', 'ostentation', 'axe', 'ser', 'saylors', 'greeted', 'saylor', 'andt', 'ambassadours', 'thatbound', 'reads', 'letterhoratio', 'ouerlookd', 'gifellowes', 'letfor', 'pyrwarlicke', 'appointment', 'chace', 'ourslow', 'compelled', 'valour', 'boorded', 'got', 'cleare', 'ofi', 'became', 'dealt', 'theeues', 'ia', 'lesent', 'repaire', 'earedumbe', 'borethese', 'amand', 'englan', 'knowest', 'speedier', 'acquittance', 'sith', 'knowing', 'pursued', 'proceeded', 'feates', 'crimefull', 'capitall', 'mainly', 'stirrd', 'reasons', 'vnsinnowedand', 'plague', 'shes', 'coniunctiue', 'moues', 'sphere', 'publike', 'gender', 'dipping', 'turneth', 'wood', 'stone', 'gyues', 'slightly', 'timbred', 'reuerted', 'driuen', 'praises', 'challenger', 'perfections', 'shooke', 'dangerand', 'shortly', 'imagine', 'claudio', 'messengerhigh', 'mighty', 'naked', 'theth', 'hamletwhat', 'abuse', 'pos', 'aduise', 'warmes', 'diddest', 'orerule', 'checking', 'voyage', 'vndertake', 'exployt', 'ripe', 'deuice', 'vncharge', 'practice', 'monthes', 'normandy', 'iue', 'serud', 'ran', 'horsebacke', 'gallant', 'grew', 'seat', 'doing', 'encorpst', 'demynaturd', 'forgery', 'shapes', 'lamound', 'brooch', 'iemme', 'masterly', 'defence', 'especiall', 'cryed', 'twould', 'envenom', 'enuy', 'painting', 'passages', 'qualifies', 'sparke', 'throat', 'church', 'sancturize', 'bounds', 'laerteswill', 'praise', 'excellence', 'varnish', 'famethe', 'frenchman', 'wager', 'heads', 'remisse', 'contriuing', 'peruse', 'foiles', 'vnbaited', 'requit', 'annoint', 'bought', 'mountebanke', 'dipt', 'knife', 'cataplasme', 'rare', 'simples', 'scratcht', 'contagion', 'weigh', 'conuenience', 'faileand', 'perfo', 'assaid', 'proiect', 'commings', 'bowts', 'prepard', 'challice', 'nonce', 'sipping', 'chance', 'venomd', 'stuck', 'tread', 'anothers', 'heele', 'sisters', 'drownd', 'willow', 'aslant', 'brookethat', 'hore', 'glassie', 'str', 'fantasticke', 'garlands', 'crowflowers', 'nettles', 'daysies', 'purples', 'liberall', 'shepheards', 'grosser', 'namebut', 'pendant', 'boughes', 'coronet', 'clambring', 'enuious', 'sliuer', 'weedy', 'trophies', 'selfefell', 'weeping', 'brooke', 'cloathes', 'mermaidlike', 'chaunted', 'snatches', 'tunes', 'incapable', 'distresse', 'indued', 'element', 'garments', 'puld', 'melodious', 'muddy', 'water', 'tricke', 'blaze', 'folly', 'doubts', 'calme', 'clown', 'buri', 'wilfully', 'crowner', 'clo', 'drowned', 'se', 'offendendo', 'witt', 'branches', 'anact', 'performe', 'argall', 'wittingly', 'goodman', 'deluer', 'goodheere', 'thand', 'nill', 'goesmarke', 'dhim', 'drownes', 'iguilty', 'shortens', 'crowners', 'quest', 'hadbeene', 'gentlewoman', 'shee', 'sayst', 'pittygreat', 'folke', 'wodrowne', 'spade', 'ancient', 'gentlemenbut', 'gardiners', 'ditchers', 'grauemakers', 'adams', 'profession', 'heathen', 'vnders', 'scripture', 'adam', 'digdcould', 'digge', 'answerest', 'purpos', 'builds', 'ei', 'mason', 'shipwright', 'carpenter', 'gallowes', 'maker', 'outl', 'tenants', 'gdoes', 'tothat', 'gallbuilt', 'vnyoake', 'cudgell', 'fordull', 'mend', 'askt', 'grauemakhouses', 'lasts', 'yaughan', 'stoupe', 'liquor', 'sings', 'contract', 'behoue', 'feeling', 'busin', 'grauemaking', 'een', 'imploymen', 'daintier', 'stealing', 'steps', 'clutch', 'shipped', 'intill', 'scull', 'couldonce', 'iowles', 'iwere', 'caines', 'iawbone', 'itmight', 'polititian', 'circumuent', 'thismight', 'praisd', 'lora', 'wormeschaplesse', 'knockt', 'mazard', 'sspade', 'reuolution', 'trseet', 'loggets', 'em', 'ake', 'pickhaxe', 'shrowdingsheete', 'clay', 'guest', 'lawyer', 'quiddits', 'hisquillets', 'cases', 'tenures', 'tricks', 'whydoes', 'knocke', 'hthe', 'sconce', 'dirty', 'shouell', 'battery', 'hum', 'betime', 'buyer', 'statutes', 'fines', 'vouchers', 'recoueriesis', 'recouery', 'dirt', 'hisvouchers', 'vouch', 'purchases', 'anones', 'breadth', 'pairindentures', 'conueyances', 'willhardly', 'boxe', 'inheritor', 'iot', 'parchment', 'sheepskinnes', 'calueskinnes', 'sheepe', 'calues', 'seek', 'ouin', 'graues', 'li', 'tistis', 'lyest', 'shees', 'absolute', 'speakeby', 'carde', 'equiuocation', 'vndoe', 'thelord', 'yeares', 'nthe', 'picked', 'thcomes', 'kibe', 'grauemaker', 'yeare', 'orecame', 'telit', 'born', 'because', 'recouerwits', 'strangely', 'loosing', 'sixeteene', 'thirty', 'lie', 'diemany', 'pocky', 'coarses', 'adaies', 'scarcethe', 'eight', 'year', 'tanner', 'nine', 'tand', 'trahe', 'youris', 'decayer', 'horson', 'hernow', 'scul', 'laine', 'tw', 'whoreson', 'pestilence', 'pflaggon', 'scullsir', 'yoricks', 'yorick', 'hima', 'fahath', 'anabhorred', 'gorge', 'ihung', 'lipps', 'kist', 'iibes', 'gambals', 'yoursongs', 'flashes', 'merriment', 'toset', 'rore', 'ieering', 'chopfalne', 'ladieschamber', 'paint', 'inch', 'thifauour', 'pr', 'alexander', 'othis', 'smelt', 'horatiowhy', 'trace', 'stopping', 'bunghole', 'consider', 'curiously', 'consi', 'thwith', 'likeliehood', 'aalexander', 'died', 'makelome', 'lome', 'conue', 'stopp', 'beerebarrell', 'hole', 'patch', 'wall', 'winters', 'flaw', 'aside', 'kingenter', 'coffin', 'lo', 'maimed', 'rites', 'betoken', 'disperate', 'cerimony', 'priest', 'obsequies', 'inlargd', 'warrantie', 'oreswaies', 'vnsanctified', 'lodgd', 'praiershardes', 'flints', 'peebles', 'throwne', 'allowed', 'virgin', 'strewments', 'bringing', 'prophane', 'sage', 'requiem', 'peaceparted', 'vnpolluted', 'churlish', 'ministring', 'liest', 'howling', 'sweets', 'hopd', 'bridebed', 'deckt', 'strewd', 'terrible', 'woer', 'trebble', 'ingenious', 'depriud', 'leaps', 'pile', 'pelion', 'skyish', 'blew', 'olympus', 'griefes', 'emphasis', 'sorrowconiure', 'wandring', 'wonderwounded', 'deuill', 'praist', 'spleenatiue', 'wisenesse', 'asunder', 'gen', 'fight', 'vppon', 'theme', 'vntill', 'eielids', 'fortie', 'summe', 'forbeare', 'thoult', 'woot', 'esile', 'eate', 'crocodile', 'whine', 'outface', 'leaping', 'prate', 'millions', 'akers', 'sindging', 'zone', 'ossa', 'wart', 'rant', 'female', 'cuplet', 'drooping', 'cat', 'mew', 'dogge', 'himstrengthen', 'push', 'monument', 'proceeding', 'fig', 'mutines', 'bilboes', 'rashly', 'rashnesse', 'indiscretion', 'wellwhen', 'plots', 'paule', 'roughhew', 'cabin', 'seagowne', 'scarft', 'darke', 'gropd', 'fingerd', 'packet', 'withdrew', 'feares', 'forgetting', 'manners', 'vnseale', 'grand', 'knauery', 'exact', 'seuerall', 'sorts', 'englands', 'hoo', 'bugges', 'goblins', 'superuize', 'leasure', 'bated', 'grinding', 'struck', 'ley', 'proceed', 'benetted', 'villaines', 'deuisd', 'wrote', 'statists', 'basenesse', 'write', 'laboured', 'learning', 'yeomans', 'seriuce', 'earnest', 'coniuration', 'tributaryas', 'flou', 'wheaten', 'garland', 'comma', 'tweene', 'amities', 'assis', 'view', 'contents', 'debatement', 'bearers', 'shriuing', 'ordinate', 'signet', 'modell', 'folded', 'subscribd', 'gaut', 'impression', 'plact', 'changeling', 'sement', 'impl', 'debate', 'insinuation', 'incensed', 'opposites', 'thinkst', 'whord', 'popt', 'hopes', 'angle', 'lifeand', 'coozenage', 'perfect', 'conscito', 'quit', 'euill', 'e', 'interims', 'lifes', 'portraiture', 'brauery', 'towring', 'osricke', 'osr', 'back', 'thank', 'fertile', 'bbe', 'crib', 'messe', 'chowgh', 'spacious', 'diligence', 'bonet', 'northerly', 'soultry', 'exceedingly', 'laid', 'goodsir', 'weapon', 'dagger', 'weapons', 'wagd', 'six', 'barbagainst', 'impond', 'sixe', 'poniards', 'assignes', 'gihangers', 'carriages', 'adeare', 'fancy', 'responsiue', 'hilts', 'hangers', 'germaine', 'thematter', 'sides', 'iit', 'swords', 'conceited', 'p', 'exceed', 'hitshe', 'comimediate', 'tryall', 'vouchsa', 'hall', 'ihis', 'witthe', 'foyles', 'aking', 'win', 'gaine', 'odd', 'lapwing', 'runs', 'shell', 'complie', 'dugge', 'heesuckt', 'samethat', 'drossie', 'dotes', 'only', 'kinyesty', 'carries', 'tthe', 'winnowed', 'tryalls', 'bubbles', 'continuall', 'wioddes', 'wouldest', 'foolery', 'kind', 'gaingiuing', 'trouble', 'dislike', 'whit', 'defie', 'augury', 'speprouidence', 'sparrow', 'nto', 'readinesse', 'leenter', 'gauntlets', 'flagons', 'wine', 'pardont', 'punisht', 'exception', 'wrongd', 'denies', 'faction', 'disclaiming', 'purposd', 'arrow', 'hurt', 'satisfied', 'case', 'reconcilement', 'elder', 'president', 'vngorgd', 'offerd', 'embrace', 'foile', 'ignor', 'darkest', 'mocke', 'cousen', 'oddes', 'weaker', 'betterd', 'stopes', 'hit', 'exchange', 'battlements', 'ordinance', 'cup', 'vnion', 'richer', 'successiue', 'denmarkes', 'worne', 'cups', 'trumpets', 'cannoneer', 'cannons', 'iudges', 'palpable', 'pearle', 'bout', 'scant', 'napkin', 'rub', 'browes', 'carowses', 'poysond', 'thinket', 'dally', 'affeard', 'scuffling', 'incensd', 'bleed', 'woodcocke', 'sprindge', 'treacherie', 'sounds', 'bleede', 'villany', 'lockd', 'medicine', 'vnbated', 'envenomd', 'practise', 'rise', 'hurts', 'murdrous', 'potion', 'dyes', 'tempred', 'forgiuenesse', 'adiew', 'sergeant', 'strickd', 'arrest', 'liust', 'causes', 'vnsatisfied', 'antike', 'roman', 'thart', 'hauet', 'wounded', 'namethings', 'standing', 'vnknowne', 'behin', 'absent', 'felicitie', 'paine', 'storie', 'afarre', 'shout', 'conquest', 'warlik', 'orecrowes', 'dying', 'occurrents', 'solicited', 'cracke', 'flights', 'drumme', 'hitherenter', 'english', 'ambassador', 'attendants', 'fortin', 'search', 'quarry', 'hauocke', 'cell', 'princes', 'shoote', 'bloodily', 'amb', 'affaires', 'latethe', 'fulfilld', 'abilitie', 'iumpe', 'bloodie', 'polake', 'warres', 'arriued', 'placed', 'vnknowing', 'carnall', 'bloudie', 'accidentall', 'casuall', 'slaughters', 'deaths', 'vpshot', 'mistooke', 'inuentors', 'noblest', 'claime', 'inuite', 'performd', 'whiles', 'mindes', 'lest', 'errors', 'happen', 'captaines', 'royally', 'souldiours', 'warre', 'lowdly', 'field', 'amis', 'souldiers', 'shooteexeunt', 'marching', 'peale', 'ord', 'finis'])"
      ]
     },
     "execution_count": 42,
     "metadata": {},
     "output_type": "execute_result"
    }
   ],
   "source": [
    "# language=hamlets.iloc[0,1]\n",
    "# text  = hamlets.iloc[0,2]\n",
    "\n",
    "# counted_text = count_words_fast(text)\n",
    "counted_text.keys()\n",
    "# Enter your code here."
   ]
  },
  {
   "cell_type": "code",
   "execution_count": 32,
   "metadata": {},
   "outputs": [
    {
     "data": {
      "text/html": [
       "<div>\n",
       "<style scoped>\n",
       "    .dataframe tbody tr th:only-of-type {\n",
       "        vertical-align: middle;\n",
       "    }\n",
       "\n",
       "    .dataframe tbody tr th {\n",
       "        vertical-align: top;\n",
       "    }\n",
       "\n",
       "    .dataframe thead th {\n",
       "        text-align: right;\n",
       "    }\n",
       "</style>\n",
       "<table border=\"1\" class=\"dataframe\">\n",
       "  <thead>\n",
       "    <tr style=\"text-align: right;\">\n",
       "      <th></th>\n",
       "      <th>word</th>\n",
       "      <th>count</th>\n",
       "    </tr>\n",
       "  </thead>\n",
       "  <tbody>\n",
       "    <tr>\n",
       "      <th>4</th>\n",
       "      <td>hamlet</td>\n",
       "      <td>97</td>\n",
       "    </tr>\n",
       "  </tbody>\n",
       "</table>\n",
       "</div>"
      ],
      "text/plain": [
       "     word count\n",
       "4  hamlet    97"
      ]
     },
     "execution_count": 32,
     "metadata": {},
     "output_type": "execute_result"
    }
   ],
   "source": [
    "data[data.word == \"hamlet\"]"
   ]
  },
  {
   "cell_type": "code",
   "execution_count": 27,
   "metadata": {},
   "outputs": [],
   "source": [
    "num = 1\n",
    "for key,value in counted_text.items():\n",
    "    \n",
    "    data.loc[num] = key,value\n",
    "    num+=1\n",
    "    "
   ]
  },
  {
   "cell_type": "code",
   "execution_count": 41,
   "metadata": {},
   "outputs": [
    {
     "data": {
      "text/html": [
       "<div>\n",
       "<style scoped>\n",
       "    .dataframe tbody tr th:only-of-type {\n",
       "        vertical-align: middle;\n",
       "    }\n",
       "\n",
       "    .dataframe tbody tr th {\n",
       "        vertical-align: top;\n",
       "    }\n",
       "\n",
       "    .dataframe thead th {\n",
       "        text-align: right;\n",
       "    }\n",
       "</style>\n",
       "<table border=\"1\" class=\"dataframe\">\n",
       "  <thead>\n",
       "    <tr style=\"text-align: right;\">\n",
       "      <th></th>\n",
       "      <th>word</th>\n",
       "      <th>count</th>\n",
       "    </tr>\n",
       "  </thead>\n",
       "  <tbody>\n",
       "    <tr>\n",
       "      <th>1</th>\n",
       "      <td>the</td>\n",
       "      <td>935</td>\n",
       "    </tr>\n",
       "    <tr>\n",
       "      <th>2</th>\n",
       "      <td>tragedie</td>\n",
       "      <td>3</td>\n",
       "    </tr>\n",
       "    <tr>\n",
       "      <th>3</th>\n",
       "      <td>of</td>\n",
       "      <td>576</td>\n",
       "    </tr>\n",
       "    <tr>\n",
       "      <th>4</th>\n",
       "      <td>hamlet</td>\n",
       "      <td>97</td>\n",
       "    </tr>\n",
       "    <tr>\n",
       "      <th>5</th>\n",
       "      <td></td>\n",
       "      <td>45513</td>\n",
       "    </tr>\n",
       "    <tr>\n",
       "      <th>...</th>\n",
       "      <td>...</td>\n",
       "      <td>...</td>\n",
       "    </tr>\n",
       "    <tr>\n",
       "      <th>5109</th>\n",
       "      <td>shooteexeunt</td>\n",
       "      <td>1</td>\n",
       "    </tr>\n",
       "    <tr>\n",
       "      <th>5110</th>\n",
       "      <td>marching</td>\n",
       "      <td>1</td>\n",
       "    </tr>\n",
       "    <tr>\n",
       "      <th>5111</th>\n",
       "      <td>peale</td>\n",
       "      <td>1</td>\n",
       "    </tr>\n",
       "    <tr>\n",
       "      <th>5112</th>\n",
       "      <td>ord</td>\n",
       "      <td>1</td>\n",
       "    </tr>\n",
       "    <tr>\n",
       "      <th>5113</th>\n",
       "      <td>finis</td>\n",
       "      <td>1</td>\n",
       "    </tr>\n",
       "  </tbody>\n",
       "</table>\n",
       "<p>5113 rows × 2 columns</p>\n",
       "</div>"
      ],
      "text/plain": [
       "              word  count\n",
       "1              the    935\n",
       "2         tragedie      3\n",
       "3               of    576\n",
       "4           hamlet     97\n",
       "5                   45513\n",
       "...            ...    ...\n",
       "5109  shooteexeunt      1\n",
       "5110      marching      1\n",
       "5111         peale      1\n",
       "5112           ord      1\n",
       "5113         finis      1\n",
       "\n",
       "[5113 rows x 2 columns]"
      ]
     },
     "execution_count": 41,
     "metadata": {},
     "output_type": "execute_result"
    }
   ],
   "source": [
    "data"
   ]
  },
  {
   "cell_type": "code",
   "execution_count": 33,
   "metadata": {},
   "outputs": [],
   "source": [
    "counted_text.items();"
   ]
  },
  {
   "cell_type": "markdown",
   "metadata": {},
   "source": [
    "### Exercise 3\n",
    "\n",
    "In this exercise, we will continue to define summary statistics for a single translation of Hamlet. \n",
    "\n",
    "#### Instructions\n",
    "- Add a column to data named `length`, defined as the length of each word.\n",
    "- Add another column named `frequency`, which is defined as follows for each word in `data`:\n",
    "    - If `count > 10`, `frequency` is \"frequent\".\n",
    "    - If `1 < count <= 10`, `frequency` is \"infrequent\".\n",
    "    - If `count == 1`, `frequency` is \"unique\"."
   ]
  },
  {
   "cell_type": "code",
   "execution_count": 61,
   "metadata": {},
   "outputs": [
    {
     "data": {
      "text/html": [
       "<div>\n",
       "<style scoped>\n",
       "    .dataframe tbody tr th:only-of-type {\n",
       "        vertical-align: middle;\n",
       "    }\n",
       "\n",
       "    .dataframe tbody tr th {\n",
       "        vertical-align: top;\n",
       "    }\n",
       "\n",
       "    .dataframe thead th {\n",
       "        text-align: right;\n",
       "    }\n",
       "</style>\n",
       "<table border=\"1\" class=\"dataframe\">\n",
       "  <thead>\n",
       "    <tr style=\"text-align: right;\">\n",
       "      <th></th>\n",
       "      <th>word</th>\n",
       "      <th>count</th>\n",
       "      <th>Length</th>\n",
       "      <th>frequency</th>\n",
       "    </tr>\n",
       "  </thead>\n",
       "  <tbody>\n",
       "    <tr>\n",
       "      <th>1</th>\n",
       "      <td>the</td>\n",
       "      <td>935</td>\n",
       "      <td>3</td>\n",
       "      <td>frequent</td>\n",
       "    </tr>\n",
       "    <tr>\n",
       "      <th>2</th>\n",
       "      <td>tragedie</td>\n",
       "      <td>3</td>\n",
       "      <td>8</td>\n",
       "      <td>infrequent</td>\n",
       "    </tr>\n",
       "    <tr>\n",
       "      <th>3</th>\n",
       "      <td>of</td>\n",
       "      <td>576</td>\n",
       "      <td>2</td>\n",
       "      <td>frequent</td>\n",
       "    </tr>\n",
       "    <tr>\n",
       "      <th>4</th>\n",
       "      <td>hamlet</td>\n",
       "      <td>97</td>\n",
       "      <td>6</td>\n",
       "      <td>frequent</td>\n",
       "    </tr>\n",
       "    <tr>\n",
       "      <th>5</th>\n",
       "      <td></td>\n",
       "      <td>45513</td>\n",
       "      <td>0</td>\n",
       "      <td>frequent</td>\n",
       "    </tr>\n",
       "    <tr>\n",
       "      <th>...</th>\n",
       "      <td>...</td>\n",
       "      <td>...</td>\n",
       "      <td>...</td>\n",
       "      <td>...</td>\n",
       "    </tr>\n",
       "    <tr>\n",
       "      <th>5109</th>\n",
       "      <td>shooteexeunt</td>\n",
       "      <td>1</td>\n",
       "      <td>12</td>\n",
       "      <td>unique</td>\n",
       "    </tr>\n",
       "    <tr>\n",
       "      <th>5110</th>\n",
       "      <td>marching</td>\n",
       "      <td>1</td>\n",
       "      <td>8</td>\n",
       "      <td>unique</td>\n",
       "    </tr>\n",
       "    <tr>\n",
       "      <th>5111</th>\n",
       "      <td>peale</td>\n",
       "      <td>1</td>\n",
       "      <td>5</td>\n",
       "      <td>unique</td>\n",
       "    </tr>\n",
       "    <tr>\n",
       "      <th>5112</th>\n",
       "      <td>ord</td>\n",
       "      <td>1</td>\n",
       "      <td>3</td>\n",
       "      <td>unique</td>\n",
       "    </tr>\n",
       "    <tr>\n",
       "      <th>5113</th>\n",
       "      <td>finis</td>\n",
       "      <td>1</td>\n",
       "      <td>5</td>\n",
       "      <td>unique</td>\n",
       "    </tr>\n",
       "  </tbody>\n",
       "</table>\n",
       "<p>5113 rows × 4 columns</p>\n",
       "</div>"
      ],
      "text/plain": [
       "              word  count  Length   frequency\n",
       "1              the    935       3    frequent\n",
       "2         tragedie      3       8  infrequent\n",
       "3               of    576       2    frequent\n",
       "4           hamlet     97       6    frequent\n",
       "5                   45513       0    frequent\n",
       "...            ...    ...     ...         ...\n",
       "5109  shooteexeunt      1      12      unique\n",
       "5110      marching      1       8      unique\n",
       "5111         peale      1       5      unique\n",
       "5112           ord      1       3      unique\n",
       "5113         finis      1       5      unique\n",
       "\n",
       "[5113 rows x 4 columns]"
      ]
     },
     "execution_count": 61,
     "metadata": {},
     "output_type": "execute_result"
    }
   ],
   "source": [
    "# write your code here!\n",
    "# length = [len(i) for i in counted_text.keys()]\n",
    "# data.insert(2,\"Length\",length)\n",
    "# data.insert(3,\"frequency\",values)\n",
    "# freq = [i for i in counted_text.values()]\n",
    "# values = []\n",
    "# for i in freq:\n",
    "#     if i>10:\n",
    "#         values.append(\"frequent\")\n",
    "#     elif i>1 and i<=10:\n",
    "#         values.append(\"infrequent\")\n",
    "#     elif i==1:\n",
    "#         values.append(\"unique\")\n",
    "# values\n",
    "# data[data[\"frequency\"]==\"unique\"].shape\n",
    "data"
   ]
  },
  {
   "cell_type": "markdown",
   "metadata": {},
   "source": [
    "### Exercise 4\n",
    "\n",
    "In this exercise, we will summarize the statistics in data into a smaller pandas dataframe. \n",
    "\n",
    "#### Instructions \n",
    "- Create a `pandas` dataframe named `sub_data` including the following columns:\n",
    "    - `language`, which is the language of the text.\n",
    "    - `frequency`, which is a list containing the strings \"frequent\", \"infrequent\", and \"unique\".\n",
    "    - `mean_word_length`, which is the mean word length of each value in frequency.\n",
    "    - `num_words`, which is the total number of words in each frequency category."
   ]
  },
  {
   "cell_type": "code",
   "execution_count": 73,
   "metadata": {},
   "outputs": [
    {
     "data": {
      "text/plain": [
       "frequency\n",
       "frequent       323\n",
       "infrequent    1442\n",
       "unique        3348\n",
       "dtype: int64"
      ]
     },
     "execution_count": 73,
     "metadata": {},
     "output_type": "execute_result"
    }
   ],
   "source": [
    "fr = data.groupby(by = \"frequency\").size()\n",
    "fr"
   ]
  },
  {
   "cell_type": "code",
   "execution_count": 64,
   "metadata": {},
   "outputs": [],
   "source": [
    "sub_data = pd.DataFrame({\n",
    "        \"language\": language,\n",
    "        \"frequency\": [\"frequent\",\"infrequent\",\"unique\"],\n",
    "        \"mean_word_length\": data.groupby(by = \"frequency\")[\"Length\"].mean(),\n",
    "        \"num_words\": data.groupby(by = \"frequency\").size()})\n"
   ]
  },
  {
   "cell_type": "code",
   "execution_count": 65,
   "metadata": {},
   "outputs": [
    {
     "data": {
      "text/html": [
       "<div>\n",
       "<style scoped>\n",
       "    .dataframe tbody tr th:only-of-type {\n",
       "        vertical-align: middle;\n",
       "    }\n",
       "\n",
       "    .dataframe tbody tr th {\n",
       "        vertical-align: top;\n",
       "    }\n",
       "\n",
       "    .dataframe thead th {\n",
       "        text-align: right;\n",
       "    }\n",
       "</style>\n",
       "<table border=\"1\" class=\"dataframe\">\n",
       "  <thead>\n",
       "    <tr style=\"text-align: right;\">\n",
       "      <th></th>\n",
       "      <th>language</th>\n",
       "      <th>frequency</th>\n",
       "      <th>mean_word_length</th>\n",
       "      <th>num_words</th>\n",
       "    </tr>\n",
       "    <tr>\n",
       "      <th>frequency</th>\n",
       "      <th></th>\n",
       "      <th></th>\n",
       "      <th></th>\n",
       "      <th></th>\n",
       "    </tr>\n",
       "  </thead>\n",
       "  <tbody>\n",
       "    <tr>\n",
       "      <th>frequent</th>\n",
       "      <td>English</td>\n",
       "      <td>frequent</td>\n",
       "      <td>4.371517</td>\n",
       "      <td>323</td>\n",
       "    </tr>\n",
       "    <tr>\n",
       "      <th>infrequent</th>\n",
       "      <td>English</td>\n",
       "      <td>infrequent</td>\n",
       "      <td>5.825243</td>\n",
       "      <td>1442</td>\n",
       "    </tr>\n",
       "    <tr>\n",
       "      <th>unique</th>\n",
       "      <td>English</td>\n",
       "      <td>unique</td>\n",
       "      <td>7.005675</td>\n",
       "      <td>3348</td>\n",
       "    </tr>\n",
       "  </tbody>\n",
       "</table>\n",
       "</div>"
      ],
      "text/plain": [
       "           language   frequency  mean_word_length  num_words\n",
       "frequency                                                   \n",
       "frequent    English    frequent          4.371517        323\n",
       "infrequent  English  infrequent          5.825243       1442\n",
       "unique      English      unique          7.005675       3348"
      ]
     },
     "execution_count": 65,
     "metadata": {},
     "output_type": "execute_result"
    }
   ],
   "source": [
    "sub_data"
   ]
  },
  {
   "cell_type": "markdown",
   "metadata": {},
   "source": [
    "### Exercise 5\n",
    "\n",
    "In this exercise, we will join all the data summaries for text Hamlet translation.\n",
    "\n",
    "#### Instructions \n",
    "- The previous code for summarizing a particular translation of Hamlet is consolidated into a single function called `summarize_text`. Create a pandas dataframe` grouped_data` consisting of the results of `summarize_text` for each translation of Hamlet in `hamlets`.\n",
    "    - Use a `for` loop across the row indices of `hamlets` to assign each translation to a new row.\n",
    "    - Obtain the `ith` row of `hamlets` to variables using the `.iloc` method, and assign the output to variables `language` and `text`.\n",
    "    - Call `summarize_text` using `language` and `text`, and assign the output to `sub_data`.\n",
    "    - Use the pandas `.append()` function to append to pandas dataframes row-wise to `grouped_data`."
   ]
  },
  {
   "cell_type": "code",
   "execution_count": 75,
   "metadata": {},
   "outputs": [],
   "source": [
    "def summarize_text(language, text):\n",
    "    counted_text = count_words_fast(text)\n",
    "\n",
    "    data = pd.DataFrame({\n",
    "        \"word\": list(counted_text.keys()),\n",
    "        \"count\": list(counted_text.values())\n",
    "    })\n",
    "    \n",
    "    data.loc[data[\"count\"] > 10,  \"frequency\"] = \"frequent\"\n",
    "    data.loc[data[\"count\"] <= 10, \"frequency\"] = \"infrequent\"\n",
    "    data.loc[data[\"count\"] == 1,  \"frequency\"] = \"unique\"\n",
    "    \n",
    "    data[\"length\"] = data[\"word\"].apply(len)\n",
    "    \n",
    "    sub_data = pd.DataFrame({\n",
    "        \"language\": language,\n",
    "        \"frequency\": [\"frequent\",\"infrequent\",\"unique\"],\n",
    "        \"mean_word_length\": data.groupby(by = \"frequency\")[\"length\"].mean(),\n",
    "        \"num_words\": data.groupby(by = \"frequency\").size()\n",
    "    })\n",
    "    \n",
    "    return(sub_data)\n",
    "    \n",
    "# write your code here!\n"
   ]
  },
  {
   "cell_type": "code",
   "execution_count": 98,
   "metadata": {},
   "outputs": [
    {
     "data": {
      "text/html": [
       "<div>\n",
       "<style scoped>\n",
       "    .dataframe tbody tr th:only-of-type {\n",
       "        vertical-align: middle;\n",
       "    }\n",
       "\n",
       "    .dataframe tbody tr th {\n",
       "        vertical-align: top;\n",
       "    }\n",
       "\n",
       "    .dataframe thead th {\n",
       "        text-align: right;\n",
       "    }\n",
       "</style>\n",
       "<table border=\"1\" class=\"dataframe\">\n",
       "  <thead>\n",
       "    <tr style=\"text-align: right;\">\n",
       "      <th></th>\n",
       "      <th>language</th>\n",
       "      <th>text</th>\n",
       "    </tr>\n",
       "  </thead>\n",
       "  <tbody>\n",
       "    <tr>\n",
       "      <th>0</th>\n",
       "      <td>English</td>\n",
       "      <td>The Tragedie of Hamlet\\n                      ...</td>\n",
       "    </tr>\n",
       "    <tr>\n",
       "      <th>1</th>\n",
       "      <td>German</td>\n",
       "      <td>Hamlet, Prinz von Dännemark.\\n                ...</td>\n",
       "    </tr>\n",
       "    <tr>\n",
       "      <th>2</th>\n",
       "      <td>Portuguese</td>\n",
       "      <td>HAMLET\\n                             DRAMA EM ...</td>\n",
       "    </tr>\n",
       "  </tbody>\n",
       "</table>\n",
       "</div>"
      ],
      "text/plain": [
       "     language                                               text\n",
       "0     English  The Tragedie of Hamlet\\n                      ...\n",
       "1      German  Hamlet, Prinz von Dännemark.\\n                ...\n",
       "2  Portuguese  HAMLET\\n                             DRAMA EM ..."
      ]
     },
     "execution_count": 98,
     "metadata": {},
     "output_type": "execute_result"
    }
   ],
   "source": [
    "hamlets"
   ]
  },
  {
   "cell_type": "code",
   "execution_count": 116,
   "metadata": {},
   "outputs": [
    {
     "data": {
      "text/html": [
       "<div>\n",
       "<style scoped>\n",
       "    .dataframe tbody tr th:only-of-type {\n",
       "        vertical-align: middle;\n",
       "    }\n",
       "\n",
       "    .dataframe tbody tr th {\n",
       "        vertical-align: top;\n",
       "    }\n",
       "\n",
       "    .dataframe thead th {\n",
       "        text-align: right;\n",
       "    }\n",
       "</style>\n",
       "<table border=\"1\" class=\"dataframe\">\n",
       "  <thead>\n",
       "    <tr style=\"text-align: right;\">\n",
       "      <th></th>\n",
       "      <th>language</th>\n",
       "      <th>frequency</th>\n",
       "      <th>mean_word_length</th>\n",
       "      <th>num_words</th>\n",
       "    </tr>\n",
       "    <tr>\n",
       "      <th>frequency</th>\n",
       "      <th></th>\n",
       "      <th></th>\n",
       "      <th></th>\n",
       "      <th></th>\n",
       "    </tr>\n",
       "  </thead>\n",
       "  <tbody>\n",
       "    <tr>\n",
       "      <th>frequent</th>\n",
       "      <td>English</td>\n",
       "      <td>frequent</td>\n",
       "      <td>4.371517</td>\n",
       "      <td>323</td>\n",
       "    </tr>\n",
       "    <tr>\n",
       "      <th>infrequent</th>\n",
       "      <td>English</td>\n",
       "      <td>infrequent</td>\n",
       "      <td>5.825243</td>\n",
       "      <td>1442</td>\n",
       "    </tr>\n",
       "    <tr>\n",
       "      <th>unique</th>\n",
       "      <td>English</td>\n",
       "      <td>unique</td>\n",
       "      <td>7.005675</td>\n",
       "      <td>3348</td>\n",
       "    </tr>\n",
       "  </tbody>\n",
       "</table>\n",
       "</div>"
      ],
      "text/plain": [
       "           language   frequency  mean_word_length  num_words\n",
       "frequency                                                   \n",
       "frequent    English    frequent          4.371517        323\n",
       "infrequent  English  infrequent          5.825243       1442\n",
       "unique      English      unique          7.005675       3348"
      ]
     },
     "execution_count": 116,
     "metadata": {},
     "output_type": "execute_result"
    }
   ],
   "source": [
    "summarize_text(language,text)"
   ]
  },
  {
   "cell_type": "code",
   "execution_count": 97,
   "metadata": {},
   "outputs": [],
   "source": [
    "hamlets.drop(\"Unnamed: 0\",axis = 1,inplace = True)"
   ]
  },
  {
   "cell_type": "markdown",
   "metadata": {},
   "source": [
    "### Exercise 6\n",
    "\n",
    "In this exercise, we will plot our results and look for differences across each translation.\n",
    "\n",
    "#### Instructions \n",
    "- Plot the word statistics of each translations on a single plot. Note that we have already done most of the work for you.\n",
    "- Consider: do the word statistics differ by translation?"
   ]
  },
  {
   "cell_type": "code",
   "execution_count": 121,
   "metadata": {},
   "outputs": [],
   "source": [
    "grouped_data = pd.DataFrame()\n",
    "\n",
    "for i in range(0,len(hamlets)):\n",
    "    language,text = hamlets.iloc[i]\n",
    "    sub_data = summarize_text(language,text)\n",
    "    grouped_data = grouped_data.append(sub_data)\n",
    "   \n",
    "    "
   ]
  },
  {
   "cell_type": "code",
   "execution_count": 122,
   "metadata": {},
   "outputs": [
    {
     "data": {
      "text/html": [
       "<div>\n",
       "<style scoped>\n",
       "    .dataframe tbody tr th:only-of-type {\n",
       "        vertical-align: middle;\n",
       "    }\n",
       "\n",
       "    .dataframe tbody tr th {\n",
       "        vertical-align: top;\n",
       "    }\n",
       "\n",
       "    .dataframe thead th {\n",
       "        text-align: right;\n",
       "    }\n",
       "</style>\n",
       "<table border=\"1\" class=\"dataframe\">\n",
       "  <thead>\n",
       "    <tr style=\"text-align: right;\">\n",
       "      <th></th>\n",
       "      <th>language</th>\n",
       "      <th>frequency</th>\n",
       "      <th>mean_word_length</th>\n",
       "      <th>num_words</th>\n",
       "    </tr>\n",
       "    <tr>\n",
       "      <th>frequency</th>\n",
       "      <th></th>\n",
       "      <th></th>\n",
       "      <th></th>\n",
       "      <th></th>\n",
       "    </tr>\n",
       "  </thead>\n",
       "  <tbody>\n",
       "    <tr>\n",
       "      <th>frequent</th>\n",
       "      <td>English</td>\n",
       "      <td>frequent</td>\n",
       "      <td>4.371517</td>\n",
       "      <td>323</td>\n",
       "    </tr>\n",
       "    <tr>\n",
       "      <th>infrequent</th>\n",
       "      <td>English</td>\n",
       "      <td>infrequent</td>\n",
       "      <td>5.825243</td>\n",
       "      <td>1442</td>\n",
       "    </tr>\n",
       "    <tr>\n",
       "      <th>unique</th>\n",
       "      <td>English</td>\n",
       "      <td>unique</td>\n",
       "      <td>7.005675</td>\n",
       "      <td>3348</td>\n",
       "    </tr>\n",
       "    <tr>\n",
       "      <th>frequent</th>\n",
       "      <td>German</td>\n",
       "      <td>frequent</td>\n",
       "      <td>4.528053</td>\n",
       "      <td>303</td>\n",
       "    </tr>\n",
       "    <tr>\n",
       "      <th>infrequent</th>\n",
       "      <td>German</td>\n",
       "      <td>infrequent</td>\n",
       "      <td>6.481830</td>\n",
       "      <td>1596</td>\n",
       "    </tr>\n",
       "    <tr>\n",
       "      <th>unique</th>\n",
       "      <td>German</td>\n",
       "      <td>unique</td>\n",
       "      <td>9.006987</td>\n",
       "      <td>5582</td>\n",
       "    </tr>\n",
       "    <tr>\n",
       "      <th>frequent</th>\n",
       "      <td>Portuguese</td>\n",
       "      <td>frequent</td>\n",
       "      <td>4.417625</td>\n",
       "      <td>261</td>\n",
       "    </tr>\n",
       "    <tr>\n",
       "      <th>infrequent</th>\n",
       "      <td>Portuguese</td>\n",
       "      <td>infrequent</td>\n",
       "      <td>6.497870</td>\n",
       "      <td>1643</td>\n",
       "    </tr>\n",
       "    <tr>\n",
       "      <th>unique</th>\n",
       "      <td>Portuguese</td>\n",
       "      <td>unique</td>\n",
       "      <td>8.669778</td>\n",
       "      <td>5357</td>\n",
       "    </tr>\n",
       "  </tbody>\n",
       "</table>\n",
       "</div>"
      ],
      "text/plain": [
       "              language   frequency  mean_word_length  num_words\n",
       "frequency                                                      \n",
       "frequent       English    frequent          4.371517        323\n",
       "infrequent     English  infrequent          5.825243       1442\n",
       "unique         English      unique          7.005675       3348\n",
       "frequent        German    frequent          4.528053        303\n",
       "infrequent      German  infrequent          6.481830       1596\n",
       "unique          German      unique          9.006987       5582\n",
       "frequent    Portuguese    frequent          4.417625        261\n",
       "infrequent  Portuguese  infrequent          6.497870       1643\n",
       "unique      Portuguese      unique          8.669778       5357"
      ]
     },
     "execution_count": 122,
     "metadata": {},
     "output_type": "execute_result"
    }
   ],
   "source": [
    "grouped_data"
   ]
  },
  {
   "cell_type": "code",
   "execution_count": 120,
   "metadata": {},
   "outputs": [
    {
     "data": {
      "text/html": [
       "<div>\n",
       "<style scoped>\n",
       "    .dataframe tbody tr th:only-of-type {\n",
       "        vertical-align: middle;\n",
       "    }\n",
       "\n",
       "    .dataframe tbody tr th {\n",
       "        vertical-align: top;\n",
       "    }\n",
       "\n",
       "    .dataframe thead th {\n",
       "        text-align: right;\n",
       "    }\n",
       "</style>\n",
       "<table border=\"1\" class=\"dataframe\">\n",
       "  <thead>\n",
       "    <tr style=\"text-align: right;\">\n",
       "      <th></th>\n",
       "    </tr>\n",
       "  </thead>\n",
       "  <tbody>\n",
       "  </tbody>\n",
       "</table>\n",
       "</div>"
      ],
      "text/plain": [
       "Empty DataFrame\n",
       "Columns: []\n",
       "Index: []"
      ]
     },
     "execution_count": 120,
     "metadata": {},
     "output_type": "execute_result"
    }
   ],
   "source": [
    "grouped_data"
   ]
  },
  {
   "cell_type": "code",
   "execution_count": null,
   "metadata": {},
   "outputs": [],
   "source": []
  },
  {
   "cell_type": "code",
   "execution_count": null,
   "metadata": {},
   "outputs": [],
   "source": []
  },
  {
   "cell_type": "code",
   "execution_count": null,
   "metadata": {},
   "outputs": [],
   "source": []
  },
  {
   "cell_type": "code",
   "execution_count": null,
   "metadata": {},
   "outputs": [],
   "source": []
  },
  {
   "cell_type": "code",
   "execution_count": null,
   "metadata": {},
   "outputs": [],
   "source": []
  },
  {
   "cell_type": "code",
   "execution_count": 123,
   "metadata": {},
   "outputs": [
    {
     "data": {
      "image/png": "[encoded data removed]",
      "text/plain": [
       "<Figure size 432x288 with 1 Axes>"
      ]
     },
     "metadata": {
      "needs_background": "light"
     },
     "output_type": "display_data"
    }
   ],
   "source": [
    "colors = {\"Portuguese\": \"green\", \"English\": \"blue\", \"German\": \"red\"}\n",
    "markers = {\"frequent\": \"o\",\"infrequent\": \"s\", \"unique\": \"^\"}\n",
    "import matplotlib.pyplot as plt\n",
    "for i in range(grouped_data.shape[0]):\n",
    "    row = grouped_data.iloc[i]\n",
    "    plt.plot(row.mean_word_length, row.num_words,\n",
    "        marker=markers[row.frequency],\n",
    "        color = colors[row.language],\n",
    "        markersize = 10\n",
    "    )\n",
    "\n",
    "color_legend = []\n",
    "marker_legend = []\n",
    "for color in colors:\n",
    "    color_legend.append(\n",
    "        plt.plot([], [],\n",
    "        color=colors[color],\n",
    "        marker=\"o\",\n",
    "        label = color, markersize = 10, linestyle=\"None\")\n",
    "    )\n",
    "for marker in markers:\n",
    "    marker_legend.append(\n",
    "        plt.plot([], [],\n",
    "        color=\"k\",\n",
    "        marker=markers[marker],\n",
    "        label = marker, markersize = 10, linestyle=\"None\")\n",
    "    )\n",
    "plt.legend(numpoints=1, loc = \"upper left\")\n",
    "\n",
    "plt.xlabel(\"Mean Word Length\")\n",
    "plt.ylabel(\"Number of Words\")\n",
    "# write your code to display the plot here!\n",
    "plt.show()"
   ]
  },
  {
   "cell_type": "markdown",
   "metadata": {},
   "source": [
    "# DONE\n",
    " "
   ]
  },
  {
   "cell_type": "markdown",
   "metadata": {},
   "source": [
    "100 % OBTAINED"
   ]
  },
  {
   "cell_type": "code",
   "execution_count": null,
   "metadata": {},
   "outputs": [],
   "source": []
  }
 ],
 "metadata": {
  "kernelspec": {
   "display_name": "Python 3",
   "language": "python",
   "name": "python3"
  },
  "language_info": {
   "codemirror_mode": {
    "name": "ipython",
    "version": 3
   },
   "file_extension": ".py",
   "mimetype": "text/x-python",
   "name": "python",
   "nbconvert_exporter": "python",
   "pygments_lexer": "ipython3",
   "version": "3.7.6"
  }
 },
 "nbformat": 4,
 "nbformat_minor": 4
}
